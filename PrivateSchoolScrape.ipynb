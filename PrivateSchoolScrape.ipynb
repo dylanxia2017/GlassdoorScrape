{
 "cells": [
  {
   "cell_type": "code",
   "execution_count": 2,
   "metadata": {},
   "outputs": [],
   "source": [
    "import pandas as pd\n",
    "import requests\n",
    "from bs4 import BeautifulSoup\n",
    "from time import sleep\n",
    "from fake_useragent import UserAgent\n",
    "from IPython.core.interactiveshell import InteractiveShell\n",
    "InteractiveShell.ast_node_interactivity = \"all\"\n",
    "import warnings \n",
    "warnings.filterwarnings('ignore')"
   ]
  },
  {
   "cell_type": "code",
   "execution_count": 21,
   "metadata": {},
   "outputs": [
    {
     "name": "stdout",
     "output_type": "stream",
     "text": [
      "Scraping Page:  1\n",
      "Scraping Page:  2\n"
     ]
    }
   ],
   "source": [
    "user_agent = UserAgent()\n",
    "school_name = []\n",
    "school_link = []\n",
    "for i in range(1,3):\n",
    "    print(\"Scraping Page: \", i)\n",
    "    main_url = \"https://www.niche.com/k12/search/best-private-high-schools/s/new-york/?page={}\".format(i)\n",
    "    page = requests.get(main_url, headers={'user-agent':user_agent.chrome})\n",
    "    soup = BeautifulSoup(page.content, \"lxml\")\n",
    "    all_divs = soup.select('li.search-results__list__item h2.search-result__title')\n",
    "    for div in all_divs:\n",
    "        school_name.append(div.get_text())\n",
    "\n",
    "    all_divs = soup.select(\"li.search-results__list__item a.search-result__link\")\n",
    "    for div in all_divs:\n",
    "        school_link.append(div[\"href\"])"
   ]
  },
  {
   "cell_type": "code",
   "execution_count": 37,
   "metadata": {},
   "outputs": [],
   "source": [
    "information = []\n",
    "for i in range(len(school_link)):\n",
    "    main_url = school_link[i]\n",
    "    page = requests.get(main_url, headers={'user-agent':user_agent.chrome})\n",
    "    soup = BeautifulSoup(page.content, \"lxml\")\n",
    "    all_divs = soup.select('section#about div.profile__buckets div.profile__bucket--2')\n",
    "    for div in all_divs:\n",
    "        information.append(div.get_text())"
   ]
  },
  {
   "cell_type": "code",
   "execution_count": 39,
   "metadata": {},
   "outputs": [],
   "source": [
    "school_df = pd.DataFrame({\"SchoolName\":school_name,\"Information\":information})"
   ]
  },
  {
   "cell_type": "code",
   "execution_count": 52,
   "metadata": {},
   "outputs": [],
   "source": [
    "school_df[\"Address\"] = school_df[\"Information\"].apply(lambda x: x.split(\"Address\")[1]).apply(lambda x: x.split(\"Telephone\")[0])\n"
   ]
  },
  {
   "cell_type": "code",
   "execution_count": 57,
   "metadata": {},
   "outputs": [],
   "source": [
    "school_df[\"Telephone\"] = school_df[\"Information\"].apply(lambda x: x.split(\"Telephone\")[1]).apply(lambda x: x.split(\"Website\")[0])\n"
   ]
  },
  {
   "cell_type": "code",
   "execution_count": 61,
   "metadata": {},
   "outputs": [],
   "source": [
    "school_df[\"Link\"] = school_df[\"Information\"].apply(lambda x: \"https://www.\" + x.split(\"Website\")[1])\n"
   ]
  },
  {
   "cell_type": "code",
   "execution_count": 66,
   "metadata": {},
   "outputs": [],
   "source": [
    "school_df.drop(\"Information\",axis = 1, inplace = True)"
   ]
  },
  {
   "cell_type": "code",
   "execution_count": 67,
   "metadata": {},
   "outputs": [
    {
     "data": {
      "text/html": [
       "<div>\n",
       "<style scoped>\n",
       "    .dataframe tbody tr th:only-of-type {\n",
       "        vertical-align: middle;\n",
       "    }\n",
       "\n",
       "    .dataframe tbody tr th {\n",
       "        vertical-align: top;\n",
       "    }\n",
       "\n",
       "    .dataframe thead th {\n",
       "        text-align: right;\n",
       "    }\n",
       "</style>\n",
       "<table border=\"1\" class=\"dataframe\">\n",
       "  <thead>\n",
       "    <tr style=\"text-align: right;\">\n",
       "      <th></th>\n",
       "      <th>SchoolName</th>\n",
       "      <th>Address</th>\n",
       "      <th>Telephone</th>\n",
       "      <th>Link</th>\n",
       "    </tr>\n",
       "  </thead>\n",
       "  <tbody>\n",
       "    <tr>\n",
       "      <th>0</th>\n",
       "      <td>Trinity School</td>\n",
       "      <td>139 W 91st StNew York, NY 10024</td>\n",
       "      <td>(212) 932-6858</td>\n",
       "      <td>https://www.trinityschoolnyc.org/page</td>\n",
       "    </tr>\n",
       "    <tr>\n",
       "      <th>1</th>\n",
       "      <td>Regis High School</td>\n",
       "      <td>55 E 84th StNew York, NY 10028</td>\n",
       "      <td>(212) 288-1100</td>\n",
       "      <td>https://www.regis.org</td>\n",
       "    </tr>\n",
       "    <tr>\n",
       "      <th>2</th>\n",
       "      <td>Horace Mann School</td>\n",
       "      <td>231 West 246th StBronx, NY 10471</td>\n",
       "      <td>(718) 432-4000</td>\n",
       "      <td>https://www.horacemann.org</td>\n",
       "    </tr>\n",
       "    <tr>\n",
       "      <th>3</th>\n",
       "      <td>Collegiate School</td>\n",
       "      <td>301 Freedom Place SouthNew York, NY 10069</td>\n",
       "      <td>(212) 812-8521</td>\n",
       "      <td>https://www.collegiateschool.org</td>\n",
       "    </tr>\n",
       "    <tr>\n",
       "      <th>4</th>\n",
       "      <td>Brearley School</td>\n",
       "      <td>610 E 83rd StNew York, NY 10028</td>\n",
       "      <td>(212) 744-8582</td>\n",
       "      <td>https://www.brearley.org</td>\n",
       "    </tr>\n",
       "  </tbody>\n",
       "</table>\n",
       "</div>"
      ],
      "text/plain": [
       "           SchoolName                                    Address  \\\n",
       "0      Trinity School            139 W 91st StNew York, NY 10024   \n",
       "1   Regis High School             55 E 84th StNew York, NY 10028   \n",
       "2  Horace Mann School           231 West 246th StBronx, NY 10471   \n",
       "3   Collegiate School  301 Freedom Place SouthNew York, NY 10069   \n",
       "4     Brearley School            610 E 83rd StNew York, NY 10028   \n",
       "\n",
       "        Telephone                                   Link  \n",
       "0  (212) 932-6858  https://www.trinityschoolnyc.org/page  \n",
       "1  (212) 288-1100                  https://www.regis.org  \n",
       "2  (718) 432-4000             https://www.horacemann.org  \n",
       "3  (212) 812-8521       https://www.collegiateschool.org  \n",
       "4  (212) 744-8582               https://www.brearley.org  "
      ]
     },
     "execution_count": 67,
     "metadata": {},
     "output_type": "execute_result"
    }
   ],
   "source": [
    "school_df.head()"
   ]
  },
  {
   "cell_type": "code",
   "execution_count": 69,
   "metadata": {},
   "outputs": [],
   "source": [
    "school_df.to_excel(\"PrivateHighSchool.xlsx\",sheet_name=\"PrivateHighSchool\")"
   ]
  },
  {
   "cell_type": "code",
   "execution_count": null,
   "metadata": {},
   "outputs": [],
   "source": []
  }
 ],
 "metadata": {
  "kernelspec": {
   "display_name": "Python 3",
   "language": "python",
   "name": "python3"
  },
  "language_info": {
   "codemirror_mode": {
    "name": "ipython",
    "version": 3
   },
   "file_extension": ".py",
   "mimetype": "text/x-python",
   "name": "python",
   "nbconvert_exporter": "python",
   "pygments_lexer": "ipython3",
   "version": "3.7.1"
  }
 },
 "nbformat": 4,
 "nbformat_minor": 2
}
