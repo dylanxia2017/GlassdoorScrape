{
  "nbformat": 4,
  "nbformat_minor": 0,
  "metadata": {
    "colab": {
      "name": "glassdoor_updated.ipynb",
      "version": "0.3.2",
      "provenance": []
    },
    "kernelspec": {
      "display_name": "Python 3",
      "language": "python",
      "name": "python3"
    },
    "accelerator": "GPU"
  },
  "cells": [
    {
      "metadata": {
        "id": "TzjdQnXvdU6Y",
        "colab_type": "code",
        "colab": {}
      },
      "cell_type": "code",
      "source": [
        "!pip install -q fake_useragent\n",
        "!pip install -q gspread_pandas\n",
        "!pip install -q lxml\n",
        "!pip install -q gspread_dataframe"
      ],
      "execution_count": 0,
      "outputs": []
    },
    {
      "metadata": {
        "id": "rCjuFELndK_s",
        "colab_type": "code",
        "colab": {}
      },
      "cell_type": "code",
      "source": [
        "import pandas as pd\n",
        "import numpy as np\n",
        "import requests\n",
        "from bs4 import BeautifulSoup\n",
        "from time import sleep\n",
        "from fake_useragent import UserAgent\n",
        "%matplotlib inline\n",
        "from IPython.core.interactiveshell import InteractiveShell\n",
        "InteractiveShell.ast_node_interactivity = \"all\"\n",
        "import warnings \n",
        "warnings.filterwarnings('ignore')\n",
        "import datetime\n",
        "import re\n",
        "from gspread_pandas import Spread\n",
        "from oauth2client.service_account import ServiceAccountCredentials\n",
        "import gspread"
      ],
      "execution_count": 0,
      "outputs": []
    },
    {
      "metadata": {
        "id": "0Yt-UcTxdZUp",
        "colab_type": "code",
        "colab": {}
      },
      "cell_type": "code",
      "source": [
        "!pip install --upgrade -q gspread\n",
        "\n",
        "from google.colab import auth\n",
        "auth.authenticate_user()\n",
        "\n",
        "import gspread\n",
        "from oauth2client.client import GoogleCredentials\n",
        "\n",
        "gc = gspread.authorize(GoogleCredentials.get_application_default())\n"
      ],
      "execution_count": 0,
      "outputs": []
    },
    {
      "metadata": {
        "id": "X1auxI7OdK_w",
        "colab_type": "code",
        "colab": {
          "base_uri": "https://localhost:8080/",
          "height": 51
        },
        "outputId": "89fd758f-38cc-40f3-9587-8ee4a6df7bb2"
      },
      "cell_type": "code",
      "source": [
        "worksheet = gc.open('Business Development')\n",
        "print(worksheet)\n",
        "\n",
        "job_title = worksheet.worksheet(\"Job Title - EXCLUSIONS\")\n",
        "rows1 = job_title.get_all_values()\n",
        "\n",
        "df1 = pd.DataFrame.from_records(rows1)\n",
        "df1.columns = df1.iloc[0]\n",
        "df1 = df1.iloc[1:]\n",
        "Excluded_jobs = df1['Job Titles'].tolist()\n",
        "\n",
        "\n",
        "digital = worksheet.worksheet(\"Digital Marketing Agencies - EXCLUSION\")\n",
        "row2 = digital.get_all_values()\n",
        "df2 = pd.DataFrame.from_records(row2)\n",
        "df2.columns = df2.iloc[0]\n",
        "df2 = df2.iloc[1:]\n",
        "df2['Name'] = df2['Name'].apply(lambda x: x.strip())\n",
        "Digital_Mkt_names = df2['Name'].tolist()\n",
        "\n",
        "staff = worksheet.worksheet(\"Staffing Agencies - EXCLUSION\")\n",
        "row3 = staff.get_all_values()\n",
        "df3 = pd.DataFrame.from_records(row3)\n",
        "df3.columns = df3.iloc[0]\n",
        "df3 = df3.iloc[1:]\n",
        "df3['Name'] = df3['Name'].apply(lambda x: x.strip())\n",
        "Staff_Agency_names = df3['Name'].tolist()\n",
        "\n",
        "\n",
        "big_company = worksheet.worksheet(\"Big Company - EXCLUSION\")\n",
        "row4 = big_company.get_all_values()\n",
        "df4 = pd.DataFrame.from_records(row4)\n",
        "df4.columns = df4.iloc[0]\n",
        "df4 = df4.iloc[1:]\n",
        "df4['Name'] = df4['Name'].apply(lambda x:x.strip())\n",
        "Big_Company_names = df4['Name'].tolist()\n",
        "\n",
        "Excluded_List = Digital_Mkt_names + Staff_Agency_names\n",
        "len(Excluded_List)"
      ],
      "execution_count": 4,
      "outputs": [
        {
          "output_type": "stream",
          "text": [
            "<Spreadsheet 'Business Development' id:1blY5SL0qvQ9g523nEcDZ5sfhHJ2U8niVSnOb0bBSRGs>\n"
          ],
          "name": "stdout"
        },
        {
          "output_type": "execute_result",
          "data": {
            "text/plain": [
              "1140"
            ]
          },
          "metadata": {
            "tags": []
          },
          "execution_count": 4
        }
      ]
    },
    {
      "metadata": {
        "id": "DQTSaXTpdK_1",
        "colab_type": "text"
      },
      "cell_type": "markdown",
      "source": [
        "## VP Marketing"
      ]
    },
    {
      "metadata": {
        "id": "pT3Av6T_dK_2",
        "colab_type": "code",
        "colab": {
          "base_uri": "https://localhost:8080/",
          "height": 527
        },
        "outputId": "bf19d369-5566-4b62-b27b-915420c0dbc4"
      },
      "cell_type": "code",
      "source": [
        "vpmkt_urls = []\n",
        "vpmkt_info = []\n",
        "vpmkt_job_title = []\n",
        "user_agent = UserAgent()\n",
        "\n",
        "for i in range(30):\n",
        "    print(\"Scraping Page:\",i+1)\n",
        "    main_url = 'https://www.glassdoor.com/Job/us-vp-marketing-jobs-SRCH_IL.0,2_IN1_KO3,15_IP{}.htm?fromAge=1'.format(i+1)\n",
        "\n",
        "    page = requests.get(main_url,headers={'user-agent':user_agent.chrome})\n",
        "\n",
        "    soup = BeautifulSoup(page.content,'lxml')\n",
        "\n",
        "    all_divs = soup.select('li.jl div div div a.jobLink')\n",
        "    if all_divs != []:\n",
        "        for div in all_divs:\n",
        "            vpmkt_urls.append(div['href'])\n",
        "            vpmkt_job_title.append(div.get_text())\n",
        "\n",
        "    sleep(np.random.randint(5))\n",
        "\n",
        "    all_divs1 = soup.select('li.jl div div.flexbox.empLoc div')\n",
        "    if all_divs1 != []:\n",
        "        for div in all_divs1:\n",
        "            if div.get_text() != 'New' and div.get_text() != \"We're Hiring\" and div.get_text() != \"EASY APPLY\" and div.get_text() != \"Hot\" and div.get_text() != 'Award Winner':\n",
        "              vpmkt_info.append(div.get_text())\n",
        "\n",
        "                     \n",
        "        \n",
        "    sleep(np.random.randint(5))"
      ],
      "execution_count": 5,
      "outputs": [
        {
          "output_type": "stream",
          "text": [
            "Scraping Page: 1\n",
            "Scraping Page: 2\n",
            "Scraping Page: 3\n",
            "Scraping Page: 4\n",
            "Scraping Page: 5\n",
            "Scraping Page: 6\n",
            "Scraping Page: 7\n",
            "Scraping Page: 8\n",
            "Scraping Page: 9\n",
            "Scraping Page: 10\n",
            "Scraping Page: 11\n",
            "Scraping Page: 12\n",
            "Scraping Page: 13\n",
            "Scraping Page: 14\n",
            "Scraping Page: 15\n",
            "Scraping Page: 16\n",
            "Scraping Page: 17\n",
            "Scraping Page: 18\n",
            "Scraping Page: 19\n",
            "Scraping Page: 20\n",
            "Scraping Page: 21\n",
            "Scraping Page: 22\n",
            "Scraping Page: 23\n",
            "Scraping Page: 24\n",
            "Scraping Page: 25\n",
            "Scraping Page: 26\n",
            "Scraping Page: 27\n",
            "Scraping Page: 28\n",
            "Scraping Page: 29\n",
            "Scraping Page: 30\n"
          ],
          "name": "stdout"
        }
      ]
    },
    {
      "metadata": {
        "id": "xMk-eN77dK_5",
        "colab_type": "code",
        "colab": {
          "base_uri": "https://localhost:8080/",
          "height": 34
        },
        "outputId": "4487c365-e239-454a-a947-cf793abde934"
      },
      "cell_type": "code",
      "source": [
        "len(vpmkt_urls)\n",
        "len(vpmkt_job_title)\n",
        "len(vpmkt_info)"
      ],
      "execution_count": 6,
      "outputs": [
        {
          "output_type": "execute_result",
          "data": {
            "text/plain": [
              "565"
            ]
          },
          "metadata": {
            "tags": []
          },
          "execution_count": 6
        },
        {
          "output_type": "execute_result",
          "data": {
            "text/plain": [
              "565"
            ]
          },
          "metadata": {
            "tags": []
          },
          "execution_count": 6
        },
        {
          "output_type": "execute_result",
          "data": {
            "text/plain": [
              "565"
            ]
          },
          "metadata": {
            "tags": []
          },
          "execution_count": 6
        }
      ]
    },
    {
      "metadata": {
        "id": "IFlPvKeddK_7",
        "colab_type": "code",
        "colab": {}
      },
      "cell_type": "code",
      "source": [
        "vp_mkt_urls = []\n",
        "base_link = 'http://www.glassdoor.com'\n",
        "for link in vpmkt_urls:\n",
        "    vp_mkt_urls.append(base_link + link)"
      ],
      "execution_count": 0,
      "outputs": []
    },
    {
      "metadata": {
        "id": "EnN_tXJidK_-",
        "colab_type": "code",
        "colab": {
          "base_uri": "https://localhost:8080/",
          "height": 204
        },
        "outputId": "748b9671-e9b1-4ede-cb7b-2743ff3fb952"
      },
      "cell_type": "code",
      "source": [
        "vpmkt_df = pd.DataFrame({'Job_Title':vpmkt_job_title,\"INFO\":vpmkt_info,\"URLs\":vp_mkt_urls})\n",
        "vpmkt_df = vpmkt_df[~(vpmkt_df['Job_Title'].str.contains(\"None\"))]\n",
        "vpmkt_df = vpmkt_df[~(vpmkt_df['INFO'].str.contains(\"None\"))]\n",
        "vpmkt_df['Company_Name'] = vpmkt_df['INFO'].apply(lambda x: x.strip().split(\"–\")[0].strip())\n",
        "vpmkt_df['Location'] = vpmkt_df['INFO'].apply(lambda x: x.strip().split(\"–\")[1].strip())\n",
        "vpmkt_df = vpmkt_df.drop(\"INFO\",axis=1)\n",
        "vpmkt_df = vpmkt_df.reset_index(drop=True)\n",
        "vpmkt_df.head()"
      ],
      "execution_count": 8,
      "outputs": [
        {
          "output_type": "execute_result",
          "data": {
            "text/html": [
              "<div>\n",
              "<style scoped>\n",
              "    .dataframe tbody tr th:only-of-type {\n",
              "        vertical-align: middle;\n",
              "    }\n",
              "\n",
              "    .dataframe tbody tr th {\n",
              "        vertical-align: top;\n",
              "    }\n",
              "\n",
              "    .dataframe thead th {\n",
              "        text-align: right;\n",
              "    }\n",
              "</style>\n",
              "<table border=\"1\" class=\"dataframe\">\n",
              "  <thead>\n",
              "    <tr style=\"text-align: right;\">\n",
              "      <th></th>\n",
              "      <th>Job_Title</th>\n",
              "      <th>URLs</th>\n",
              "      <th>Company_Name</th>\n",
              "      <th>Location</th>\n",
              "    </tr>\n",
              "  </thead>\n",
              "  <tbody>\n",
              "    <tr>\n",
              "      <th>0</th>\n",
              "      <td>Director of Marketing</td>\n",
              "      <td>http://www.glassdoor.com/partner/jobListing.ht...</td>\n",
              "      <td>LandaJob Advertising &amp; Marketing Talent</td>\n",
              "      <td>Kansas City, MO</td>\n",
              "    </tr>\n",
              "    <tr>\n",
              "      <th>1</th>\n",
              "      <td>VP Marketing</td>\n",
              "      <td>http://www.glassdoor.com/partner/jobListing.ht...</td>\n",
              "      <td>Lai Ventures - For Early Stage Client</td>\n",
              "      <td>Scottsdale, AZ</td>\n",
              "    </tr>\n",
              "    <tr>\n",
              "      <th>2</th>\n",
              "      <td>VP of eCommerce Marketing</td>\n",
              "      <td>http://www.glassdoor.com/partner/jobListing.ht...</td>\n",
              "      <td>RealTruck</td>\n",
              "      <td>Ocala, FL</td>\n",
              "    </tr>\n",
              "    <tr>\n",
              "      <th>3</th>\n",
              "      <td>Marketing Analyst</td>\n",
              "      <td>http://www.glassdoor.com/partner/jobListing.ht...</td>\n",
              "      <td>Owlet Baby Care</td>\n",
              "      <td>Lehi, UT</td>\n",
              "    </tr>\n",
              "    <tr>\n",
              "      <th>4</th>\n",
              "      <td>VP, Marketing</td>\n",
              "      <td>http://www.glassdoor.com/partner/jobListing.ht...</td>\n",
              "      <td>Walt Disney Company</td>\n",
              "      <td>Burbank, CA</td>\n",
              "    </tr>\n",
              "  </tbody>\n",
              "</table>\n",
              "</div>"
            ],
            "text/plain": [
              "                   Job_Title  \\\n",
              "0      Director of Marketing   \n",
              "1               VP Marketing   \n",
              "2  VP of eCommerce Marketing   \n",
              "3          Marketing Analyst   \n",
              "4              VP, Marketing   \n",
              "\n",
              "                                                URLs  \\\n",
              "0  http://www.glassdoor.com/partner/jobListing.ht...   \n",
              "1  http://www.glassdoor.com/partner/jobListing.ht...   \n",
              "2  http://www.glassdoor.com/partner/jobListing.ht...   \n",
              "3  http://www.glassdoor.com/partner/jobListing.ht...   \n",
              "4  http://www.glassdoor.com/partner/jobListing.ht...   \n",
              "\n",
              "                              Company_Name         Location  \n",
              "0  LandaJob Advertising & Marketing Talent  Kansas City, MO  \n",
              "1    Lai Ventures - For Early Stage Client   Scottsdale, AZ  \n",
              "2                                RealTruck        Ocala, FL  \n",
              "3                          Owlet Baby Care         Lehi, UT  \n",
              "4                      Walt Disney Company      Burbank, CA  "
            ]
          },
          "metadata": {
            "tags": []
          },
          "execution_count": 8
        }
      ]
    },
    {
      "metadata": {
        "id": "lfDXbZRgdLAB",
        "colab_type": "code",
        "colab": {
          "base_uri": "https://localhost:8080/",
          "height": 425
        },
        "outputId": "f6f062fe-0994-4f78-8077-c119750f1659"
      },
      "cell_type": "code",
      "source": [
        "vpmkt_df = vpmkt_df.drop_duplicates(subset=['Company_Name']).reset_index(drop=True)\n",
        "len(vpmkt_df)\n",
        "vpmkt_df.head()\n",
        "vpmkt_df['Job_Title'] = vpmkt_df['Job_Title'].apply(lambda x: x if \"Marketing\" in x else 'None')\n",
        "vpmkt_df = vpmkt_df[vpmkt_df['Job_Title'] != 'None'].reset_index(drop=True)\n",
        "len(vpmkt_df)\n",
        "vpmkt_df.head()"
      ],
      "execution_count": 9,
      "outputs": [
        {
          "output_type": "execute_result",
          "data": {
            "text/plain": [
              "456"
            ]
          },
          "metadata": {
            "tags": []
          },
          "execution_count": 9
        },
        {
          "output_type": "execute_result",
          "data": {
            "text/html": [
              "<div>\n",
              "<style scoped>\n",
              "    .dataframe tbody tr th:only-of-type {\n",
              "        vertical-align: middle;\n",
              "    }\n",
              "\n",
              "    .dataframe tbody tr th {\n",
              "        vertical-align: top;\n",
              "    }\n",
              "\n",
              "    .dataframe thead th {\n",
              "        text-align: right;\n",
              "    }\n",
              "</style>\n",
              "<table border=\"1\" class=\"dataframe\">\n",
              "  <thead>\n",
              "    <tr style=\"text-align: right;\">\n",
              "      <th></th>\n",
              "      <th>Job_Title</th>\n",
              "      <th>URLs</th>\n",
              "      <th>Company_Name</th>\n",
              "      <th>Location</th>\n",
              "    </tr>\n",
              "  </thead>\n",
              "  <tbody>\n",
              "    <tr>\n",
              "      <th>0</th>\n",
              "      <td>Director of Marketing</td>\n",
              "      <td>http://www.glassdoor.com/partner/jobListing.ht...</td>\n",
              "      <td>LandaJob Advertising &amp; Marketing Talent</td>\n",
              "      <td>Kansas City, MO</td>\n",
              "    </tr>\n",
              "    <tr>\n",
              "      <th>1</th>\n",
              "      <td>VP Marketing</td>\n",
              "      <td>http://www.glassdoor.com/partner/jobListing.ht...</td>\n",
              "      <td>Lai Ventures - For Early Stage Client</td>\n",
              "      <td>Scottsdale, AZ</td>\n",
              "    </tr>\n",
              "    <tr>\n",
              "      <th>2</th>\n",
              "      <td>VP of eCommerce Marketing</td>\n",
              "      <td>http://www.glassdoor.com/partner/jobListing.ht...</td>\n",
              "      <td>RealTruck</td>\n",
              "      <td>Ocala, FL</td>\n",
              "    </tr>\n",
              "    <tr>\n",
              "      <th>3</th>\n",
              "      <td>Marketing Analyst</td>\n",
              "      <td>http://www.glassdoor.com/partner/jobListing.ht...</td>\n",
              "      <td>Owlet Baby Care</td>\n",
              "      <td>Lehi, UT</td>\n",
              "    </tr>\n",
              "    <tr>\n",
              "      <th>4</th>\n",
              "      <td>VP, Marketing</td>\n",
              "      <td>http://www.glassdoor.com/partner/jobListing.ht...</td>\n",
              "      <td>Walt Disney Company</td>\n",
              "      <td>Burbank, CA</td>\n",
              "    </tr>\n",
              "  </tbody>\n",
              "</table>\n",
              "</div>"
            ],
            "text/plain": [
              "                   Job_Title  \\\n",
              "0      Director of Marketing   \n",
              "1               VP Marketing   \n",
              "2  VP of eCommerce Marketing   \n",
              "3          Marketing Analyst   \n",
              "4              VP, Marketing   \n",
              "\n",
              "                                                URLs  \\\n",
              "0  http://www.glassdoor.com/partner/jobListing.ht...   \n",
              "1  http://www.glassdoor.com/partner/jobListing.ht...   \n",
              "2  http://www.glassdoor.com/partner/jobListing.ht...   \n",
              "3  http://www.glassdoor.com/partner/jobListing.ht...   \n",
              "4  http://www.glassdoor.com/partner/jobListing.ht...   \n",
              "\n",
              "                              Company_Name         Location  \n",
              "0  LandaJob Advertising & Marketing Talent  Kansas City, MO  \n",
              "1    Lai Ventures - For Early Stage Client   Scottsdale, AZ  \n",
              "2                                RealTruck        Ocala, FL  \n",
              "3                          Owlet Baby Care         Lehi, UT  \n",
              "4                      Walt Disney Company      Burbank, CA  "
            ]
          },
          "metadata": {
            "tags": []
          },
          "execution_count": 9
        },
        {
          "output_type": "execute_result",
          "data": {
            "text/plain": [
              "280"
            ]
          },
          "metadata": {
            "tags": []
          },
          "execution_count": 9
        },
        {
          "output_type": "execute_result",
          "data": {
            "text/html": [
              "<div>\n",
              "<style scoped>\n",
              "    .dataframe tbody tr th:only-of-type {\n",
              "        vertical-align: middle;\n",
              "    }\n",
              "\n",
              "    .dataframe tbody tr th {\n",
              "        vertical-align: top;\n",
              "    }\n",
              "\n",
              "    .dataframe thead th {\n",
              "        text-align: right;\n",
              "    }\n",
              "</style>\n",
              "<table border=\"1\" class=\"dataframe\">\n",
              "  <thead>\n",
              "    <tr style=\"text-align: right;\">\n",
              "      <th></th>\n",
              "      <th>Job_Title</th>\n",
              "      <th>URLs</th>\n",
              "      <th>Company_Name</th>\n",
              "      <th>Location</th>\n",
              "    </tr>\n",
              "  </thead>\n",
              "  <tbody>\n",
              "    <tr>\n",
              "      <th>0</th>\n",
              "      <td>Director of Marketing</td>\n",
              "      <td>http://www.glassdoor.com/partner/jobListing.ht...</td>\n",
              "      <td>LandaJob Advertising &amp; Marketing Talent</td>\n",
              "      <td>Kansas City, MO</td>\n",
              "    </tr>\n",
              "    <tr>\n",
              "      <th>1</th>\n",
              "      <td>VP Marketing</td>\n",
              "      <td>http://www.glassdoor.com/partner/jobListing.ht...</td>\n",
              "      <td>Lai Ventures - For Early Stage Client</td>\n",
              "      <td>Scottsdale, AZ</td>\n",
              "    </tr>\n",
              "    <tr>\n",
              "      <th>2</th>\n",
              "      <td>VP of eCommerce Marketing</td>\n",
              "      <td>http://www.glassdoor.com/partner/jobListing.ht...</td>\n",
              "      <td>RealTruck</td>\n",
              "      <td>Ocala, FL</td>\n",
              "    </tr>\n",
              "    <tr>\n",
              "      <th>3</th>\n",
              "      <td>Marketing Analyst</td>\n",
              "      <td>http://www.glassdoor.com/partner/jobListing.ht...</td>\n",
              "      <td>Owlet Baby Care</td>\n",
              "      <td>Lehi, UT</td>\n",
              "    </tr>\n",
              "    <tr>\n",
              "      <th>4</th>\n",
              "      <td>VP, Marketing</td>\n",
              "      <td>http://www.glassdoor.com/partner/jobListing.ht...</td>\n",
              "      <td>Walt Disney Company</td>\n",
              "      <td>Burbank, CA</td>\n",
              "    </tr>\n",
              "  </tbody>\n",
              "</table>\n",
              "</div>"
            ],
            "text/plain": [
              "                   Job_Title  \\\n",
              "0      Director of Marketing   \n",
              "1               VP Marketing   \n",
              "2  VP of eCommerce Marketing   \n",
              "3          Marketing Analyst   \n",
              "4              VP, Marketing   \n",
              "\n",
              "                                                URLs  \\\n",
              "0  http://www.glassdoor.com/partner/jobListing.ht...   \n",
              "1  http://www.glassdoor.com/partner/jobListing.ht...   \n",
              "2  http://www.glassdoor.com/partner/jobListing.ht...   \n",
              "3  http://www.glassdoor.com/partner/jobListing.ht...   \n",
              "4  http://www.glassdoor.com/partner/jobListing.ht...   \n",
              "\n",
              "                              Company_Name         Location  \n",
              "0  LandaJob Advertising & Marketing Talent  Kansas City, MO  \n",
              "1    Lai Ventures - For Early Stage Client   Scottsdale, AZ  \n",
              "2                                RealTruck        Ocala, FL  \n",
              "3                          Owlet Baby Care         Lehi, UT  \n",
              "4                      Walt Disney Company      Burbank, CA  "
            ]
          },
          "metadata": {
            "tags": []
          },
          "execution_count": 9
        }
      ]
    },
    {
      "metadata": {
        "id": "tTyLXHJ0dLAE",
        "colab_type": "code",
        "colab": {
          "base_uri": "https://localhost:8080/",
          "height": 323
        },
        "outputId": "eb811214-46fb-472c-a45a-b209e9786cbc"
      },
      "cell_type": "code",
      "source": [
        "vpmkt_df['Contact Email'] = np.nan\n",
        "vpmkt_df['Contact Name'] = np.nan\n",
        "vpmkt_df['Contact Position'] = np.nan\n",
        "vpmkt_df['Linkedin Sent Date'] = np.nan\n",
        "vpmkt_df['Date 1st Email Sent'] = np.nan\n",
        "vpmkt_df['date'] = str(datetime.datetime.now())\n",
        "vpmkt_df.head()\n",
        "len(vpmkt_df)"
      ],
      "execution_count": 10,
      "outputs": [
        {
          "output_type": "execute_result",
          "data": {
            "text/html": [
              "<div>\n",
              "<style scoped>\n",
              "    .dataframe tbody tr th:only-of-type {\n",
              "        vertical-align: middle;\n",
              "    }\n",
              "\n",
              "    .dataframe tbody tr th {\n",
              "        vertical-align: top;\n",
              "    }\n",
              "\n",
              "    .dataframe thead th {\n",
              "        text-align: right;\n",
              "    }\n",
              "</style>\n",
              "<table border=\"1\" class=\"dataframe\">\n",
              "  <thead>\n",
              "    <tr style=\"text-align: right;\">\n",
              "      <th></th>\n",
              "      <th>Job_Title</th>\n",
              "      <th>URLs</th>\n",
              "      <th>Company_Name</th>\n",
              "      <th>Location</th>\n",
              "      <th>Contact Email</th>\n",
              "      <th>Contact Name</th>\n",
              "      <th>Contact Position</th>\n",
              "      <th>Linkedin Sent Date</th>\n",
              "      <th>Date 1st Email Sent</th>\n",
              "      <th>date</th>\n",
              "    </tr>\n",
              "  </thead>\n",
              "  <tbody>\n",
              "    <tr>\n",
              "      <th>0</th>\n",
              "      <td>Director of Marketing</td>\n",
              "      <td>http://www.glassdoor.com/partner/jobListing.ht...</td>\n",
              "      <td>LandaJob Advertising &amp; Marketing Talent</td>\n",
              "      <td>Kansas City, MO</td>\n",
              "      <td>NaN</td>\n",
              "      <td>NaN</td>\n",
              "      <td>NaN</td>\n",
              "      <td>NaN</td>\n",
              "      <td>NaN</td>\n",
              "      <td>2018-08-15 17:28:16.510522</td>\n",
              "    </tr>\n",
              "    <tr>\n",
              "      <th>1</th>\n",
              "      <td>VP Marketing</td>\n",
              "      <td>http://www.glassdoor.com/partner/jobListing.ht...</td>\n",
              "      <td>Lai Ventures - For Early Stage Client</td>\n",
              "      <td>Scottsdale, AZ</td>\n",
              "      <td>NaN</td>\n",
              "      <td>NaN</td>\n",
              "      <td>NaN</td>\n",
              "      <td>NaN</td>\n",
              "      <td>NaN</td>\n",
              "      <td>2018-08-15 17:28:16.510522</td>\n",
              "    </tr>\n",
              "    <tr>\n",
              "      <th>2</th>\n",
              "      <td>VP of eCommerce Marketing</td>\n",
              "      <td>http://www.glassdoor.com/partner/jobListing.ht...</td>\n",
              "      <td>RealTruck</td>\n",
              "      <td>Ocala, FL</td>\n",
              "      <td>NaN</td>\n",
              "      <td>NaN</td>\n",
              "      <td>NaN</td>\n",
              "      <td>NaN</td>\n",
              "      <td>NaN</td>\n",
              "      <td>2018-08-15 17:28:16.510522</td>\n",
              "    </tr>\n",
              "    <tr>\n",
              "      <th>3</th>\n",
              "      <td>Marketing Analyst</td>\n",
              "      <td>http://www.glassdoor.com/partner/jobListing.ht...</td>\n",
              "      <td>Owlet Baby Care</td>\n",
              "      <td>Lehi, UT</td>\n",
              "      <td>NaN</td>\n",
              "      <td>NaN</td>\n",
              "      <td>NaN</td>\n",
              "      <td>NaN</td>\n",
              "      <td>NaN</td>\n",
              "      <td>2018-08-15 17:28:16.510522</td>\n",
              "    </tr>\n",
              "    <tr>\n",
              "      <th>4</th>\n",
              "      <td>VP, Marketing</td>\n",
              "      <td>http://www.glassdoor.com/partner/jobListing.ht...</td>\n",
              "      <td>Walt Disney Company</td>\n",
              "      <td>Burbank, CA</td>\n",
              "      <td>NaN</td>\n",
              "      <td>NaN</td>\n",
              "      <td>NaN</td>\n",
              "      <td>NaN</td>\n",
              "      <td>NaN</td>\n",
              "      <td>2018-08-15 17:28:16.510522</td>\n",
              "    </tr>\n",
              "  </tbody>\n",
              "</table>\n",
              "</div>"
            ],
            "text/plain": [
              "                   Job_Title  \\\n",
              "0      Director of Marketing   \n",
              "1               VP Marketing   \n",
              "2  VP of eCommerce Marketing   \n",
              "3          Marketing Analyst   \n",
              "4              VP, Marketing   \n",
              "\n",
              "                                                URLs  \\\n",
              "0  http://www.glassdoor.com/partner/jobListing.ht...   \n",
              "1  http://www.glassdoor.com/partner/jobListing.ht...   \n",
              "2  http://www.glassdoor.com/partner/jobListing.ht...   \n",
              "3  http://www.glassdoor.com/partner/jobListing.ht...   \n",
              "4  http://www.glassdoor.com/partner/jobListing.ht...   \n",
              "\n",
              "                              Company_Name         Location  Contact Email  \\\n",
              "0  LandaJob Advertising & Marketing Talent  Kansas City, MO            NaN   \n",
              "1    Lai Ventures - For Early Stage Client   Scottsdale, AZ            NaN   \n",
              "2                                RealTruck        Ocala, FL            NaN   \n",
              "3                          Owlet Baby Care         Lehi, UT            NaN   \n",
              "4                      Walt Disney Company      Burbank, CA            NaN   \n",
              "\n",
              "   Contact Name  Contact Position  Linkedin Sent Date  Date 1st Email Sent  \\\n",
              "0           NaN               NaN                 NaN                  NaN   \n",
              "1           NaN               NaN                 NaN                  NaN   \n",
              "2           NaN               NaN                 NaN                  NaN   \n",
              "3           NaN               NaN                 NaN                  NaN   \n",
              "4           NaN               NaN                 NaN                  NaN   \n",
              "\n",
              "                         date  \n",
              "0  2018-08-15 17:28:16.510522  \n",
              "1  2018-08-15 17:28:16.510522  \n",
              "2  2018-08-15 17:28:16.510522  \n",
              "3  2018-08-15 17:28:16.510522  \n",
              "4  2018-08-15 17:28:16.510522  "
            ]
          },
          "metadata": {
            "tags": []
          },
          "execution_count": 10
        },
        {
          "output_type": "execute_result",
          "data": {
            "text/plain": [
              "280"
            ]
          },
          "metadata": {
            "tags": []
          },
          "execution_count": 10
        }
      ]
    },
    {
      "metadata": {
        "id": "8EFr0knJdLAI",
        "colab_type": "text"
      },
      "cell_type": "markdown",
      "source": [
        "## Digital Marketing"
      ]
    },
    {
      "metadata": {
        "id": "z4LnBOefdLAJ",
        "colab_type": "code",
        "colab": {
          "base_uri": "https://localhost:8080/",
          "height": 527
        },
        "outputId": "492cfed9-87d6-4aca-c930-a45949e7be97"
      },
      "cell_type": "code",
      "source": [
        "digitalmkt_urls = []\n",
        "digitalmkt_info = []\n",
        "digitalmkt_job_title = []\n",
        "user_agent = UserAgent()\n",
        "\n",
        "for i in range(30):\n",
        "    print(\"Scraping Page:\",i+1)\n",
        "    main_url = 'https://www.glassdoor.com/Job/us-digital-marketing-jobs-SRCH_IL.0,2_IN1_KO3,20_IP{}.htm?fromAge=1'.format(i+1)\n",
        "\n",
        "    page = requests.get(main_url,headers={'user-agent':user_agent.chrome})\n",
        "\n",
        "    soup = BeautifulSoup(page.content,'lxml')\n",
        "\n",
        "    all_divs = soup.select('li.jl div div div a.jobLink')\n",
        "    if all_divs != []:\n",
        "        for div in all_divs:\n",
        "            digitalmkt_urls.append(div['href'])\n",
        "            digitalmkt_job_title.append(div.get_text())\n",
        "            \n",
        "    sleep(np.random.randint(5))\n",
        "\n",
        "    all_divs1 = soup.select('li.jl div div.flexbox.empLoc div')\n",
        "    if all_divs1 != []:\n",
        "        for div in all_divs1:\n",
        "            if div.get_text() != 'New' and div.get_text() != \"We're Hiring\" and div.get_text() != \"EASY APPLY\" and div.get_text() != \"Hot\" and div.get_text() != 'Award Winner':\n",
        "               digitalmkt_info.append(div.get_text())\n",
        "\n",
        "                      \n",
        "    sleep(np.random.randint(5))"
      ],
      "execution_count": 11,
      "outputs": [
        {
          "output_type": "stream",
          "text": [
            "Scraping Page: 1\n",
            "Scraping Page: 2\n",
            "Scraping Page: 3\n",
            "Scraping Page: 4\n",
            "Scraping Page: 5\n",
            "Scraping Page: 6\n",
            "Scraping Page: 7\n",
            "Scraping Page: 8\n",
            "Scraping Page: 9\n",
            "Scraping Page: 10\n",
            "Scraping Page: 11\n",
            "Scraping Page: 12\n",
            "Scraping Page: 13\n",
            "Scraping Page: 14\n",
            "Scraping Page: 15\n",
            "Scraping Page: 16\n",
            "Scraping Page: 17\n",
            "Scraping Page: 18\n",
            "Scraping Page: 19\n",
            "Scraping Page: 20\n",
            "Scraping Page: 21\n",
            "Scraping Page: 22\n",
            "Scraping Page: 23\n",
            "Scraping Page: 24\n",
            "Scraping Page: 25\n",
            "Scraping Page: 26\n",
            "Scraping Page: 27\n",
            "Scraping Page: 28\n",
            "Scraping Page: 29\n",
            "Scraping Page: 30\n"
          ],
          "name": "stdout"
        }
      ]
    },
    {
      "metadata": {
        "id": "X3FX-smddLAM",
        "colab_type": "code",
        "colab": {
          "base_uri": "https://localhost:8080/",
          "height": 34
        },
        "outputId": "2ff9ccb1-08a3-4ce7-bca3-ba9fe16be7a5"
      },
      "cell_type": "code",
      "source": [
        "len(digitalmkt_urls)\n",
        "len(digitalmkt_job_title)\n",
        "len(digitalmkt_info)"
      ],
      "execution_count": 12,
      "outputs": [
        {
          "output_type": "execute_result",
          "data": {
            "text/plain": [
              "870"
            ]
          },
          "metadata": {
            "tags": []
          },
          "execution_count": 12
        },
        {
          "output_type": "execute_result",
          "data": {
            "text/plain": [
              "870"
            ]
          },
          "metadata": {
            "tags": []
          },
          "execution_count": 12
        },
        {
          "output_type": "execute_result",
          "data": {
            "text/plain": [
              "870"
            ]
          },
          "metadata": {
            "tags": []
          },
          "execution_count": 12
        }
      ]
    },
    {
      "metadata": {
        "id": "1mCpblgRdLAR",
        "colab_type": "code",
        "colab": {}
      },
      "cell_type": "code",
      "source": [
        "digital_mkt_urls = []\n",
        "base_link = 'http://www.glassdoor.com'\n",
        "for link in digitalmkt_urls:\n",
        "    digital_mkt_urls.append(base_link + link)"
      ],
      "execution_count": 0,
      "outputs": []
    },
    {
      "metadata": {
        "id": "kFfKY4OVdLAT",
        "colab_type": "code",
        "colab": {
          "base_uri": "https://localhost:8080/",
          "height": 204
        },
        "outputId": "8793a624-6b7f-4a06-bd67-6bd888f0dfc7"
      },
      "cell_type": "code",
      "source": [
        "digitalmkt_df = pd.DataFrame({'Job_Title':digitalmkt_job_title,\"INFO\":digitalmkt_info,\"URLs\":digital_mkt_urls})\n",
        "digitalmkt_df = digitalmkt_df[~(digitalmkt_df['Job_Title'].str.contains(\"None\"))]\n",
        "digitalmkt_df = digitalmkt_df[~(digitalmkt_df['INFO'].str.contains(\"None\"))]\n",
        "digitalmkt_df['Company_Name'] = digitalmkt_df['INFO'].apply(lambda x: x.strip().split(\"–\")[0].strip())\n",
        "digitalmkt_df['Location'] = digitalmkt_df['INFO'].apply(lambda x: x.strip().split(\"–\")[1].strip())\n",
        "digitalmkt_df = digitalmkt_df.drop(\"INFO\",axis=1)\n",
        "digitalmkt_df = digitalmkt_df.reset_index(drop=True)\n",
        "digitalmkt_df.head()"
      ],
      "execution_count": 14,
      "outputs": [
        {
          "output_type": "execute_result",
          "data": {
            "text/html": [
              "<div>\n",
              "<style scoped>\n",
              "    .dataframe tbody tr th:only-of-type {\n",
              "        vertical-align: middle;\n",
              "    }\n",
              "\n",
              "    .dataframe tbody tr th {\n",
              "        vertical-align: top;\n",
              "    }\n",
              "\n",
              "    .dataframe thead th {\n",
              "        text-align: right;\n",
              "    }\n",
              "</style>\n",
              "<table border=\"1\" class=\"dataframe\">\n",
              "  <thead>\n",
              "    <tr style=\"text-align: right;\">\n",
              "      <th></th>\n",
              "      <th>Job_Title</th>\n",
              "      <th>URLs</th>\n",
              "      <th>Company_Name</th>\n",
              "      <th>Location</th>\n",
              "    </tr>\n",
              "  </thead>\n",
              "  <tbody>\n",
              "    <tr>\n",
              "      <th>0</th>\n",
              "      <td>Digital Marketing Recruiter</td>\n",
              "      <td>http://www.glassdoor.com/partner/jobListing.ht...</td>\n",
              "      <td>Jellyfish</td>\n",
              "      <td>Baltimore, MD</td>\n",
              "    </tr>\n",
              "    <tr>\n",
              "      <th>1</th>\n",
              "      <td>Digital Marketing Manager</td>\n",
              "      <td>http://www.glassdoor.com/partner/jobListing.ht...</td>\n",
              "      <td>Clayco</td>\n",
              "      <td>Saint Louis, MO</td>\n",
              "    </tr>\n",
              "    <tr>\n",
              "      <th>2</th>\n",
              "      <td>Director of Marketing</td>\n",
              "      <td>http://www.glassdoor.com/partner/jobListing.ht...</td>\n",
              "      <td>LandaJob Advertising &amp; Marketing Talent</td>\n",
              "      <td>Kansas City, MO</td>\n",
              "    </tr>\n",
              "    <tr>\n",
              "      <th>3</th>\n",
              "      <td>SEO Specialist</td>\n",
              "      <td>http://www.glassdoor.com/partner/jobListing.ht...</td>\n",
              "      <td>Veterans United Home Loans</td>\n",
              "      <td>Columbia, MO</td>\n",
              "    </tr>\n",
              "    <tr>\n",
              "      <th>4</th>\n",
              "      <td>Digital Marketing &amp; Public Relations Specialist</td>\n",
              "      <td>http://www.glassdoor.com/partner/jobListing.ht...</td>\n",
              "      <td>Inseev Interactive</td>\n",
              "      <td>San Diego, CA</td>\n",
              "    </tr>\n",
              "  </tbody>\n",
              "</table>\n",
              "</div>"
            ],
            "text/plain": [
              "                                         Job_Title  \\\n",
              "0                      Digital Marketing Recruiter   \n",
              "1                        Digital Marketing Manager   \n",
              "2                            Director of Marketing   \n",
              "3                                   SEO Specialist   \n",
              "4  Digital Marketing & Public Relations Specialist   \n",
              "\n",
              "                                                URLs  \\\n",
              "0  http://www.glassdoor.com/partner/jobListing.ht...   \n",
              "1  http://www.glassdoor.com/partner/jobListing.ht...   \n",
              "2  http://www.glassdoor.com/partner/jobListing.ht...   \n",
              "3  http://www.glassdoor.com/partner/jobListing.ht...   \n",
              "4  http://www.glassdoor.com/partner/jobListing.ht...   \n",
              "\n",
              "                              Company_Name         Location  \n",
              "0                                Jellyfish    Baltimore, MD  \n",
              "1                                   Clayco  Saint Louis, MO  \n",
              "2  LandaJob Advertising & Marketing Talent  Kansas City, MO  \n",
              "3               Veterans United Home Loans     Columbia, MO  \n",
              "4                       Inseev Interactive    San Diego, CA  "
            ]
          },
          "metadata": {
            "tags": []
          },
          "execution_count": 14
        }
      ]
    },
    {
      "metadata": {
        "id": "ROnN-nWddLAW",
        "colab_type": "code",
        "colab": {
          "base_uri": "https://localhost:8080/",
          "height": 425
        },
        "outputId": "2367f2f5-7aad-4efe-b4fb-96669974d4f3"
      },
      "cell_type": "code",
      "source": [
        "digitalmkt_df = digitalmkt_df.drop_duplicates(subset=['Company_Name']).reset_index(drop=True)\n",
        "len(digitalmkt_df)\n",
        "digitalmkt_df.head()\n",
        "digitalmkt_df['Job_Title'] = digitalmkt_df['Job_Title'].apply(lambda x: x if \"Marketing\" in x else 'None')\n",
        "digitalmkt_df = digitalmkt_df[digitalmkt_df['Job_Title'] != 'None'].reset_index(drop=True)\n",
        "len(digitalmkt_df)\n",
        "digitalmkt_df.head()"
      ],
      "execution_count": 15,
      "outputs": [
        {
          "output_type": "execute_result",
          "data": {
            "text/plain": [
              "678"
            ]
          },
          "metadata": {
            "tags": []
          },
          "execution_count": 15
        },
        {
          "output_type": "execute_result",
          "data": {
            "text/html": [
              "<div>\n",
              "<style scoped>\n",
              "    .dataframe tbody tr th:only-of-type {\n",
              "        vertical-align: middle;\n",
              "    }\n",
              "\n",
              "    .dataframe tbody tr th {\n",
              "        vertical-align: top;\n",
              "    }\n",
              "\n",
              "    .dataframe thead th {\n",
              "        text-align: right;\n",
              "    }\n",
              "</style>\n",
              "<table border=\"1\" class=\"dataframe\">\n",
              "  <thead>\n",
              "    <tr style=\"text-align: right;\">\n",
              "      <th></th>\n",
              "      <th>Job_Title</th>\n",
              "      <th>URLs</th>\n",
              "      <th>Company_Name</th>\n",
              "      <th>Location</th>\n",
              "    </tr>\n",
              "  </thead>\n",
              "  <tbody>\n",
              "    <tr>\n",
              "      <th>0</th>\n",
              "      <td>Digital Marketing Recruiter</td>\n",
              "      <td>http://www.glassdoor.com/partner/jobListing.ht...</td>\n",
              "      <td>Jellyfish</td>\n",
              "      <td>Baltimore, MD</td>\n",
              "    </tr>\n",
              "    <tr>\n",
              "      <th>1</th>\n",
              "      <td>Digital Marketing Manager</td>\n",
              "      <td>http://www.glassdoor.com/partner/jobListing.ht...</td>\n",
              "      <td>Clayco</td>\n",
              "      <td>Saint Louis, MO</td>\n",
              "    </tr>\n",
              "    <tr>\n",
              "      <th>2</th>\n",
              "      <td>Director of Marketing</td>\n",
              "      <td>http://www.glassdoor.com/partner/jobListing.ht...</td>\n",
              "      <td>LandaJob Advertising &amp; Marketing Talent</td>\n",
              "      <td>Kansas City, MO</td>\n",
              "    </tr>\n",
              "    <tr>\n",
              "      <th>3</th>\n",
              "      <td>SEO Specialist</td>\n",
              "      <td>http://www.glassdoor.com/partner/jobListing.ht...</td>\n",
              "      <td>Veterans United Home Loans</td>\n",
              "      <td>Columbia, MO</td>\n",
              "    </tr>\n",
              "    <tr>\n",
              "      <th>4</th>\n",
              "      <td>Digital Marketing &amp; Public Relations Specialist</td>\n",
              "      <td>http://www.glassdoor.com/partner/jobListing.ht...</td>\n",
              "      <td>Inseev Interactive</td>\n",
              "      <td>San Diego, CA</td>\n",
              "    </tr>\n",
              "  </tbody>\n",
              "</table>\n",
              "</div>"
            ],
            "text/plain": [
              "                                         Job_Title  \\\n",
              "0                      Digital Marketing Recruiter   \n",
              "1                        Digital Marketing Manager   \n",
              "2                            Director of Marketing   \n",
              "3                                   SEO Specialist   \n",
              "4  Digital Marketing & Public Relations Specialist   \n",
              "\n",
              "                                                URLs  \\\n",
              "0  http://www.glassdoor.com/partner/jobListing.ht...   \n",
              "1  http://www.glassdoor.com/partner/jobListing.ht...   \n",
              "2  http://www.glassdoor.com/partner/jobListing.ht...   \n",
              "3  http://www.glassdoor.com/partner/jobListing.ht...   \n",
              "4  http://www.glassdoor.com/partner/jobListing.ht...   \n",
              "\n",
              "                              Company_Name         Location  \n",
              "0                                Jellyfish    Baltimore, MD  \n",
              "1                                   Clayco  Saint Louis, MO  \n",
              "2  LandaJob Advertising & Marketing Talent  Kansas City, MO  \n",
              "3               Veterans United Home Loans     Columbia, MO  \n",
              "4                       Inseev Interactive    San Diego, CA  "
            ]
          },
          "metadata": {
            "tags": []
          },
          "execution_count": 15
        },
        {
          "output_type": "execute_result",
          "data": {
            "text/plain": [
              "419"
            ]
          },
          "metadata": {
            "tags": []
          },
          "execution_count": 15
        },
        {
          "output_type": "execute_result",
          "data": {
            "text/html": [
              "<div>\n",
              "<style scoped>\n",
              "    .dataframe tbody tr th:only-of-type {\n",
              "        vertical-align: middle;\n",
              "    }\n",
              "\n",
              "    .dataframe tbody tr th {\n",
              "        vertical-align: top;\n",
              "    }\n",
              "\n",
              "    .dataframe thead th {\n",
              "        text-align: right;\n",
              "    }\n",
              "</style>\n",
              "<table border=\"1\" class=\"dataframe\">\n",
              "  <thead>\n",
              "    <tr style=\"text-align: right;\">\n",
              "      <th></th>\n",
              "      <th>Job_Title</th>\n",
              "      <th>URLs</th>\n",
              "      <th>Company_Name</th>\n",
              "      <th>Location</th>\n",
              "    </tr>\n",
              "  </thead>\n",
              "  <tbody>\n",
              "    <tr>\n",
              "      <th>0</th>\n",
              "      <td>Digital Marketing Recruiter</td>\n",
              "      <td>http://www.glassdoor.com/partner/jobListing.ht...</td>\n",
              "      <td>Jellyfish</td>\n",
              "      <td>Baltimore, MD</td>\n",
              "    </tr>\n",
              "    <tr>\n",
              "      <th>1</th>\n",
              "      <td>Digital Marketing Manager</td>\n",
              "      <td>http://www.glassdoor.com/partner/jobListing.ht...</td>\n",
              "      <td>Clayco</td>\n",
              "      <td>Saint Louis, MO</td>\n",
              "    </tr>\n",
              "    <tr>\n",
              "      <th>2</th>\n",
              "      <td>Director of Marketing</td>\n",
              "      <td>http://www.glassdoor.com/partner/jobListing.ht...</td>\n",
              "      <td>LandaJob Advertising &amp; Marketing Talent</td>\n",
              "      <td>Kansas City, MO</td>\n",
              "    </tr>\n",
              "    <tr>\n",
              "      <th>3</th>\n",
              "      <td>Digital Marketing &amp; Public Relations Specialist</td>\n",
              "      <td>http://www.glassdoor.com/partner/jobListing.ht...</td>\n",
              "      <td>Inseev Interactive</td>\n",
              "      <td>San Diego, CA</td>\n",
              "    </tr>\n",
              "    <tr>\n",
              "      <th>4</th>\n",
              "      <td>Digital Marketing Manager</td>\n",
              "      <td>http://www.glassdoor.com/partner/jobListing.ht...</td>\n",
              "      <td>Astronova</td>\n",
              "      <td>West Warwick, RI</td>\n",
              "    </tr>\n",
              "  </tbody>\n",
              "</table>\n",
              "</div>"
            ],
            "text/plain": [
              "                                         Job_Title  \\\n",
              "0                      Digital Marketing Recruiter   \n",
              "1                        Digital Marketing Manager   \n",
              "2                            Director of Marketing   \n",
              "3  Digital Marketing & Public Relations Specialist   \n",
              "4                        Digital Marketing Manager   \n",
              "\n",
              "                                                URLs  \\\n",
              "0  http://www.glassdoor.com/partner/jobListing.ht...   \n",
              "1  http://www.glassdoor.com/partner/jobListing.ht...   \n",
              "2  http://www.glassdoor.com/partner/jobListing.ht...   \n",
              "3  http://www.glassdoor.com/partner/jobListing.ht...   \n",
              "4  http://www.glassdoor.com/partner/jobListing.ht...   \n",
              "\n",
              "                              Company_Name          Location  \n",
              "0                                Jellyfish     Baltimore, MD  \n",
              "1                                   Clayco   Saint Louis, MO  \n",
              "2  LandaJob Advertising & Marketing Talent   Kansas City, MO  \n",
              "3                       Inseev Interactive     San Diego, CA  \n",
              "4                                Astronova  West Warwick, RI  "
            ]
          },
          "metadata": {
            "tags": []
          },
          "execution_count": 15
        }
      ]
    },
    {
      "metadata": {
        "id": "vtcM-5audLAY",
        "colab_type": "code",
        "colab": {
          "base_uri": "https://localhost:8080/",
          "height": 340
        },
        "outputId": "0254014e-8b4d-414b-97c9-701a4fee7c06"
      },
      "cell_type": "code",
      "source": [
        "digitalmkt_df['Contact Email'] = np.nan\n",
        "digitalmkt_df['Contact Name'] = np.nan\n",
        "digitalmkt_df['Contact Position'] = np.nan\n",
        "digitalmkt_df['Linkedin Sent Date'] = np.nan\n",
        "digitalmkt_df['Date 1st Email Sent'] = np.nan\n",
        "digitalmkt_df['date'] = str(datetime.datetime.now())\n",
        "digitalmkt_df.head()\n",
        "len(digitalmkt_df)"
      ],
      "execution_count": 16,
      "outputs": [
        {
          "output_type": "execute_result",
          "data": {
            "text/html": [
              "<div>\n",
              "<style scoped>\n",
              "    .dataframe tbody tr th:only-of-type {\n",
              "        vertical-align: middle;\n",
              "    }\n",
              "\n",
              "    .dataframe tbody tr th {\n",
              "        vertical-align: top;\n",
              "    }\n",
              "\n",
              "    .dataframe thead th {\n",
              "        text-align: right;\n",
              "    }\n",
              "</style>\n",
              "<table border=\"1\" class=\"dataframe\">\n",
              "  <thead>\n",
              "    <tr style=\"text-align: right;\">\n",
              "      <th></th>\n",
              "      <th>Job_Title</th>\n",
              "      <th>URLs</th>\n",
              "      <th>Company_Name</th>\n",
              "      <th>Location</th>\n",
              "      <th>Contact Email</th>\n",
              "      <th>Contact Name</th>\n",
              "      <th>Contact Position</th>\n",
              "      <th>Linkedin Sent Date</th>\n",
              "      <th>Date 1st Email Sent</th>\n",
              "      <th>date</th>\n",
              "    </tr>\n",
              "  </thead>\n",
              "  <tbody>\n",
              "    <tr>\n",
              "      <th>0</th>\n",
              "      <td>Digital Marketing Recruiter</td>\n",
              "      <td>http://www.glassdoor.com/partner/jobListing.ht...</td>\n",
              "      <td>Jellyfish</td>\n",
              "      <td>Baltimore, MD</td>\n",
              "      <td>NaN</td>\n",
              "      <td>NaN</td>\n",
              "      <td>NaN</td>\n",
              "      <td>NaN</td>\n",
              "      <td>NaN</td>\n",
              "      <td>2018-08-15 17:32:18.502058</td>\n",
              "    </tr>\n",
              "    <tr>\n",
              "      <th>1</th>\n",
              "      <td>Digital Marketing Manager</td>\n",
              "      <td>http://www.glassdoor.com/partner/jobListing.ht...</td>\n",
              "      <td>Clayco</td>\n",
              "      <td>Saint Louis, MO</td>\n",
              "      <td>NaN</td>\n",
              "      <td>NaN</td>\n",
              "      <td>NaN</td>\n",
              "      <td>NaN</td>\n",
              "      <td>NaN</td>\n",
              "      <td>2018-08-15 17:32:18.502058</td>\n",
              "    </tr>\n",
              "    <tr>\n",
              "      <th>2</th>\n",
              "      <td>Director of Marketing</td>\n",
              "      <td>http://www.glassdoor.com/partner/jobListing.ht...</td>\n",
              "      <td>LandaJob Advertising &amp; Marketing Talent</td>\n",
              "      <td>Kansas City, MO</td>\n",
              "      <td>NaN</td>\n",
              "      <td>NaN</td>\n",
              "      <td>NaN</td>\n",
              "      <td>NaN</td>\n",
              "      <td>NaN</td>\n",
              "      <td>2018-08-15 17:32:18.502058</td>\n",
              "    </tr>\n",
              "    <tr>\n",
              "      <th>3</th>\n",
              "      <td>Digital Marketing &amp; Public Relations Specialist</td>\n",
              "      <td>http://www.glassdoor.com/partner/jobListing.ht...</td>\n",
              "      <td>Inseev Interactive</td>\n",
              "      <td>San Diego, CA</td>\n",
              "      <td>NaN</td>\n",
              "      <td>NaN</td>\n",
              "      <td>NaN</td>\n",
              "      <td>NaN</td>\n",
              "      <td>NaN</td>\n",
              "      <td>2018-08-15 17:32:18.502058</td>\n",
              "    </tr>\n",
              "    <tr>\n",
              "      <th>4</th>\n",
              "      <td>Digital Marketing Manager</td>\n",
              "      <td>http://www.glassdoor.com/partner/jobListing.ht...</td>\n",
              "      <td>Astronova</td>\n",
              "      <td>West Warwick, RI</td>\n",
              "      <td>NaN</td>\n",
              "      <td>NaN</td>\n",
              "      <td>NaN</td>\n",
              "      <td>NaN</td>\n",
              "      <td>NaN</td>\n",
              "      <td>2018-08-15 17:32:18.502058</td>\n",
              "    </tr>\n",
              "  </tbody>\n",
              "</table>\n",
              "</div>"
            ],
            "text/plain": [
              "                                         Job_Title  \\\n",
              "0                      Digital Marketing Recruiter   \n",
              "1                        Digital Marketing Manager   \n",
              "2                            Director of Marketing   \n",
              "3  Digital Marketing & Public Relations Specialist   \n",
              "4                        Digital Marketing Manager   \n",
              "\n",
              "                                                URLs  \\\n",
              "0  http://www.glassdoor.com/partner/jobListing.ht...   \n",
              "1  http://www.glassdoor.com/partner/jobListing.ht...   \n",
              "2  http://www.glassdoor.com/partner/jobListing.ht...   \n",
              "3  http://www.glassdoor.com/partner/jobListing.ht...   \n",
              "4  http://www.glassdoor.com/partner/jobListing.ht...   \n",
              "\n",
              "                              Company_Name          Location  Contact Email  \\\n",
              "0                                Jellyfish     Baltimore, MD            NaN   \n",
              "1                                   Clayco   Saint Louis, MO            NaN   \n",
              "2  LandaJob Advertising & Marketing Talent   Kansas City, MO            NaN   \n",
              "3                       Inseev Interactive     San Diego, CA            NaN   \n",
              "4                                Astronova  West Warwick, RI            NaN   \n",
              "\n",
              "   Contact Name  Contact Position  Linkedin Sent Date  Date 1st Email Sent  \\\n",
              "0           NaN               NaN                 NaN                  NaN   \n",
              "1           NaN               NaN                 NaN                  NaN   \n",
              "2           NaN               NaN                 NaN                  NaN   \n",
              "3           NaN               NaN                 NaN                  NaN   \n",
              "4           NaN               NaN                 NaN                  NaN   \n",
              "\n",
              "                         date  \n",
              "0  2018-08-15 17:32:18.502058  \n",
              "1  2018-08-15 17:32:18.502058  \n",
              "2  2018-08-15 17:32:18.502058  \n",
              "3  2018-08-15 17:32:18.502058  \n",
              "4  2018-08-15 17:32:18.502058  "
            ]
          },
          "metadata": {
            "tags": []
          },
          "execution_count": 16
        },
        {
          "output_type": "execute_result",
          "data": {
            "text/plain": [
              "419"
            ]
          },
          "metadata": {
            "tags": []
          },
          "execution_count": 16
        }
      ]
    },
    {
      "metadata": {
        "id": "So5eW4YqdLAv",
        "colab_type": "text"
      },
      "cell_type": "markdown",
      "source": [
        "## Ecommerce"
      ]
    },
    {
      "metadata": {
        "id": "g12ntCHtdLAv",
        "colab_type": "code",
        "colab": {
          "base_uri": "https://localhost:8080/",
          "height": 547
        },
        "outputId": "d9bea790-8a0d-4032-c371-2742608c3c98"
      },
      "cell_type": "code",
      "source": [
        "ecommerce_urls = []\n",
        "ecommerce_info = []\n",
        "ecommerce_job_title = []\n",
        "user_agent = UserAgent()\n",
        "\n",
        "for i in range(30):\n",
        "    print(\"Scraping Page:\",i+1)\n",
        "    main_url = 'https://www.glassdoor.com/Job/us-ecommerce-jobs-SRCH_IL.0,2_IN1_KO3,12_IP{}.htm?fromAge=1'.format(i+1)\n",
        "\n",
        "    page = requests.get(main_url,headers={'user-agent':user_agent.chrome})\n",
        "\n",
        "    soup = BeautifulSoup(page.content,'lxml')\n",
        "\n",
        "    all_divs = soup.select('li.jl div div div a.jobLink')\n",
        "    if all_divs != []:\n",
        "        for div in all_divs:\n",
        "            ecommerce_urls.append(div['href'])\n",
        "            ecommerce_job_title.append(div.get_text())\n",
        "\n",
        "    sleep(np.random.randint(5))\n",
        "    \n",
        "    all_divs1 = soup.select('li.jl div div.flexbox.empLoc div')\n",
        "    if all_divs1 != []:\n",
        "        for div in all_divs1:\n",
        "            if div.get_text() != 'New' and div.get_text() != \"We're Hiring\" and div.get_text() != \"EASY APPLY\" and div.get_text() != \"Hot\" and div.get_text() != 'Award Winner':\n",
        "                ecommerce_info.append(div.get_text())\n",
        "\n",
        "                      \n",
        "    sleep(np.random.randint(5))"
      ],
      "execution_count": 17,
      "outputs": [
        {
          "output_type": "stream",
          "text": [
            "Scraping Page: 1\n",
            "Scraping Page: 2\n",
            "Scraping Page: 3\n",
            "Scraping Page: 4\n",
            "Scraping Page: 5\n",
            "Scraping Page: 6\n",
            "Scraping Page: 7\n",
            "Scraping Page: 8\n",
            "Scraping Page: 9\n",
            "Scraping Page: 10\n",
            "Scraping Page: 11\n",
            "Scraping Page: 12\n",
            "Scraping Page: 13\n",
            "Scraping Page: 14\n",
            "Scraping Page: 15\n",
            "Scraping Page: 16\n",
            "Scraping Page: 17\n",
            "Scraping Page: 18\n",
            "Scraping Page: 19\n",
            "Scraping Page: 20\n",
            "Scraping Page: 21\n",
            "Scraping Page: 22\n",
            "Scraping Page: 23\n",
            "Scraping Page: 24\n",
            "Scraping Page: 25\n",
            "Scraping Page: 26\n",
            "Scraping Page: 27\n",
            "Scraping Page: 28\n",
            "Scraping Page: 29\n",
            "Scraping Page: 30\n"
          ],
          "name": "stdout"
        }
      ]
    },
    {
      "metadata": {
        "id": "DLc6UM3SdLAz",
        "colab_type": "code",
        "colab": {
          "base_uri": "https://localhost:8080/",
          "height": 54
        },
        "outputId": "7bf04ff9-3713-4376-a81e-99367776f93b"
      },
      "cell_type": "code",
      "source": [
        "len(ecommerce_urls)\n",
        "len(ecommerce_job_title)\n",
        "len(ecommerce_info)"
      ],
      "execution_count": 18,
      "outputs": [
        {
          "output_type": "execute_result",
          "data": {
            "text/plain": [
              "899"
            ]
          },
          "metadata": {
            "tags": []
          },
          "execution_count": 18
        },
        {
          "output_type": "execute_result",
          "data": {
            "text/plain": [
              "899"
            ]
          },
          "metadata": {
            "tags": []
          },
          "execution_count": 18
        },
        {
          "output_type": "execute_result",
          "data": {
            "text/plain": [
              "899"
            ]
          },
          "metadata": {
            "tags": []
          },
          "execution_count": 18
        }
      ]
    },
    {
      "metadata": {
        "id": "r5kZY6XddLA2",
        "colab_type": "code",
        "colab": {}
      },
      "cell_type": "code",
      "source": [
        "ecommerce = []\n",
        "base_link = 'http://www.glassdoor.com'\n",
        "for link in ecommerce_urls:\n",
        "    ecommerce.append(base_link + link)"
      ],
      "execution_count": 0,
      "outputs": []
    },
    {
      "metadata": {
        "id": "NiVaGmVmdLA5",
        "colab_type": "code",
        "colab": {
          "base_uri": "https://localhost:8080/",
          "height": 428
        },
        "outputId": "99a0f241-6f3e-49b2-c573-ed559b689d3a"
      },
      "cell_type": "code",
      "source": [
        "ecommerce_df = pd.DataFrame({'Job_Title':ecommerce_job_title,\"INFO\":ecommerce_info,\"URLs\":ecommerce})\n",
        "ecommerce_df = ecommerce_df[~(ecommerce_df['Job_Title'].str.contains(\"None\"))]\n",
        "ecommerce_df = ecommerce_df[~(ecommerce_df['INFO'].str.contains(\"None\"))]\n",
        "ecommerce_df['Company_Name'] = ecommerce_df['INFO'].apply(lambda x: x.strip().split(\"–\")[0].strip())\n",
        "ecommerce_df['Location'] = ecommerce_df['INFO'].apply(lambda x: x.strip().split(\"–\")[1].strip())\n",
        "ecommerce_df = ecommerce_df.drop(\"INFO\",axis=1)\n",
        "ecommerce_df = ecommerce_df.reset_index(drop=True)\n",
        "ecommerce_df.head()"
      ],
      "execution_count": 20,
      "outputs": [
        {
          "output_type": "execute_result",
          "data": {
            "text/html": [
              "<div>\n",
              "<style scoped>\n",
              "    .dataframe tbody tr th:only-of-type {\n",
              "        vertical-align: middle;\n",
              "    }\n",
              "\n",
              "    .dataframe tbody tr th {\n",
              "        vertical-align: top;\n",
              "    }\n",
              "\n",
              "    .dataframe thead th {\n",
              "        text-align: right;\n",
              "    }\n",
              "</style>\n",
              "<table border=\"1\" class=\"dataframe\">\n",
              "  <thead>\n",
              "    <tr style=\"text-align: right;\">\n",
              "      <th></th>\n",
              "      <th>Job_Title</th>\n",
              "      <th>URLs</th>\n",
              "      <th>Company_Name</th>\n",
              "      <th>Location</th>\n",
              "    </tr>\n",
              "  </thead>\n",
              "  <tbody>\n",
              "    <tr>\n",
              "      <th>0</th>\n",
              "      <td>eCommerce Manager</td>\n",
              "      <td>http://www.glassdoor.com/partner/jobListing.ht...</td>\n",
              "      <td>Fontem Ventures</td>\n",
              "      <td>Charlotte, NC</td>\n",
              "    </tr>\n",
              "    <tr>\n",
              "      <th>1</th>\n",
              "      <td>Program Manager</td>\n",
              "      <td>http://www.glassdoor.com/partner/jobListing.ht...</td>\n",
              "      <td>Snapfish</td>\n",
              "      <td>Fort Collins, CO</td>\n",
              "    </tr>\n",
              "    <tr>\n",
              "      <th>2</th>\n",
              "      <td>Sales Associate eCommerce and Phone- AutoNatio...</td>\n",
              "      <td>http://www.glassdoor.com/partner/jobListing.ht...</td>\n",
              "      <td>AutoNation</td>\n",
              "      <td>Panama City, FL</td>\n",
              "    </tr>\n",
              "    <tr>\n",
              "      <th>3</th>\n",
              "      <td>Customer Engagement Manager, eCommerce</td>\n",
              "      <td>http://www.glassdoor.com/partner/jobListing.ht...</td>\n",
              "      <td>LiveArea</td>\n",
              "      <td>Allen, TX</td>\n",
              "    </tr>\n",
              "    <tr>\n",
              "      <th>4</th>\n",
              "      <td>Customer Experience Associate</td>\n",
              "      <td>http://www.glassdoor.com/partner/jobListing.ht...</td>\n",
              "      <td>Rothy's, Inc.</td>\n",
              "      <td>San Francisco, CA</td>\n",
              "    </tr>\n",
              "  </tbody>\n",
              "</table>\n",
              "</div>"
            ],
            "text/plain": [
              "                                           Job_Title  \\\n",
              "0                                  eCommerce Manager   \n",
              "1                                    Program Manager   \n",
              "2  Sales Associate eCommerce and Phone- AutoNatio...   \n",
              "3             Customer Engagement Manager, eCommerce   \n",
              "4                      Customer Experience Associate   \n",
              "\n",
              "                                                URLs     Company_Name  \\\n",
              "0  http://www.glassdoor.com/partner/jobListing.ht...  Fontem Ventures   \n",
              "1  http://www.glassdoor.com/partner/jobListing.ht...         Snapfish   \n",
              "2  http://www.glassdoor.com/partner/jobListing.ht...       AutoNation   \n",
              "3  http://www.glassdoor.com/partner/jobListing.ht...         LiveArea   \n",
              "4  http://www.glassdoor.com/partner/jobListing.ht...    Rothy's, Inc.   \n",
              "\n",
              "            Location  \n",
              "0      Charlotte, NC  \n",
              "1   Fort Collins, CO  \n",
              "2    Panama City, FL  \n",
              "3          Allen, TX  \n",
              "4  San Francisco, CA  "
            ]
          },
          "metadata": {
            "tags": []
          },
          "execution_count": 20
        }
      ]
    },
    {
      "metadata": {
        "id": "wQbhvjOjdLA8",
        "colab_type": "code",
        "colab": {
          "base_uri": "https://localhost:8080/",
          "height": 836
        },
        "outputId": "45c18c50-74a3-405a-ee98-53b1b73c3aaa"
      },
      "cell_type": "code",
      "source": [
        "ecommerce_df = ecommerce_df.drop_duplicates(subset=['Company_Name']).reset_index(drop=True)\n",
        "len(ecommerce_df)\n",
        "ecommerce_df.head()\n",
        "ecommerce_df['Job_Title'] = ecommerce_df['Job_Title'].apply(lambda x: x if \"Marketing\" in x else 'None')\n",
        "ecommerce_df = ecommerce_df[ecommerce_df['Job_Title'] != 'None'].reset_index(drop=True)\n",
        "len(ecommerce_df)\n",
        "ecommerce_df.head()"
      ],
      "execution_count": 21,
      "outputs": [
        {
          "output_type": "execute_result",
          "data": {
            "text/plain": [
              "588"
            ]
          },
          "metadata": {
            "tags": []
          },
          "execution_count": 21
        },
        {
          "output_type": "execute_result",
          "data": {
            "text/html": [
              "<div>\n",
              "<style scoped>\n",
              "    .dataframe tbody tr th:only-of-type {\n",
              "        vertical-align: middle;\n",
              "    }\n",
              "\n",
              "    .dataframe tbody tr th {\n",
              "        vertical-align: top;\n",
              "    }\n",
              "\n",
              "    .dataframe thead th {\n",
              "        text-align: right;\n",
              "    }\n",
              "</style>\n",
              "<table border=\"1\" class=\"dataframe\">\n",
              "  <thead>\n",
              "    <tr style=\"text-align: right;\">\n",
              "      <th></th>\n",
              "      <th>Job_Title</th>\n",
              "      <th>URLs</th>\n",
              "      <th>Company_Name</th>\n",
              "      <th>Location</th>\n",
              "    </tr>\n",
              "  </thead>\n",
              "  <tbody>\n",
              "    <tr>\n",
              "      <th>0</th>\n",
              "      <td>eCommerce Manager</td>\n",
              "      <td>http://www.glassdoor.com/partner/jobListing.ht...</td>\n",
              "      <td>Fontem Ventures</td>\n",
              "      <td>Charlotte, NC</td>\n",
              "    </tr>\n",
              "    <tr>\n",
              "      <th>1</th>\n",
              "      <td>Program Manager</td>\n",
              "      <td>http://www.glassdoor.com/partner/jobListing.ht...</td>\n",
              "      <td>Snapfish</td>\n",
              "      <td>Fort Collins, CO</td>\n",
              "    </tr>\n",
              "    <tr>\n",
              "      <th>2</th>\n",
              "      <td>Sales Associate eCommerce and Phone- AutoNatio...</td>\n",
              "      <td>http://www.glassdoor.com/partner/jobListing.ht...</td>\n",
              "      <td>AutoNation</td>\n",
              "      <td>Panama City, FL</td>\n",
              "    </tr>\n",
              "    <tr>\n",
              "      <th>3</th>\n",
              "      <td>Customer Engagement Manager, eCommerce</td>\n",
              "      <td>http://www.glassdoor.com/partner/jobListing.ht...</td>\n",
              "      <td>LiveArea</td>\n",
              "      <td>Allen, TX</td>\n",
              "    </tr>\n",
              "    <tr>\n",
              "      <th>4</th>\n",
              "      <td>Customer Experience Associate</td>\n",
              "      <td>http://www.glassdoor.com/partner/jobListing.ht...</td>\n",
              "      <td>Rothy's, Inc.</td>\n",
              "      <td>San Francisco, CA</td>\n",
              "    </tr>\n",
              "  </tbody>\n",
              "</table>\n",
              "</div>"
            ],
            "text/plain": [
              "                                           Job_Title  \\\n",
              "0                                  eCommerce Manager   \n",
              "1                                    Program Manager   \n",
              "2  Sales Associate eCommerce and Phone- AutoNatio...   \n",
              "3             Customer Engagement Manager, eCommerce   \n",
              "4                      Customer Experience Associate   \n",
              "\n",
              "                                                URLs     Company_Name  \\\n",
              "0  http://www.glassdoor.com/partner/jobListing.ht...  Fontem Ventures   \n",
              "1  http://www.glassdoor.com/partner/jobListing.ht...         Snapfish   \n",
              "2  http://www.glassdoor.com/partner/jobListing.ht...       AutoNation   \n",
              "3  http://www.glassdoor.com/partner/jobListing.ht...         LiveArea   \n",
              "4  http://www.glassdoor.com/partner/jobListing.ht...    Rothy's, Inc.   \n",
              "\n",
              "            Location  \n",
              "0      Charlotte, NC  \n",
              "1   Fort Collins, CO  \n",
              "2    Panama City, FL  \n",
              "3          Allen, TX  \n",
              "4  San Francisco, CA  "
            ]
          },
          "metadata": {
            "tags": []
          },
          "execution_count": 21
        },
        {
          "output_type": "execute_result",
          "data": {
            "text/plain": [
              "64"
            ]
          },
          "metadata": {
            "tags": []
          },
          "execution_count": 21
        },
        {
          "output_type": "execute_result",
          "data": {
            "text/html": [
              "<div>\n",
              "<style scoped>\n",
              "    .dataframe tbody tr th:only-of-type {\n",
              "        vertical-align: middle;\n",
              "    }\n",
              "\n",
              "    .dataframe tbody tr th {\n",
              "        vertical-align: top;\n",
              "    }\n",
              "\n",
              "    .dataframe thead th {\n",
              "        text-align: right;\n",
              "    }\n",
              "</style>\n",
              "<table border=\"1\" class=\"dataframe\">\n",
              "  <thead>\n",
              "    <tr style=\"text-align: right;\">\n",
              "      <th></th>\n",
              "      <th>Job_Title</th>\n",
              "      <th>URLs</th>\n",
              "      <th>Company_Name</th>\n",
              "      <th>Location</th>\n",
              "    </tr>\n",
              "  </thead>\n",
              "  <tbody>\n",
              "    <tr>\n",
              "      <th>0</th>\n",
              "      <td>VP of eCommerce Marketing</td>\n",
              "      <td>http://www.glassdoor.com/partner/jobListing.ht...</td>\n",
              "      <td>RealTruck</td>\n",
              "      <td>Ocala, FL</td>\n",
              "    </tr>\n",
              "    <tr>\n",
              "      <th>1</th>\n",
              "      <td>Audience Development Marketing Manager</td>\n",
              "      <td>http://www.glassdoor.com/partner/jobListing.ht...</td>\n",
              "      <td>CAS</td>\n",
              "      <td>Washington, DC</td>\n",
              "    </tr>\n",
              "    <tr>\n",
              "      <th>2</th>\n",
              "      <td>Internet Marketing Specialist</td>\n",
              "      <td>http://www.glassdoor.com/partner/jobListing.ht...</td>\n",
              "      <td>eBay</td>\n",
              "      <td>San Jose, CA</td>\n",
              "    </tr>\n",
              "    <tr>\n",
              "      <th>3</th>\n",
              "      <td>Digital Marketing Specialist</td>\n",
              "      <td>http://www.glassdoor.com/partner/jobListing.ht...</td>\n",
              "      <td>Trupanion</td>\n",
              "      <td>Seattle, WA</td>\n",
              "    </tr>\n",
              "    <tr>\n",
              "      <th>4</th>\n",
              "      <td>eCommerce Marketing Manager</td>\n",
              "      <td>http://www.glassdoor.com/partner/jobListing.ht...</td>\n",
              "      <td>Salix Pharmaceuticals</td>\n",
              "      <td>Bridgewater, NJ</td>\n",
              "    </tr>\n",
              "  </tbody>\n",
              "</table>\n",
              "</div>"
            ],
            "text/plain": [
              "                                Job_Title  \\\n",
              "0               VP of eCommerce Marketing   \n",
              "1  Audience Development Marketing Manager   \n",
              "2           Internet Marketing Specialist   \n",
              "3            Digital Marketing Specialist   \n",
              "4             eCommerce Marketing Manager   \n",
              "\n",
              "                                                URLs           Company_Name  \\\n",
              "0  http://www.glassdoor.com/partner/jobListing.ht...              RealTruck   \n",
              "1  http://www.glassdoor.com/partner/jobListing.ht...                    CAS   \n",
              "2  http://www.glassdoor.com/partner/jobListing.ht...                   eBay   \n",
              "3  http://www.glassdoor.com/partner/jobListing.ht...              Trupanion   \n",
              "4  http://www.glassdoor.com/partner/jobListing.ht...  Salix Pharmaceuticals   \n",
              "\n",
              "          Location  \n",
              "0        Ocala, FL  \n",
              "1   Washington, DC  \n",
              "2     San Jose, CA  \n",
              "3      Seattle, WA  \n",
              "4  Bridgewater, NJ  "
            ]
          },
          "metadata": {
            "tags": []
          },
          "execution_count": 21
        }
      ]
    },
    {
      "metadata": {
        "id": "JdgHRdmJdLBA",
        "colab_type": "code",
        "colab": {
          "base_uri": "https://localhost:8080/",
          "height": 479
        },
        "outputId": "7dce2811-55dd-4901-f35d-88d6d89c20df"
      },
      "cell_type": "code",
      "source": [
        "ecommerce_df['Contact Email'] = np.nan\n",
        "ecommerce_df['Contact Name'] = np.nan\n",
        "ecommerce_df['Contact Position'] = np.nan\n",
        "ecommerce_df['Linkedin Sent Date'] = np.nan\n",
        "ecommerce_df['Date 1st Email Sent'] = np.nan\n",
        "ecommerce_df['date'] = str(datetime.datetime.now())\n",
        "ecommerce_df.head()\n",
        "len(ecommerce_df)"
      ],
      "execution_count": 22,
      "outputs": [
        {
          "output_type": "execute_result",
          "data": {
            "text/html": [
              "<div>\n",
              "<style scoped>\n",
              "    .dataframe tbody tr th:only-of-type {\n",
              "        vertical-align: middle;\n",
              "    }\n",
              "\n",
              "    .dataframe tbody tr th {\n",
              "        vertical-align: top;\n",
              "    }\n",
              "\n",
              "    .dataframe thead th {\n",
              "        text-align: right;\n",
              "    }\n",
              "</style>\n",
              "<table border=\"1\" class=\"dataframe\">\n",
              "  <thead>\n",
              "    <tr style=\"text-align: right;\">\n",
              "      <th></th>\n",
              "      <th>Job_Title</th>\n",
              "      <th>URLs</th>\n",
              "      <th>Company_Name</th>\n",
              "      <th>Location</th>\n",
              "      <th>Contact Email</th>\n",
              "      <th>Contact Name</th>\n",
              "      <th>Contact Position</th>\n",
              "      <th>Linkedin Sent Date</th>\n",
              "      <th>Date 1st Email Sent</th>\n",
              "      <th>date</th>\n",
              "    </tr>\n",
              "  </thead>\n",
              "  <tbody>\n",
              "    <tr>\n",
              "      <th>0</th>\n",
              "      <td>VP of eCommerce Marketing</td>\n",
              "      <td>http://www.glassdoor.com/partner/jobListing.ht...</td>\n",
              "      <td>RealTruck</td>\n",
              "      <td>Ocala, FL</td>\n",
              "      <td>NaN</td>\n",
              "      <td>NaN</td>\n",
              "      <td>NaN</td>\n",
              "      <td>NaN</td>\n",
              "      <td>NaN</td>\n",
              "      <td>2018-08-15 17:35:48.491174</td>\n",
              "    </tr>\n",
              "    <tr>\n",
              "      <th>1</th>\n",
              "      <td>Audience Development Marketing Manager</td>\n",
              "      <td>http://www.glassdoor.com/partner/jobListing.ht...</td>\n",
              "      <td>CAS</td>\n",
              "      <td>Washington, DC</td>\n",
              "      <td>NaN</td>\n",
              "      <td>NaN</td>\n",
              "      <td>NaN</td>\n",
              "      <td>NaN</td>\n",
              "      <td>NaN</td>\n",
              "      <td>2018-08-15 17:35:48.491174</td>\n",
              "    </tr>\n",
              "    <tr>\n",
              "      <th>2</th>\n",
              "      <td>Internet Marketing Specialist</td>\n",
              "      <td>http://www.glassdoor.com/partner/jobListing.ht...</td>\n",
              "      <td>eBay</td>\n",
              "      <td>San Jose, CA</td>\n",
              "      <td>NaN</td>\n",
              "      <td>NaN</td>\n",
              "      <td>NaN</td>\n",
              "      <td>NaN</td>\n",
              "      <td>NaN</td>\n",
              "      <td>2018-08-15 17:35:48.491174</td>\n",
              "    </tr>\n",
              "    <tr>\n",
              "      <th>3</th>\n",
              "      <td>Digital Marketing Specialist</td>\n",
              "      <td>http://www.glassdoor.com/partner/jobListing.ht...</td>\n",
              "      <td>Trupanion</td>\n",
              "      <td>Seattle, WA</td>\n",
              "      <td>NaN</td>\n",
              "      <td>NaN</td>\n",
              "      <td>NaN</td>\n",
              "      <td>NaN</td>\n",
              "      <td>NaN</td>\n",
              "      <td>2018-08-15 17:35:48.491174</td>\n",
              "    </tr>\n",
              "    <tr>\n",
              "      <th>4</th>\n",
              "      <td>eCommerce Marketing Manager</td>\n",
              "      <td>http://www.glassdoor.com/partner/jobListing.ht...</td>\n",
              "      <td>Salix Pharmaceuticals</td>\n",
              "      <td>Bridgewater, NJ</td>\n",
              "      <td>NaN</td>\n",
              "      <td>NaN</td>\n",
              "      <td>NaN</td>\n",
              "      <td>NaN</td>\n",
              "      <td>NaN</td>\n",
              "      <td>2018-08-15 17:35:48.491174</td>\n",
              "    </tr>\n",
              "  </tbody>\n",
              "</table>\n",
              "</div>"
            ],
            "text/plain": [
              "                                Job_Title  \\\n",
              "0               VP of eCommerce Marketing   \n",
              "1  Audience Development Marketing Manager   \n",
              "2           Internet Marketing Specialist   \n",
              "3            Digital Marketing Specialist   \n",
              "4             eCommerce Marketing Manager   \n",
              "\n",
              "                                                URLs           Company_Name  \\\n",
              "0  http://www.glassdoor.com/partner/jobListing.ht...              RealTruck   \n",
              "1  http://www.glassdoor.com/partner/jobListing.ht...                    CAS   \n",
              "2  http://www.glassdoor.com/partner/jobListing.ht...                   eBay   \n",
              "3  http://www.glassdoor.com/partner/jobListing.ht...              Trupanion   \n",
              "4  http://www.glassdoor.com/partner/jobListing.ht...  Salix Pharmaceuticals   \n",
              "\n",
              "          Location  Contact Email  Contact Name  Contact Position  \\\n",
              "0        Ocala, FL            NaN           NaN               NaN   \n",
              "1   Washington, DC            NaN           NaN               NaN   \n",
              "2     San Jose, CA            NaN           NaN               NaN   \n",
              "3      Seattle, WA            NaN           NaN               NaN   \n",
              "4  Bridgewater, NJ            NaN           NaN               NaN   \n",
              "\n",
              "   Linkedin Sent Date  Date 1st Email Sent                        date  \n",
              "0                 NaN                  NaN  2018-08-15 17:35:48.491174  \n",
              "1                 NaN                  NaN  2018-08-15 17:35:48.491174  \n",
              "2                 NaN                  NaN  2018-08-15 17:35:48.491174  \n",
              "3                 NaN                  NaN  2018-08-15 17:35:48.491174  \n",
              "4                 NaN                  NaN  2018-08-15 17:35:48.491174  "
            ]
          },
          "metadata": {
            "tags": []
          },
          "execution_count": 22
        },
        {
          "output_type": "execute_result",
          "data": {
            "text/plain": [
              "64"
            ]
          },
          "metadata": {
            "tags": []
          },
          "execution_count": 22
        }
      ]
    },
    {
      "metadata": {
        "id": "foKloqWVdLBD",
        "colab_type": "text"
      },
      "cell_type": "markdown",
      "source": [
        "## Digital Marketing Associate"
      ]
    },
    {
      "metadata": {
        "id": "cLr6UoVKdLBD",
        "colab_type": "code",
        "colab": {
          "base_uri": "https://localhost:8080/",
          "height": 547
        },
        "outputId": "358893b9-5098-490f-ee9f-153707256c1c"
      },
      "cell_type": "code",
      "source": [
        "digitalmkt_asso_urls = []\n",
        "digitalmkt_asso_info = []\n",
        "digitalmkt_asso_job_title = []\n",
        "user_agent = UserAgent()\n",
        "\n",
        "for i in range(30):\n",
        "    print(\"Scraping Page:\",i+1)\n",
        "    main_url = 'https://www.glassdoor.com/Job/us-digital-marketing-associate-jobs-SRCH_IL.0,2_IN1_KO3,30_IP{}.htm?fromAge=1'.format(i+1)\n",
        "\n",
        "    page = requests.get(main_url,headers={'user-agent':user_agent.chrome})\n",
        "\n",
        "    soup = BeautifulSoup(page.content,'lxml')\n",
        "\n",
        "    all_divs = soup.select('li.jl div div div a.jobLink')\n",
        "    if all_divs != []:\n",
        "        for div in all_divs:\n",
        "            digitalmkt_asso_urls.append(div['href'])\n",
        "            digitalmkt_asso_job_title.append(div.get_text())\n",
        "\n",
        "    sleep(np.random.randint(5))\n",
        "    \n",
        "\n",
        "    all_divs1 = soup.select('li.jl div div.flexbox.empLoc div')\n",
        "    if all_divs1 != []:\n",
        "        for div in all_divs1:\n",
        "            if div.get_text() != 'New' and div.get_text() != \"We're Hiring\" and div.get_text() != \"EASY APPLY\" and div.get_text() != \"Hot\" and div.get_text() != 'Award Winner':\n",
        "                digitalmkt_asso_info.append(div.get_text())\n",
        "\n",
        "                      \n",
        "    sleep(np.random.randint(5))"
      ],
      "execution_count": 23,
      "outputs": [
        {
          "output_type": "stream",
          "text": [
            "Scraping Page: 1\n",
            "Scraping Page: 2\n",
            "Scraping Page: 3\n",
            "Scraping Page: 4\n",
            "Scraping Page: 5\n",
            "Scraping Page: 6\n",
            "Scraping Page: 7\n",
            "Scraping Page: 8\n",
            "Scraping Page: 9\n",
            "Scraping Page: 10\n",
            "Scraping Page: 11\n",
            "Scraping Page: 12\n",
            "Scraping Page: 13\n",
            "Scraping Page: 14\n",
            "Scraping Page: 15\n",
            "Scraping Page: 16\n",
            "Scraping Page: 17\n",
            "Scraping Page: 18\n",
            "Scraping Page: 19\n",
            "Scraping Page: 20\n",
            "Scraping Page: 21\n",
            "Scraping Page: 22\n",
            "Scraping Page: 23\n",
            "Scraping Page: 24\n",
            "Scraping Page: 25\n",
            "Scraping Page: 26\n",
            "Scraping Page: 27\n",
            "Scraping Page: 28\n",
            "Scraping Page: 29\n",
            "Scraping Page: 30\n"
          ],
          "name": "stdout"
        }
      ]
    },
    {
      "metadata": {
        "id": "Sck4mht0dLBH",
        "colab_type": "code",
        "colab": {
          "base_uri": "https://localhost:8080/",
          "height": 54
        },
        "outputId": "ce9e6ae3-4b3c-4ee3-e3af-0a0a30b8f74c"
      },
      "cell_type": "code",
      "source": [
        "len(digitalmkt_asso_urls)\n",
        "len(digitalmkt_asso_job_title)\n",
        "len(digitalmkt_asso_info)"
      ],
      "execution_count": 24,
      "outputs": [
        {
          "output_type": "execute_result",
          "data": {
            "text/plain": [
              "772"
            ]
          },
          "metadata": {
            "tags": []
          },
          "execution_count": 24
        },
        {
          "output_type": "execute_result",
          "data": {
            "text/plain": [
              "772"
            ]
          },
          "metadata": {
            "tags": []
          },
          "execution_count": 24
        },
        {
          "output_type": "execute_result",
          "data": {
            "text/plain": [
              "772"
            ]
          },
          "metadata": {
            "tags": []
          },
          "execution_count": 24
        }
      ]
    },
    {
      "metadata": {
        "id": "MbvdUizSdLBL",
        "colab_type": "code",
        "colab": {}
      },
      "cell_type": "code",
      "source": [
        "digitalmkt_asso = []\n",
        "base_link = 'http://www.glassdoor.com'\n",
        "for link in digitalmkt_asso_urls:\n",
        "    digitalmkt_asso.append(base_link + link)"
      ],
      "execution_count": 0,
      "outputs": []
    },
    {
      "metadata": {
        "id": "FR9ZoCdkdLBN",
        "colab_type": "code",
        "colab": {
          "base_uri": "https://localhost:8080/",
          "height": 377
        },
        "outputId": "d0efbe37-05f6-43b1-f425-0b4d5e5ae156"
      },
      "cell_type": "code",
      "source": [
        "digitalmkt_asso_df = pd.DataFrame({'Job_Title':digitalmkt_asso_job_title,\"INFO\":digitalmkt_asso_info,\"URLs\":digitalmkt_asso})\n",
        "digitalmkt_asso_df = digitalmkt_asso_df[~(digitalmkt_asso_df['Job_Title'].str.contains(\"None\"))]\n",
        "digitalmkt_asso_df = digitalmkt_asso_df[~(digitalmkt_asso_df['INFO'].str.contains(\"None\"))]\n",
        "digitalmkt_asso_df['Company_Name'] = digitalmkt_asso_df['INFO'].apply(lambda x: x.strip().split(\"–\")[0].strip())\n",
        "digitalmkt_asso_df['Location'] = digitalmkt_asso_df['INFO'].apply(lambda x: x.strip().split(\"–\")[1].strip())\n",
        "digitalmkt_asso_df = digitalmkt_asso_df.drop(\"INFO\",axis=1)\n",
        "digitalmkt_asso_df = digitalmkt_asso_df.reset_index(drop=True)\n",
        "digitalmkt_asso_df.head()"
      ],
      "execution_count": 26,
      "outputs": [
        {
          "output_type": "execute_result",
          "data": {
            "text/html": [
              "<div>\n",
              "<style scoped>\n",
              "    .dataframe tbody tr th:only-of-type {\n",
              "        vertical-align: middle;\n",
              "    }\n",
              "\n",
              "    .dataframe tbody tr th {\n",
              "        vertical-align: top;\n",
              "    }\n",
              "\n",
              "    .dataframe thead th {\n",
              "        text-align: right;\n",
              "    }\n",
              "</style>\n",
              "<table border=\"1\" class=\"dataframe\">\n",
              "  <thead>\n",
              "    <tr style=\"text-align: right;\">\n",
              "      <th></th>\n",
              "      <th>Job_Title</th>\n",
              "      <th>URLs</th>\n",
              "      <th>Company_Name</th>\n",
              "      <th>Location</th>\n",
              "    </tr>\n",
              "  </thead>\n",
              "  <tbody>\n",
              "    <tr>\n",
              "      <th>0</th>\n",
              "      <td>Digital Marketing Recruiter</td>\n",
              "      <td>http://www.glassdoor.com/partner/jobListing.ht...</td>\n",
              "      <td>Jellyfish</td>\n",
              "      <td>Baltimore, MD</td>\n",
              "    </tr>\n",
              "    <tr>\n",
              "      <th>1</th>\n",
              "      <td>Marketing Associate</td>\n",
              "      <td>http://www.glassdoor.com/partner/jobListing.ht...</td>\n",
              "      <td>Entefy</td>\n",
              "      <td>Palo Alto, CA</td>\n",
              "    </tr>\n",
              "    <tr>\n",
              "      <th>2</th>\n",
              "      <td>Digital Marketing Manager</td>\n",
              "      <td>http://www.glassdoor.com/partner/jobListing.ht...</td>\n",
              "      <td>Clayco</td>\n",
              "      <td>Saint Louis, MO</td>\n",
              "    </tr>\n",
              "    <tr>\n",
              "      <th>3</th>\n",
              "      <td>Digital Marketing Specialist</td>\n",
              "      <td>http://www.glassdoor.com/partner/jobListing.ht...</td>\n",
              "      <td>Trupanion</td>\n",
              "      <td>Seattle, WA</td>\n",
              "    </tr>\n",
              "    <tr>\n",
              "      <th>4</th>\n",
              "      <td>Manager of Digital Data &amp; Analytics</td>\n",
              "      <td>http://www.glassdoor.com/partner/jobListing.ht...</td>\n",
              "      <td>Chattem</td>\n",
              "      <td>Chattanooga, TN</td>\n",
              "    </tr>\n",
              "  </tbody>\n",
              "</table>\n",
              "</div>"
            ],
            "text/plain": [
              "                             Job_Title  \\\n",
              "0          Digital Marketing Recruiter   \n",
              "1                  Marketing Associate   \n",
              "2            Digital Marketing Manager   \n",
              "3         Digital Marketing Specialist   \n",
              "4  Manager of Digital Data & Analytics   \n",
              "\n",
              "                                                URLs Company_Name  \\\n",
              "0  http://www.glassdoor.com/partner/jobListing.ht...    Jellyfish   \n",
              "1  http://www.glassdoor.com/partner/jobListing.ht...       Entefy   \n",
              "2  http://www.glassdoor.com/partner/jobListing.ht...       Clayco   \n",
              "3  http://www.glassdoor.com/partner/jobListing.ht...    Trupanion   \n",
              "4  http://www.glassdoor.com/partner/jobListing.ht...      Chattem   \n",
              "\n",
              "          Location  \n",
              "0    Baltimore, MD  \n",
              "1    Palo Alto, CA  \n",
              "2  Saint Louis, MO  \n",
              "3      Seattle, WA  \n",
              "4  Chattanooga, TN  "
            ]
          },
          "metadata": {
            "tags": []
          },
          "execution_count": 26
        }
      ]
    },
    {
      "metadata": {
        "id": "vlLKdYF5dLBR",
        "colab_type": "code",
        "colab": {
          "base_uri": "https://localhost:8080/",
          "height": 768
        },
        "outputId": "ee7594fa-0e58-4ac2-8a49-070f8325c061"
      },
      "cell_type": "code",
      "source": [
        "digitalmkt_asso_df = digitalmkt_asso_df.drop_duplicates(subset=['Company_Name']).reset_index(drop=True)\n",
        "len(digitalmkt_asso_df)\n",
        "digitalmkt_asso_df.head()\n",
        "digitalmkt_asso_df['Job_Title'] = digitalmkt_asso_df['Job_Title'].apply(lambda x: x if \"Marketing\" in x else 'None')\n",
        "digitalmkt_asso_df = digitalmkt_asso_df[digitalmkt_asso_df['Job_Title'] != 'None'].reset_index(drop=True)\n",
        "len(digitalmkt_asso_df)\n",
        "digitalmkt_asso_df.head()"
      ],
      "execution_count": 27,
      "outputs": [
        {
          "output_type": "execute_result",
          "data": {
            "text/plain": [
              "573"
            ]
          },
          "metadata": {
            "tags": []
          },
          "execution_count": 27
        },
        {
          "output_type": "execute_result",
          "data": {
            "text/html": [
              "<div>\n",
              "<style scoped>\n",
              "    .dataframe tbody tr th:only-of-type {\n",
              "        vertical-align: middle;\n",
              "    }\n",
              "\n",
              "    .dataframe tbody tr th {\n",
              "        vertical-align: top;\n",
              "    }\n",
              "\n",
              "    .dataframe thead th {\n",
              "        text-align: right;\n",
              "    }\n",
              "</style>\n",
              "<table border=\"1\" class=\"dataframe\">\n",
              "  <thead>\n",
              "    <tr style=\"text-align: right;\">\n",
              "      <th></th>\n",
              "      <th>Job_Title</th>\n",
              "      <th>URLs</th>\n",
              "      <th>Company_Name</th>\n",
              "      <th>Location</th>\n",
              "    </tr>\n",
              "  </thead>\n",
              "  <tbody>\n",
              "    <tr>\n",
              "      <th>0</th>\n",
              "      <td>Digital Marketing Recruiter</td>\n",
              "      <td>http://www.glassdoor.com/partner/jobListing.ht...</td>\n",
              "      <td>Jellyfish</td>\n",
              "      <td>Baltimore, MD</td>\n",
              "    </tr>\n",
              "    <tr>\n",
              "      <th>1</th>\n",
              "      <td>Marketing Associate</td>\n",
              "      <td>http://www.glassdoor.com/partner/jobListing.ht...</td>\n",
              "      <td>Entefy</td>\n",
              "      <td>Palo Alto, CA</td>\n",
              "    </tr>\n",
              "    <tr>\n",
              "      <th>2</th>\n",
              "      <td>Digital Marketing Manager</td>\n",
              "      <td>http://www.glassdoor.com/partner/jobListing.ht...</td>\n",
              "      <td>Clayco</td>\n",
              "      <td>Saint Louis, MO</td>\n",
              "    </tr>\n",
              "    <tr>\n",
              "      <th>3</th>\n",
              "      <td>Digital Marketing Specialist</td>\n",
              "      <td>http://www.glassdoor.com/partner/jobListing.ht...</td>\n",
              "      <td>Trupanion</td>\n",
              "      <td>Seattle, WA</td>\n",
              "    </tr>\n",
              "    <tr>\n",
              "      <th>4</th>\n",
              "      <td>Manager of Digital Data &amp; Analytics</td>\n",
              "      <td>http://www.glassdoor.com/partner/jobListing.ht...</td>\n",
              "      <td>Chattem</td>\n",
              "      <td>Chattanooga, TN</td>\n",
              "    </tr>\n",
              "  </tbody>\n",
              "</table>\n",
              "</div>"
            ],
            "text/plain": [
              "                             Job_Title  \\\n",
              "0          Digital Marketing Recruiter   \n",
              "1                  Marketing Associate   \n",
              "2            Digital Marketing Manager   \n",
              "3         Digital Marketing Specialist   \n",
              "4  Manager of Digital Data & Analytics   \n",
              "\n",
              "                                                URLs Company_Name  \\\n",
              "0  http://www.glassdoor.com/partner/jobListing.ht...    Jellyfish   \n",
              "1  http://www.glassdoor.com/partner/jobListing.ht...       Entefy   \n",
              "2  http://www.glassdoor.com/partner/jobListing.ht...       Clayco   \n",
              "3  http://www.glassdoor.com/partner/jobListing.ht...    Trupanion   \n",
              "4  http://www.glassdoor.com/partner/jobListing.ht...      Chattem   \n",
              "\n",
              "          Location  \n",
              "0    Baltimore, MD  \n",
              "1    Palo Alto, CA  \n",
              "2  Saint Louis, MO  \n",
              "3      Seattle, WA  \n",
              "4  Chattanooga, TN  "
            ]
          },
          "metadata": {
            "tags": []
          },
          "execution_count": 27
        },
        {
          "output_type": "execute_result",
          "data": {
            "text/plain": [
              "362"
            ]
          },
          "metadata": {
            "tags": []
          },
          "execution_count": 27
        },
        {
          "output_type": "execute_result",
          "data": {
            "text/html": [
              "<div>\n",
              "<style scoped>\n",
              "    .dataframe tbody tr th:only-of-type {\n",
              "        vertical-align: middle;\n",
              "    }\n",
              "\n",
              "    .dataframe tbody tr th {\n",
              "        vertical-align: top;\n",
              "    }\n",
              "\n",
              "    .dataframe thead th {\n",
              "        text-align: right;\n",
              "    }\n",
              "</style>\n",
              "<table border=\"1\" class=\"dataframe\">\n",
              "  <thead>\n",
              "    <tr style=\"text-align: right;\">\n",
              "      <th></th>\n",
              "      <th>Job_Title</th>\n",
              "      <th>URLs</th>\n",
              "      <th>Company_Name</th>\n",
              "      <th>Location</th>\n",
              "    </tr>\n",
              "  </thead>\n",
              "  <tbody>\n",
              "    <tr>\n",
              "      <th>0</th>\n",
              "      <td>Digital Marketing Recruiter</td>\n",
              "      <td>http://www.glassdoor.com/partner/jobListing.ht...</td>\n",
              "      <td>Jellyfish</td>\n",
              "      <td>Baltimore, MD</td>\n",
              "    </tr>\n",
              "    <tr>\n",
              "      <th>1</th>\n",
              "      <td>Marketing Associate</td>\n",
              "      <td>http://www.glassdoor.com/partner/jobListing.ht...</td>\n",
              "      <td>Entefy</td>\n",
              "      <td>Palo Alto, CA</td>\n",
              "    </tr>\n",
              "    <tr>\n",
              "      <th>2</th>\n",
              "      <td>Digital Marketing Manager</td>\n",
              "      <td>http://www.glassdoor.com/partner/jobListing.ht...</td>\n",
              "      <td>Clayco</td>\n",
              "      <td>Saint Louis, MO</td>\n",
              "    </tr>\n",
              "    <tr>\n",
              "      <th>3</th>\n",
              "      <td>Digital Marketing Specialist</td>\n",
              "      <td>http://www.glassdoor.com/partner/jobListing.ht...</td>\n",
              "      <td>Trupanion</td>\n",
              "      <td>Seattle, WA</td>\n",
              "    </tr>\n",
              "    <tr>\n",
              "      <th>4</th>\n",
              "      <td>Digital Marketing, Senior Associate</td>\n",
              "      <td>http://www.glassdoor.com/partner/jobListing.ht...</td>\n",
              "      <td>Remitly</td>\n",
              "      <td>Seattle, WA</td>\n",
              "    </tr>\n",
              "  </tbody>\n",
              "</table>\n",
              "</div>"
            ],
            "text/plain": [
              "                             Job_Title  \\\n",
              "0          Digital Marketing Recruiter   \n",
              "1                  Marketing Associate   \n",
              "2            Digital Marketing Manager   \n",
              "3         Digital Marketing Specialist   \n",
              "4  Digital Marketing, Senior Associate   \n",
              "\n",
              "                                                URLs Company_Name  \\\n",
              "0  http://www.glassdoor.com/partner/jobListing.ht...    Jellyfish   \n",
              "1  http://www.glassdoor.com/partner/jobListing.ht...       Entefy   \n",
              "2  http://www.glassdoor.com/partner/jobListing.ht...       Clayco   \n",
              "3  http://www.glassdoor.com/partner/jobListing.ht...    Trupanion   \n",
              "4  http://www.glassdoor.com/partner/jobListing.ht...      Remitly   \n",
              "\n",
              "          Location  \n",
              "0    Baltimore, MD  \n",
              "1    Palo Alto, CA  \n",
              "2  Saint Louis, MO  \n",
              "3      Seattle, WA  \n",
              "4      Seattle, WA  "
            ]
          },
          "metadata": {
            "tags": []
          },
          "execution_count": 27
        }
      ]
    },
    {
      "metadata": {
        "id": "d1Hf9BBidLBX",
        "colab_type": "code",
        "colab": {
          "base_uri": "https://localhost:8080/",
          "height": 462
        },
        "outputId": "55ad3a09-048c-4943-fb31-d87ba5e5067d"
      },
      "cell_type": "code",
      "source": [
        "digitalmkt_asso_df['Contact Email'] = np.nan\n",
        "digitalmkt_asso_df['Contact Name'] = np.nan\n",
        "digitalmkt_asso_df['Contact Position'] = np.nan\n",
        "digitalmkt_asso_df['Linkedin Sent Date'] = np.nan\n",
        "digitalmkt_asso_df['Date 1st Email Sent'] = np.nan\n",
        "digitalmkt_asso_df['date'] = str(datetime.datetime.now())\n",
        "digitalmkt_asso_df.head()\n",
        "len(digitalmkt_asso_df)"
      ],
      "execution_count": 28,
      "outputs": [
        {
          "output_type": "execute_result",
          "data": {
            "text/html": [
              "<div>\n",
              "<style scoped>\n",
              "    .dataframe tbody tr th:only-of-type {\n",
              "        vertical-align: middle;\n",
              "    }\n",
              "\n",
              "    .dataframe tbody tr th {\n",
              "        vertical-align: top;\n",
              "    }\n",
              "\n",
              "    .dataframe thead th {\n",
              "        text-align: right;\n",
              "    }\n",
              "</style>\n",
              "<table border=\"1\" class=\"dataframe\">\n",
              "  <thead>\n",
              "    <tr style=\"text-align: right;\">\n",
              "      <th></th>\n",
              "      <th>Job_Title</th>\n",
              "      <th>URLs</th>\n",
              "      <th>Company_Name</th>\n",
              "      <th>Location</th>\n",
              "      <th>Contact Email</th>\n",
              "      <th>Contact Name</th>\n",
              "      <th>Contact Position</th>\n",
              "      <th>Linkedin Sent Date</th>\n",
              "      <th>Date 1st Email Sent</th>\n",
              "      <th>date</th>\n",
              "    </tr>\n",
              "  </thead>\n",
              "  <tbody>\n",
              "    <tr>\n",
              "      <th>0</th>\n",
              "      <td>Digital Marketing Recruiter</td>\n",
              "      <td>http://www.glassdoor.com/partner/jobListing.ht...</td>\n",
              "      <td>Jellyfish</td>\n",
              "      <td>Baltimore, MD</td>\n",
              "      <td>NaN</td>\n",
              "      <td>NaN</td>\n",
              "      <td>NaN</td>\n",
              "      <td>NaN</td>\n",
              "      <td>NaN</td>\n",
              "      <td>2018-08-15 17:39:10.494665</td>\n",
              "    </tr>\n",
              "    <tr>\n",
              "      <th>1</th>\n",
              "      <td>Marketing Associate</td>\n",
              "      <td>http://www.glassdoor.com/partner/jobListing.ht...</td>\n",
              "      <td>Entefy</td>\n",
              "      <td>Palo Alto, CA</td>\n",
              "      <td>NaN</td>\n",
              "      <td>NaN</td>\n",
              "      <td>NaN</td>\n",
              "      <td>NaN</td>\n",
              "      <td>NaN</td>\n",
              "      <td>2018-08-15 17:39:10.494665</td>\n",
              "    </tr>\n",
              "    <tr>\n",
              "      <th>2</th>\n",
              "      <td>Digital Marketing Manager</td>\n",
              "      <td>http://www.glassdoor.com/partner/jobListing.ht...</td>\n",
              "      <td>Clayco</td>\n",
              "      <td>Saint Louis, MO</td>\n",
              "      <td>NaN</td>\n",
              "      <td>NaN</td>\n",
              "      <td>NaN</td>\n",
              "      <td>NaN</td>\n",
              "      <td>NaN</td>\n",
              "      <td>2018-08-15 17:39:10.494665</td>\n",
              "    </tr>\n",
              "    <tr>\n",
              "      <th>3</th>\n",
              "      <td>Digital Marketing Specialist</td>\n",
              "      <td>http://www.glassdoor.com/partner/jobListing.ht...</td>\n",
              "      <td>Trupanion</td>\n",
              "      <td>Seattle, WA</td>\n",
              "      <td>NaN</td>\n",
              "      <td>NaN</td>\n",
              "      <td>NaN</td>\n",
              "      <td>NaN</td>\n",
              "      <td>NaN</td>\n",
              "      <td>2018-08-15 17:39:10.494665</td>\n",
              "    </tr>\n",
              "    <tr>\n",
              "      <th>4</th>\n",
              "      <td>Digital Marketing, Senior Associate</td>\n",
              "      <td>http://www.glassdoor.com/partner/jobListing.ht...</td>\n",
              "      <td>Remitly</td>\n",
              "      <td>Seattle, WA</td>\n",
              "      <td>NaN</td>\n",
              "      <td>NaN</td>\n",
              "      <td>NaN</td>\n",
              "      <td>NaN</td>\n",
              "      <td>NaN</td>\n",
              "      <td>2018-08-15 17:39:10.494665</td>\n",
              "    </tr>\n",
              "  </tbody>\n",
              "</table>\n",
              "</div>"
            ],
            "text/plain": [
              "                             Job_Title  \\\n",
              "0          Digital Marketing Recruiter   \n",
              "1                  Marketing Associate   \n",
              "2            Digital Marketing Manager   \n",
              "3         Digital Marketing Specialist   \n",
              "4  Digital Marketing, Senior Associate   \n",
              "\n",
              "                                                URLs Company_Name  \\\n",
              "0  http://www.glassdoor.com/partner/jobListing.ht...    Jellyfish   \n",
              "1  http://www.glassdoor.com/partner/jobListing.ht...       Entefy   \n",
              "2  http://www.glassdoor.com/partner/jobListing.ht...       Clayco   \n",
              "3  http://www.glassdoor.com/partner/jobListing.ht...    Trupanion   \n",
              "4  http://www.glassdoor.com/partner/jobListing.ht...      Remitly   \n",
              "\n",
              "          Location  Contact Email  Contact Name  Contact Position  \\\n",
              "0    Baltimore, MD            NaN           NaN               NaN   \n",
              "1    Palo Alto, CA            NaN           NaN               NaN   \n",
              "2  Saint Louis, MO            NaN           NaN               NaN   \n",
              "3      Seattle, WA            NaN           NaN               NaN   \n",
              "4      Seattle, WA            NaN           NaN               NaN   \n",
              "\n",
              "   Linkedin Sent Date  Date 1st Email Sent                        date  \n",
              "0                 NaN                  NaN  2018-08-15 17:39:10.494665  \n",
              "1                 NaN                  NaN  2018-08-15 17:39:10.494665  \n",
              "2                 NaN                  NaN  2018-08-15 17:39:10.494665  \n",
              "3                 NaN                  NaN  2018-08-15 17:39:10.494665  \n",
              "4                 NaN                  NaN  2018-08-15 17:39:10.494665  "
            ]
          },
          "metadata": {
            "tags": []
          },
          "execution_count": 28
        },
        {
          "output_type": "execute_result",
          "data": {
            "text/plain": [
              "362"
            ]
          },
          "metadata": {
            "tags": []
          },
          "execution_count": 28
        }
      ]
    },
    {
      "metadata": {
        "id": "No5Xp3nr4_LO",
        "colab_type": "text"
      },
      "cell_type": "markdown",
      "source": [
        "## PPC"
      ]
    },
    {
      "metadata": {
        "id": "Ixqy9L0N5QyT",
        "colab_type": "code",
        "colab": {
          "base_uri": "https://localhost:8080/",
          "height": 547
        },
        "outputId": "d8599d69-6765-4286-c743-c8c01c8d24a2"
      },
      "cell_type": "code",
      "source": [
        "ppc_urls = []\n",
        "ppc_info = []\n",
        "ppc_job_title = []\n",
        "user_agent = UserAgent()\n",
        "\n",
        "for i in range(30):\n",
        "    print(\"Scraping Page:\",i+1)\n",
        "    main_url = 'https://www.glassdoor.com/Job/us-digital-marketing-associate-jobs-SRCH_IL.0,2_IN1_KO3,30_IP{}.htm?fromAge=1'.format(i+1)\n",
        "\n",
        "    page = requests.get(main_url,headers={'user-agent':user_agent.chrome})\n",
        "\n",
        "    soup = BeautifulSoup(page.content,'lxml')\n",
        "\n",
        "    all_divs = soup.select('li.jl div div div a.jobLink')\n",
        "    if all_divs != []:\n",
        "        for div in all_divs:\n",
        "            ppc_urls.append(div['href'])\n",
        "            ppc_job_title.append(div.get_text())\n",
        "\n",
        "    sleep(np.random.randint(5))\n",
        "    \n",
        "\n",
        "    all_divs1 = soup.select('li.jl div div.flexbox.empLoc div')\n",
        "    if all_divs1 != []:\n",
        "        for div in all_divs1:\n",
        "            if div.get_text() != 'New' and div.get_text() != \"We're Hiring\" and div.get_text() != \"EASY APPLY\" and div.get_text() != \"Hot\" and div.get_text() != 'Award Winner':\n",
        "                ppc_info.append(div.get_text())\n",
        "\n",
        "                      \n",
        "    sleep(np.random.randint(5))"
      ],
      "execution_count": 29,
      "outputs": [
        {
          "output_type": "stream",
          "text": [
            "Scraping Page: 1\n",
            "Scraping Page: 2\n",
            "Scraping Page: 3\n",
            "Scraping Page: 4\n",
            "Scraping Page: 5\n",
            "Scraping Page: 6\n",
            "Scraping Page: 7\n",
            "Scraping Page: 8\n",
            "Scraping Page: 9\n",
            "Scraping Page: 10\n",
            "Scraping Page: 11\n",
            "Scraping Page: 12\n",
            "Scraping Page: 13\n",
            "Scraping Page: 14\n",
            "Scraping Page: 15\n",
            "Scraping Page: 16\n",
            "Scraping Page: 17\n",
            "Scraping Page: 18\n",
            "Scraping Page: 19\n",
            "Scraping Page: 20\n",
            "Scraping Page: 21\n",
            "Scraping Page: 22\n",
            "Scraping Page: 23\n",
            "Scraping Page: 24\n",
            "Scraping Page: 25\n",
            "Scraping Page: 26\n",
            "Scraping Page: 27\n",
            "Scraping Page: 28\n",
            "Scraping Page: 29\n",
            "Scraping Page: 30\n"
          ],
          "name": "stdout"
        }
      ]
    },
    {
      "metadata": {
        "id": "iURazsku6EYn",
        "colab_type": "code",
        "colab": {
          "base_uri": "https://localhost:8080/",
          "height": 54
        },
        "outputId": "b950959f-e159-4a57-e024-8d9c3252e074"
      },
      "cell_type": "code",
      "source": [
        "len(ppc_urls)\n",
        "len(ppc_job_title)\n",
        "len(ppc_info)"
      ],
      "execution_count": 30,
      "outputs": [
        {
          "output_type": "execute_result",
          "data": {
            "text/plain": [
              "778"
            ]
          },
          "metadata": {
            "tags": []
          },
          "execution_count": 30
        },
        {
          "output_type": "execute_result",
          "data": {
            "text/plain": [
              "778"
            ]
          },
          "metadata": {
            "tags": []
          },
          "execution_count": 30
        },
        {
          "output_type": "execute_result",
          "data": {
            "text/plain": [
              "778"
            ]
          },
          "metadata": {
            "tags": []
          },
          "execution_count": 30
        }
      ]
    },
    {
      "metadata": {
        "id": "FiTL2nWA6Nt0",
        "colab_type": "code",
        "colab": {}
      },
      "cell_type": "code",
      "source": [
        "ppc = []\n",
        "base_link = 'http://www.glassdoor.com'\n",
        "for link in ppc_urls:\n",
        "    ppc.append(base_link + link)"
      ],
      "execution_count": 0,
      "outputs": []
    },
    {
      "metadata": {
        "id": "6fIm-V5m6YCS",
        "colab_type": "code",
        "colab": {
          "base_uri": "https://localhost:8080/",
          "height": 377
        },
        "outputId": "273e253a-fd90-45db-95a8-69f295642702"
      },
      "cell_type": "code",
      "source": [
        "ppc_df = pd.DataFrame({'Job_Title':ppc_job_title,\"INFO\":ppc_info,\"URLs\":ppc})\n",
        "ppc_df = ppc_df[~(ppc_df['Job_Title'].str.contains(\"None\"))]\n",
        "ppc_df = ppc_df[~(ppc_df['INFO'].str.contains(\"None\"))]\n",
        "ppc_df['Company_Name'] = ppc_df['INFO'].apply(lambda x: x.strip().split(\"–\")[0].strip())\n",
        "ppc_df['Location'] = ppc_df['INFO'].apply(lambda x: x.strip().split(\"–\")[1].strip())\n",
        "ppc_df = ppc_df.drop(\"INFO\",axis=1)\n",
        "ppc_df = ppc_df.reset_index(drop=True)\n",
        "ppc_df.head()"
      ],
      "execution_count": 32,
      "outputs": [
        {
          "output_type": "execute_result",
          "data": {
            "text/html": [
              "<div>\n",
              "<style scoped>\n",
              "    .dataframe tbody tr th:only-of-type {\n",
              "        vertical-align: middle;\n",
              "    }\n",
              "\n",
              "    .dataframe tbody tr th {\n",
              "        vertical-align: top;\n",
              "    }\n",
              "\n",
              "    .dataframe thead th {\n",
              "        text-align: right;\n",
              "    }\n",
              "</style>\n",
              "<table border=\"1\" class=\"dataframe\">\n",
              "  <thead>\n",
              "    <tr style=\"text-align: right;\">\n",
              "      <th></th>\n",
              "      <th>Job_Title</th>\n",
              "      <th>URLs</th>\n",
              "      <th>Company_Name</th>\n",
              "      <th>Location</th>\n",
              "    </tr>\n",
              "  </thead>\n",
              "  <tbody>\n",
              "    <tr>\n",
              "      <th>0</th>\n",
              "      <td>Digital Marketing Recruiter</td>\n",
              "      <td>http://www.glassdoor.com/partner/jobListing.ht...</td>\n",
              "      <td>Jellyfish</td>\n",
              "      <td>Baltimore, MD</td>\n",
              "    </tr>\n",
              "    <tr>\n",
              "      <th>1</th>\n",
              "      <td>Digital Marketing Manager</td>\n",
              "      <td>http://www.glassdoor.com/partner/jobListing.ht...</td>\n",
              "      <td>Clayco</td>\n",
              "      <td>Saint Louis, MO</td>\n",
              "    </tr>\n",
              "    <tr>\n",
              "      <th>2</th>\n",
              "      <td>Marketing Associate</td>\n",
              "      <td>http://www.glassdoor.com/partner/jobListing.ht...</td>\n",
              "      <td>Entefy</td>\n",
              "      <td>Palo Alto, CA</td>\n",
              "    </tr>\n",
              "    <tr>\n",
              "      <th>3</th>\n",
              "      <td>Digital Marketing Specialist</td>\n",
              "      <td>http://www.glassdoor.com/partner/jobListing.ht...</td>\n",
              "      <td>Trupanion</td>\n",
              "      <td>Seattle, WA</td>\n",
              "    </tr>\n",
              "    <tr>\n",
              "      <th>4</th>\n",
              "      <td>Manager of Digital Data &amp; Analytics</td>\n",
              "      <td>http://www.glassdoor.com/partner/jobListing.ht...</td>\n",
              "      <td>Chattem</td>\n",
              "      <td>Chattanooga, TN</td>\n",
              "    </tr>\n",
              "  </tbody>\n",
              "</table>\n",
              "</div>"
            ],
            "text/plain": [
              "                             Job_Title  \\\n",
              "0          Digital Marketing Recruiter   \n",
              "1            Digital Marketing Manager   \n",
              "2                  Marketing Associate   \n",
              "3         Digital Marketing Specialist   \n",
              "4  Manager of Digital Data & Analytics   \n",
              "\n",
              "                                                URLs Company_Name  \\\n",
              "0  http://www.glassdoor.com/partner/jobListing.ht...    Jellyfish   \n",
              "1  http://www.glassdoor.com/partner/jobListing.ht...       Clayco   \n",
              "2  http://www.glassdoor.com/partner/jobListing.ht...       Entefy   \n",
              "3  http://www.glassdoor.com/partner/jobListing.ht...    Trupanion   \n",
              "4  http://www.glassdoor.com/partner/jobListing.ht...      Chattem   \n",
              "\n",
              "          Location  \n",
              "0    Baltimore, MD  \n",
              "1  Saint Louis, MO  \n",
              "2    Palo Alto, CA  \n",
              "3      Seattle, WA  \n",
              "4  Chattanooga, TN  "
            ]
          },
          "metadata": {
            "tags": []
          },
          "execution_count": 32
        }
      ]
    },
    {
      "metadata": {
        "id": "8VmQRLcW6kFO",
        "colab_type": "code",
        "colab": {
          "base_uri": "https://localhost:8080/",
          "height": 768
        },
        "outputId": "aba13f2e-29a4-4566-e469-a1888ccc9169"
      },
      "cell_type": "code",
      "source": [
        "ppc_df = ppc_df.drop_duplicates(subset=['Company_Name']).reset_index(drop=True)\n",
        "len(ppc_df)\n",
        "ppc_df.head()\n",
        "ppc_df['Job_Title'] = ppc_df['Job_Title'].apply(lambda x: x if \"Marketing\" in x else 'None')\n",
        "ppc_df = ppc_df[ppc_df['Job_Title'] != 'None'].reset_index(drop=True)\n",
        "len(ppc_df)\n",
        "ppc_df.head()"
      ],
      "execution_count": 33,
      "outputs": [
        {
          "output_type": "execute_result",
          "data": {
            "text/plain": [
              "593"
            ]
          },
          "metadata": {
            "tags": []
          },
          "execution_count": 33
        },
        {
          "output_type": "execute_result",
          "data": {
            "text/html": [
              "<div>\n",
              "<style scoped>\n",
              "    .dataframe tbody tr th:only-of-type {\n",
              "        vertical-align: middle;\n",
              "    }\n",
              "\n",
              "    .dataframe tbody tr th {\n",
              "        vertical-align: top;\n",
              "    }\n",
              "\n",
              "    .dataframe thead th {\n",
              "        text-align: right;\n",
              "    }\n",
              "</style>\n",
              "<table border=\"1\" class=\"dataframe\">\n",
              "  <thead>\n",
              "    <tr style=\"text-align: right;\">\n",
              "      <th></th>\n",
              "      <th>Job_Title</th>\n",
              "      <th>URLs</th>\n",
              "      <th>Company_Name</th>\n",
              "      <th>Location</th>\n",
              "    </tr>\n",
              "  </thead>\n",
              "  <tbody>\n",
              "    <tr>\n",
              "      <th>0</th>\n",
              "      <td>Digital Marketing Recruiter</td>\n",
              "      <td>http://www.glassdoor.com/partner/jobListing.ht...</td>\n",
              "      <td>Jellyfish</td>\n",
              "      <td>Baltimore, MD</td>\n",
              "    </tr>\n",
              "    <tr>\n",
              "      <th>1</th>\n",
              "      <td>Digital Marketing Manager</td>\n",
              "      <td>http://www.glassdoor.com/partner/jobListing.ht...</td>\n",
              "      <td>Clayco</td>\n",
              "      <td>Saint Louis, MO</td>\n",
              "    </tr>\n",
              "    <tr>\n",
              "      <th>2</th>\n",
              "      <td>Marketing Associate</td>\n",
              "      <td>http://www.glassdoor.com/partner/jobListing.ht...</td>\n",
              "      <td>Entefy</td>\n",
              "      <td>Palo Alto, CA</td>\n",
              "    </tr>\n",
              "    <tr>\n",
              "      <th>3</th>\n",
              "      <td>Digital Marketing Specialist</td>\n",
              "      <td>http://www.glassdoor.com/partner/jobListing.ht...</td>\n",
              "      <td>Trupanion</td>\n",
              "      <td>Seattle, WA</td>\n",
              "    </tr>\n",
              "    <tr>\n",
              "      <th>4</th>\n",
              "      <td>Manager of Digital Data &amp; Analytics</td>\n",
              "      <td>http://www.glassdoor.com/partner/jobListing.ht...</td>\n",
              "      <td>Chattem</td>\n",
              "      <td>Chattanooga, TN</td>\n",
              "    </tr>\n",
              "  </tbody>\n",
              "</table>\n",
              "</div>"
            ],
            "text/plain": [
              "                             Job_Title  \\\n",
              "0          Digital Marketing Recruiter   \n",
              "1            Digital Marketing Manager   \n",
              "2                  Marketing Associate   \n",
              "3         Digital Marketing Specialist   \n",
              "4  Manager of Digital Data & Analytics   \n",
              "\n",
              "                                                URLs Company_Name  \\\n",
              "0  http://www.glassdoor.com/partner/jobListing.ht...    Jellyfish   \n",
              "1  http://www.glassdoor.com/partner/jobListing.ht...       Clayco   \n",
              "2  http://www.glassdoor.com/partner/jobListing.ht...       Entefy   \n",
              "3  http://www.glassdoor.com/partner/jobListing.ht...    Trupanion   \n",
              "4  http://www.glassdoor.com/partner/jobListing.ht...      Chattem   \n",
              "\n",
              "          Location  \n",
              "0    Baltimore, MD  \n",
              "1  Saint Louis, MO  \n",
              "2    Palo Alto, CA  \n",
              "3      Seattle, WA  \n",
              "4  Chattanooga, TN  "
            ]
          },
          "metadata": {
            "tags": []
          },
          "execution_count": 33
        },
        {
          "output_type": "execute_result",
          "data": {
            "text/plain": [
              "375"
            ]
          },
          "metadata": {
            "tags": []
          },
          "execution_count": 33
        },
        {
          "output_type": "execute_result",
          "data": {
            "text/html": [
              "<div>\n",
              "<style scoped>\n",
              "    .dataframe tbody tr th:only-of-type {\n",
              "        vertical-align: middle;\n",
              "    }\n",
              "\n",
              "    .dataframe tbody tr th {\n",
              "        vertical-align: top;\n",
              "    }\n",
              "\n",
              "    .dataframe thead th {\n",
              "        text-align: right;\n",
              "    }\n",
              "</style>\n",
              "<table border=\"1\" class=\"dataframe\">\n",
              "  <thead>\n",
              "    <tr style=\"text-align: right;\">\n",
              "      <th></th>\n",
              "      <th>Job_Title</th>\n",
              "      <th>URLs</th>\n",
              "      <th>Company_Name</th>\n",
              "      <th>Location</th>\n",
              "    </tr>\n",
              "  </thead>\n",
              "  <tbody>\n",
              "    <tr>\n",
              "      <th>0</th>\n",
              "      <td>Digital Marketing Recruiter</td>\n",
              "      <td>http://www.glassdoor.com/partner/jobListing.ht...</td>\n",
              "      <td>Jellyfish</td>\n",
              "      <td>Baltimore, MD</td>\n",
              "    </tr>\n",
              "    <tr>\n",
              "      <th>1</th>\n",
              "      <td>Digital Marketing Manager</td>\n",
              "      <td>http://www.glassdoor.com/partner/jobListing.ht...</td>\n",
              "      <td>Clayco</td>\n",
              "      <td>Saint Louis, MO</td>\n",
              "    </tr>\n",
              "    <tr>\n",
              "      <th>2</th>\n",
              "      <td>Marketing Associate</td>\n",
              "      <td>http://www.glassdoor.com/partner/jobListing.ht...</td>\n",
              "      <td>Entefy</td>\n",
              "      <td>Palo Alto, CA</td>\n",
              "    </tr>\n",
              "    <tr>\n",
              "      <th>3</th>\n",
              "      <td>Digital Marketing Specialist</td>\n",
              "      <td>http://www.glassdoor.com/partner/jobListing.ht...</td>\n",
              "      <td>Trupanion</td>\n",
              "      <td>Seattle, WA</td>\n",
              "    </tr>\n",
              "    <tr>\n",
              "      <th>4</th>\n",
              "      <td>Digital Marketing, Senior Associate</td>\n",
              "      <td>http://www.glassdoor.com/partner/jobListing.ht...</td>\n",
              "      <td>Remitly</td>\n",
              "      <td>Seattle, WA</td>\n",
              "    </tr>\n",
              "  </tbody>\n",
              "</table>\n",
              "</div>"
            ],
            "text/plain": [
              "                             Job_Title  \\\n",
              "0          Digital Marketing Recruiter   \n",
              "1            Digital Marketing Manager   \n",
              "2                  Marketing Associate   \n",
              "3         Digital Marketing Specialist   \n",
              "4  Digital Marketing, Senior Associate   \n",
              "\n",
              "                                                URLs Company_Name  \\\n",
              "0  http://www.glassdoor.com/partner/jobListing.ht...    Jellyfish   \n",
              "1  http://www.glassdoor.com/partner/jobListing.ht...       Clayco   \n",
              "2  http://www.glassdoor.com/partner/jobListing.ht...       Entefy   \n",
              "3  http://www.glassdoor.com/partner/jobListing.ht...    Trupanion   \n",
              "4  http://www.glassdoor.com/partner/jobListing.ht...      Remitly   \n",
              "\n",
              "          Location  \n",
              "0    Baltimore, MD  \n",
              "1  Saint Louis, MO  \n",
              "2    Palo Alto, CA  \n",
              "3      Seattle, WA  \n",
              "4      Seattle, WA  "
            ]
          },
          "metadata": {
            "tags": []
          },
          "execution_count": 33
        }
      ]
    },
    {
      "metadata": {
        "id": "mQmjexJ47IS1",
        "colab_type": "code",
        "colab": {
          "base_uri": "https://localhost:8080/",
          "height": 462
        },
        "outputId": "fe17130f-353a-4261-ba82-5c907d4e2039"
      },
      "cell_type": "code",
      "source": [
        "ppc_df['Contact Email'] = np.nan\n",
        "ppc_df['Contact Name'] = np.nan\n",
        "ppc_df['Contact Position'] = np.nan\n",
        "ppc_df['Linkedin Sent Date'] = np.nan\n",
        "ppc_df['Date 1st Email Sent'] = np.nan\n",
        "ppc_df['date'] = str(datetime.datetime.now())\n",
        "ppc_df.head()\n",
        "len(ppc_df)"
      ],
      "execution_count": 34,
      "outputs": [
        {
          "output_type": "execute_result",
          "data": {
            "text/html": [
              "<div>\n",
              "<style scoped>\n",
              "    .dataframe tbody tr th:only-of-type {\n",
              "        vertical-align: middle;\n",
              "    }\n",
              "\n",
              "    .dataframe tbody tr th {\n",
              "        vertical-align: top;\n",
              "    }\n",
              "\n",
              "    .dataframe thead th {\n",
              "        text-align: right;\n",
              "    }\n",
              "</style>\n",
              "<table border=\"1\" class=\"dataframe\">\n",
              "  <thead>\n",
              "    <tr style=\"text-align: right;\">\n",
              "      <th></th>\n",
              "      <th>Job_Title</th>\n",
              "      <th>URLs</th>\n",
              "      <th>Company_Name</th>\n",
              "      <th>Location</th>\n",
              "      <th>Contact Email</th>\n",
              "      <th>Contact Name</th>\n",
              "      <th>Contact Position</th>\n",
              "      <th>Linkedin Sent Date</th>\n",
              "      <th>Date 1st Email Sent</th>\n",
              "      <th>date</th>\n",
              "    </tr>\n",
              "  </thead>\n",
              "  <tbody>\n",
              "    <tr>\n",
              "      <th>0</th>\n",
              "      <td>Digital Marketing Recruiter</td>\n",
              "      <td>http://www.glassdoor.com/partner/jobListing.ht...</td>\n",
              "      <td>Jellyfish</td>\n",
              "      <td>Baltimore, MD</td>\n",
              "      <td>NaN</td>\n",
              "      <td>NaN</td>\n",
              "      <td>NaN</td>\n",
              "      <td>NaN</td>\n",
              "      <td>NaN</td>\n",
              "      <td>2018-08-15 17:42:31.679386</td>\n",
              "    </tr>\n",
              "    <tr>\n",
              "      <th>1</th>\n",
              "      <td>Digital Marketing Manager</td>\n",
              "      <td>http://www.glassdoor.com/partner/jobListing.ht...</td>\n",
              "      <td>Clayco</td>\n",
              "      <td>Saint Louis, MO</td>\n",
              "      <td>NaN</td>\n",
              "      <td>NaN</td>\n",
              "      <td>NaN</td>\n",
              "      <td>NaN</td>\n",
              "      <td>NaN</td>\n",
              "      <td>2018-08-15 17:42:31.679386</td>\n",
              "    </tr>\n",
              "    <tr>\n",
              "      <th>2</th>\n",
              "      <td>Marketing Associate</td>\n",
              "      <td>http://www.glassdoor.com/partner/jobListing.ht...</td>\n",
              "      <td>Entefy</td>\n",
              "      <td>Palo Alto, CA</td>\n",
              "      <td>NaN</td>\n",
              "      <td>NaN</td>\n",
              "      <td>NaN</td>\n",
              "      <td>NaN</td>\n",
              "      <td>NaN</td>\n",
              "      <td>2018-08-15 17:42:31.679386</td>\n",
              "    </tr>\n",
              "    <tr>\n",
              "      <th>3</th>\n",
              "      <td>Digital Marketing Specialist</td>\n",
              "      <td>http://www.glassdoor.com/partner/jobListing.ht...</td>\n",
              "      <td>Trupanion</td>\n",
              "      <td>Seattle, WA</td>\n",
              "      <td>NaN</td>\n",
              "      <td>NaN</td>\n",
              "      <td>NaN</td>\n",
              "      <td>NaN</td>\n",
              "      <td>NaN</td>\n",
              "      <td>2018-08-15 17:42:31.679386</td>\n",
              "    </tr>\n",
              "    <tr>\n",
              "      <th>4</th>\n",
              "      <td>Digital Marketing, Senior Associate</td>\n",
              "      <td>http://www.glassdoor.com/partner/jobListing.ht...</td>\n",
              "      <td>Remitly</td>\n",
              "      <td>Seattle, WA</td>\n",
              "      <td>NaN</td>\n",
              "      <td>NaN</td>\n",
              "      <td>NaN</td>\n",
              "      <td>NaN</td>\n",
              "      <td>NaN</td>\n",
              "      <td>2018-08-15 17:42:31.679386</td>\n",
              "    </tr>\n",
              "  </tbody>\n",
              "</table>\n",
              "</div>"
            ],
            "text/plain": [
              "                             Job_Title  \\\n",
              "0          Digital Marketing Recruiter   \n",
              "1            Digital Marketing Manager   \n",
              "2                  Marketing Associate   \n",
              "3         Digital Marketing Specialist   \n",
              "4  Digital Marketing, Senior Associate   \n",
              "\n",
              "                                                URLs Company_Name  \\\n",
              "0  http://www.glassdoor.com/partner/jobListing.ht...    Jellyfish   \n",
              "1  http://www.glassdoor.com/partner/jobListing.ht...       Clayco   \n",
              "2  http://www.glassdoor.com/partner/jobListing.ht...       Entefy   \n",
              "3  http://www.glassdoor.com/partner/jobListing.ht...    Trupanion   \n",
              "4  http://www.glassdoor.com/partner/jobListing.ht...      Remitly   \n",
              "\n",
              "          Location  Contact Email  Contact Name  Contact Position  \\\n",
              "0    Baltimore, MD            NaN           NaN               NaN   \n",
              "1  Saint Louis, MO            NaN           NaN               NaN   \n",
              "2    Palo Alto, CA            NaN           NaN               NaN   \n",
              "3      Seattle, WA            NaN           NaN               NaN   \n",
              "4      Seattle, WA            NaN           NaN               NaN   \n",
              "\n",
              "   Linkedin Sent Date  Date 1st Email Sent                        date  \n",
              "0                 NaN                  NaN  2018-08-15 17:42:31.679386  \n",
              "1                 NaN                  NaN  2018-08-15 17:42:31.679386  \n",
              "2                 NaN                  NaN  2018-08-15 17:42:31.679386  \n",
              "3                 NaN                  NaN  2018-08-15 17:42:31.679386  \n",
              "4                 NaN                  NaN  2018-08-15 17:42:31.679386  "
            ]
          },
          "metadata": {
            "tags": []
          },
          "execution_count": 34
        },
        {
          "output_type": "execute_result",
          "data": {
            "text/plain": [
              "375"
            ]
          },
          "metadata": {
            "tags": []
          },
          "execution_count": 34
        }
      ]
    },
    {
      "metadata": {
        "id": "G4EX4K-k7QS-",
        "colab_type": "text"
      },
      "cell_type": "markdown",
      "source": [
        "## SEM"
      ]
    },
    {
      "metadata": {
        "id": "-95g1nCl7SsW",
        "colab_type": "code",
        "colab": {
          "base_uri": "https://localhost:8080/",
          "height": 547
        },
        "outputId": "b0fbdbaa-fb22-4bdc-e6c3-91d6268e97c6"
      },
      "cell_type": "code",
      "source": [
        "sem_urls = []\n",
        "sem_info = []\n",
        "sem_job_title = []\n",
        "user_agent = UserAgent()\n",
        "\n",
        "for i in range(30):\n",
        "    print(\"Scraping Page:\",i+1)\n",
        "    main_url = 'https://www.glassdoor.com/Job/us-digital-marketing-associate-jobs-SRCH_IL.0,2_IN1_KO3,30_IP{}.htm?fromAge=1'.format(i+1)\n",
        "\n",
        "    page = requests.get(main_url,headers={'user-agent':user_agent.chrome})\n",
        "\n",
        "    soup = BeautifulSoup(page.content,'lxml')\n",
        "\n",
        "    all_divs = soup.select('li.jl div div div a.jobLink')\n",
        "    if all_divs != []:\n",
        "        for div in all_divs:\n",
        "            sem_urls.append(div['href'])\n",
        "            sem_job_title.append(div.get_text())\n",
        "\n",
        "    sleep(np.random.randint(5))\n",
        "    \n",
        "\n",
        "    all_divs1 = soup.select('li.jl div div.flexbox.empLoc div')\n",
        "    if all_divs1 != []:\n",
        "        for div in all_divs1:\n",
        "            if div.get_text() != 'New' and div.get_text() != \"We're Hiring\" and div.get_text() != \"EASY APPLY\" and div.get_text() != \"Hot\" and div.get_text() != 'Award Winner':\n",
        "              sem_info.append(div.get_text())\n",
        "\n",
        "                      \n",
        "    sleep(np.random.randint(5))"
      ],
      "execution_count": 35,
      "outputs": [
        {
          "output_type": "stream",
          "text": [
            "Scraping Page: 1\n",
            "Scraping Page: 2\n",
            "Scraping Page: 3\n",
            "Scraping Page: 4\n",
            "Scraping Page: 5\n",
            "Scraping Page: 6\n",
            "Scraping Page: 7\n",
            "Scraping Page: 8\n",
            "Scraping Page: 9\n",
            "Scraping Page: 10\n",
            "Scraping Page: 11\n",
            "Scraping Page: 12\n",
            "Scraping Page: 13\n",
            "Scraping Page: 14\n",
            "Scraping Page: 15\n",
            "Scraping Page: 16\n",
            "Scraping Page: 17\n",
            "Scraping Page: 18\n",
            "Scraping Page: 19\n",
            "Scraping Page: 20\n",
            "Scraping Page: 21\n",
            "Scraping Page: 22\n",
            "Scraping Page: 23\n",
            "Scraping Page: 24\n",
            "Scraping Page: 25\n",
            "Scraping Page: 26\n",
            "Scraping Page: 27\n",
            "Scraping Page: 28\n",
            "Scraping Page: 29\n",
            "Scraping Page: 30\n"
          ],
          "name": "stdout"
        }
      ]
    },
    {
      "metadata": {
        "id": "gA592LvG71Ld",
        "colab_type": "code",
        "colab": {
          "base_uri": "https://localhost:8080/",
          "height": 54
        },
        "outputId": "0177a5f1-670b-40b3-efb6-01f1de63dbbd"
      },
      "cell_type": "code",
      "source": [
        "len(sem_urls)\n",
        "len(sem_job_title)\n",
        "len(sem_info)"
      ],
      "execution_count": 36,
      "outputs": [
        {
          "output_type": "execute_result",
          "data": {
            "text/plain": [
              "749"
            ]
          },
          "metadata": {
            "tags": []
          },
          "execution_count": 36
        },
        {
          "output_type": "execute_result",
          "data": {
            "text/plain": [
              "749"
            ]
          },
          "metadata": {
            "tags": []
          },
          "execution_count": 36
        },
        {
          "output_type": "execute_result",
          "data": {
            "text/plain": [
              "749"
            ]
          },
          "metadata": {
            "tags": []
          },
          "execution_count": 36
        }
      ]
    },
    {
      "metadata": {
        "id": "wKssRUUY77E7",
        "colab_type": "code",
        "colab": {}
      },
      "cell_type": "code",
      "source": [
        "sem = []\n",
        "base_link = 'http://www.glassdoor.com'\n",
        "for link in sem_urls:\n",
        "    sem.append(base_link + link)"
      ],
      "execution_count": 0,
      "outputs": []
    },
    {
      "metadata": {
        "id": "_UJS38HL8BBY",
        "colab_type": "code",
        "colab": {
          "base_uri": "https://localhost:8080/",
          "height": 377
        },
        "outputId": "aef98c28-94dd-41e4-ae5e-e7c8a610bf0b"
      },
      "cell_type": "code",
      "source": [
        "sem_df = pd.DataFrame({'Job_Title':sem_job_title,\"INFO\":sem_info,\"URLs\":sem})\n",
        "sem_df = sem_df[~(sem_df['Job_Title'].str.contains(\"None\"))]\n",
        "sem_df = sem_df[~(sem_df['INFO'].str.contains(\"None\"))]\n",
        "sem_df['Company_Name'] = sem_df['INFO'].apply(lambda x: x.strip().split(\"–\")[0].strip())\n",
        "sem_df['Location'] = sem_df['INFO'].apply(lambda x: x.strip().split(\"–\")[1].strip())\n",
        "sem_df = sem_df.drop(\"INFO\",axis=1)\n",
        "sem_df = sem_df.reset_index(drop=True)\n",
        "sem_df.head()"
      ],
      "execution_count": 38,
      "outputs": [
        {
          "output_type": "execute_result",
          "data": {
            "text/html": [
              "<div>\n",
              "<style scoped>\n",
              "    .dataframe tbody tr th:only-of-type {\n",
              "        vertical-align: middle;\n",
              "    }\n",
              "\n",
              "    .dataframe tbody tr th {\n",
              "        vertical-align: top;\n",
              "    }\n",
              "\n",
              "    .dataframe thead th {\n",
              "        text-align: right;\n",
              "    }\n",
              "</style>\n",
              "<table border=\"1\" class=\"dataframe\">\n",
              "  <thead>\n",
              "    <tr style=\"text-align: right;\">\n",
              "      <th></th>\n",
              "      <th>Job_Title</th>\n",
              "      <th>URLs</th>\n",
              "      <th>Company_Name</th>\n",
              "      <th>Location</th>\n",
              "    </tr>\n",
              "  </thead>\n",
              "  <tbody>\n",
              "    <tr>\n",
              "      <th>0</th>\n",
              "      <td>Digital Marketing Recruiter</td>\n",
              "      <td>http://www.glassdoor.com/partner/jobListing.ht...</td>\n",
              "      <td>Jellyfish</td>\n",
              "      <td>Baltimore, MD</td>\n",
              "    </tr>\n",
              "    <tr>\n",
              "      <th>1</th>\n",
              "      <td>Marketing Associate</td>\n",
              "      <td>http://www.glassdoor.com/partner/jobListing.ht...</td>\n",
              "      <td>Entefy</td>\n",
              "      <td>Palo Alto, CA</td>\n",
              "    </tr>\n",
              "    <tr>\n",
              "      <th>2</th>\n",
              "      <td>Digital Marketing Manager</td>\n",
              "      <td>http://www.glassdoor.com/partner/jobListing.ht...</td>\n",
              "      <td>Clayco</td>\n",
              "      <td>Saint Louis, MO</td>\n",
              "    </tr>\n",
              "    <tr>\n",
              "      <th>3</th>\n",
              "      <td>Manager of Digital Data &amp; Analytics</td>\n",
              "      <td>http://www.glassdoor.com/partner/jobListing.ht...</td>\n",
              "      <td>Chattem</td>\n",
              "      <td>Chattanooga, TN</td>\n",
              "    </tr>\n",
              "    <tr>\n",
              "      <th>4</th>\n",
              "      <td>Digital Marketing Specialist</td>\n",
              "      <td>http://www.glassdoor.com/partner/jobListing.ht...</td>\n",
              "      <td>Trupanion</td>\n",
              "      <td>Seattle, WA</td>\n",
              "    </tr>\n",
              "  </tbody>\n",
              "</table>\n",
              "</div>"
            ],
            "text/plain": [
              "                             Job_Title  \\\n",
              "0          Digital Marketing Recruiter   \n",
              "1                  Marketing Associate   \n",
              "2            Digital Marketing Manager   \n",
              "3  Manager of Digital Data & Analytics   \n",
              "4         Digital Marketing Specialist   \n",
              "\n",
              "                                                URLs Company_Name  \\\n",
              "0  http://www.glassdoor.com/partner/jobListing.ht...    Jellyfish   \n",
              "1  http://www.glassdoor.com/partner/jobListing.ht...       Entefy   \n",
              "2  http://www.glassdoor.com/partner/jobListing.ht...       Clayco   \n",
              "3  http://www.glassdoor.com/partner/jobListing.ht...      Chattem   \n",
              "4  http://www.glassdoor.com/partner/jobListing.ht...    Trupanion   \n",
              "\n",
              "          Location  \n",
              "0    Baltimore, MD  \n",
              "1    Palo Alto, CA  \n",
              "2  Saint Louis, MO  \n",
              "3  Chattanooga, TN  \n",
              "4      Seattle, WA  "
            ]
          },
          "metadata": {
            "tags": []
          },
          "execution_count": 38
        }
      ]
    },
    {
      "metadata": {
        "id": "K6-fDyYq8Mmd",
        "colab_type": "code",
        "colab": {
          "base_uri": "https://localhost:8080/",
          "height": 768
        },
        "outputId": "6566094b-9c49-4fff-8ca6-0be8d834f0bb"
      },
      "cell_type": "code",
      "source": [
        "sem_df = sem_df.drop_duplicates(subset=['Company_Name']).reset_index(drop=True)\n",
        "len(sem_df)\n",
        "sem_df.head()\n",
        "sem_df['Job_Title'] = sem_df['Job_Title'].apply(lambda x: x if \"Marketing\" in x else 'None')\n",
        "sem_df = sem_df[sem_df['Job_Title'] != 'None'].reset_index(drop=True)\n",
        "len(sem_df)\n",
        "sem_df.head()"
      ],
      "execution_count": 39,
      "outputs": [
        {
          "output_type": "execute_result",
          "data": {
            "text/plain": [
              "563"
            ]
          },
          "metadata": {
            "tags": []
          },
          "execution_count": 39
        },
        {
          "output_type": "execute_result",
          "data": {
            "text/html": [
              "<div>\n",
              "<style scoped>\n",
              "    .dataframe tbody tr th:only-of-type {\n",
              "        vertical-align: middle;\n",
              "    }\n",
              "\n",
              "    .dataframe tbody tr th {\n",
              "        vertical-align: top;\n",
              "    }\n",
              "\n",
              "    .dataframe thead th {\n",
              "        text-align: right;\n",
              "    }\n",
              "</style>\n",
              "<table border=\"1\" class=\"dataframe\">\n",
              "  <thead>\n",
              "    <tr style=\"text-align: right;\">\n",
              "      <th></th>\n",
              "      <th>Job_Title</th>\n",
              "      <th>URLs</th>\n",
              "      <th>Company_Name</th>\n",
              "      <th>Location</th>\n",
              "    </tr>\n",
              "  </thead>\n",
              "  <tbody>\n",
              "    <tr>\n",
              "      <th>0</th>\n",
              "      <td>Digital Marketing Recruiter</td>\n",
              "      <td>http://www.glassdoor.com/partner/jobListing.ht...</td>\n",
              "      <td>Jellyfish</td>\n",
              "      <td>Baltimore, MD</td>\n",
              "    </tr>\n",
              "    <tr>\n",
              "      <th>1</th>\n",
              "      <td>Marketing Associate</td>\n",
              "      <td>http://www.glassdoor.com/partner/jobListing.ht...</td>\n",
              "      <td>Entefy</td>\n",
              "      <td>Palo Alto, CA</td>\n",
              "    </tr>\n",
              "    <tr>\n",
              "      <th>2</th>\n",
              "      <td>Digital Marketing Manager</td>\n",
              "      <td>http://www.glassdoor.com/partner/jobListing.ht...</td>\n",
              "      <td>Clayco</td>\n",
              "      <td>Saint Louis, MO</td>\n",
              "    </tr>\n",
              "    <tr>\n",
              "      <th>3</th>\n",
              "      <td>Manager of Digital Data &amp; Analytics</td>\n",
              "      <td>http://www.glassdoor.com/partner/jobListing.ht...</td>\n",
              "      <td>Chattem</td>\n",
              "      <td>Chattanooga, TN</td>\n",
              "    </tr>\n",
              "    <tr>\n",
              "      <th>4</th>\n",
              "      <td>Digital Marketing Specialist</td>\n",
              "      <td>http://www.glassdoor.com/partner/jobListing.ht...</td>\n",
              "      <td>Trupanion</td>\n",
              "      <td>Seattle, WA</td>\n",
              "    </tr>\n",
              "  </tbody>\n",
              "</table>\n",
              "</div>"
            ],
            "text/plain": [
              "                             Job_Title  \\\n",
              "0          Digital Marketing Recruiter   \n",
              "1                  Marketing Associate   \n",
              "2            Digital Marketing Manager   \n",
              "3  Manager of Digital Data & Analytics   \n",
              "4         Digital Marketing Specialist   \n",
              "\n",
              "                                                URLs Company_Name  \\\n",
              "0  http://www.glassdoor.com/partner/jobListing.ht...    Jellyfish   \n",
              "1  http://www.glassdoor.com/partner/jobListing.ht...       Entefy   \n",
              "2  http://www.glassdoor.com/partner/jobListing.ht...       Clayco   \n",
              "3  http://www.glassdoor.com/partner/jobListing.ht...      Chattem   \n",
              "4  http://www.glassdoor.com/partner/jobListing.ht...    Trupanion   \n",
              "\n",
              "          Location  \n",
              "0    Baltimore, MD  \n",
              "1    Palo Alto, CA  \n",
              "2  Saint Louis, MO  \n",
              "3  Chattanooga, TN  \n",
              "4      Seattle, WA  "
            ]
          },
          "metadata": {
            "tags": []
          },
          "execution_count": 39
        },
        {
          "output_type": "execute_result",
          "data": {
            "text/plain": [
              "354"
            ]
          },
          "metadata": {
            "tags": []
          },
          "execution_count": 39
        },
        {
          "output_type": "execute_result",
          "data": {
            "text/html": [
              "<div>\n",
              "<style scoped>\n",
              "    .dataframe tbody tr th:only-of-type {\n",
              "        vertical-align: middle;\n",
              "    }\n",
              "\n",
              "    .dataframe tbody tr th {\n",
              "        vertical-align: top;\n",
              "    }\n",
              "\n",
              "    .dataframe thead th {\n",
              "        text-align: right;\n",
              "    }\n",
              "</style>\n",
              "<table border=\"1\" class=\"dataframe\">\n",
              "  <thead>\n",
              "    <tr style=\"text-align: right;\">\n",
              "      <th></th>\n",
              "      <th>Job_Title</th>\n",
              "      <th>URLs</th>\n",
              "      <th>Company_Name</th>\n",
              "      <th>Location</th>\n",
              "    </tr>\n",
              "  </thead>\n",
              "  <tbody>\n",
              "    <tr>\n",
              "      <th>0</th>\n",
              "      <td>Digital Marketing Recruiter</td>\n",
              "      <td>http://www.glassdoor.com/partner/jobListing.ht...</td>\n",
              "      <td>Jellyfish</td>\n",
              "      <td>Baltimore, MD</td>\n",
              "    </tr>\n",
              "    <tr>\n",
              "      <th>1</th>\n",
              "      <td>Marketing Associate</td>\n",
              "      <td>http://www.glassdoor.com/partner/jobListing.ht...</td>\n",
              "      <td>Entefy</td>\n",
              "      <td>Palo Alto, CA</td>\n",
              "    </tr>\n",
              "    <tr>\n",
              "      <th>2</th>\n",
              "      <td>Digital Marketing Manager</td>\n",
              "      <td>http://www.glassdoor.com/partner/jobListing.ht...</td>\n",
              "      <td>Clayco</td>\n",
              "      <td>Saint Louis, MO</td>\n",
              "    </tr>\n",
              "    <tr>\n",
              "      <th>3</th>\n",
              "      <td>Digital Marketing Specialist</td>\n",
              "      <td>http://www.glassdoor.com/partner/jobListing.ht...</td>\n",
              "      <td>Trupanion</td>\n",
              "      <td>Seattle, WA</td>\n",
              "    </tr>\n",
              "    <tr>\n",
              "      <th>4</th>\n",
              "      <td>Digital Marketing, Senior Associate</td>\n",
              "      <td>http://www.glassdoor.com/partner/jobListing.ht...</td>\n",
              "      <td>Remitly</td>\n",
              "      <td>Seattle, WA</td>\n",
              "    </tr>\n",
              "  </tbody>\n",
              "</table>\n",
              "</div>"
            ],
            "text/plain": [
              "                             Job_Title  \\\n",
              "0          Digital Marketing Recruiter   \n",
              "1                  Marketing Associate   \n",
              "2            Digital Marketing Manager   \n",
              "3         Digital Marketing Specialist   \n",
              "4  Digital Marketing, Senior Associate   \n",
              "\n",
              "                                                URLs Company_Name  \\\n",
              "0  http://www.glassdoor.com/partner/jobListing.ht...    Jellyfish   \n",
              "1  http://www.glassdoor.com/partner/jobListing.ht...       Entefy   \n",
              "2  http://www.glassdoor.com/partner/jobListing.ht...       Clayco   \n",
              "3  http://www.glassdoor.com/partner/jobListing.ht...    Trupanion   \n",
              "4  http://www.glassdoor.com/partner/jobListing.ht...      Remitly   \n",
              "\n",
              "          Location  \n",
              "0    Baltimore, MD  \n",
              "1    Palo Alto, CA  \n",
              "2  Saint Louis, MO  \n",
              "3      Seattle, WA  \n",
              "4      Seattle, WA  "
            ]
          },
          "metadata": {
            "tags": []
          },
          "execution_count": 39
        }
      ]
    },
    {
      "metadata": {
        "id": "s5OsxJz-8ZG7",
        "colab_type": "code",
        "colab": {
          "base_uri": "https://localhost:8080/",
          "height": 462
        },
        "outputId": "864b59f6-0726-438a-f2a3-24bdae2ed54c"
      },
      "cell_type": "code",
      "source": [
        "sem_df['Contact Email'] = np.nan\n",
        "sem_df['Contact Name'] = np.nan\n",
        "sem_df['Contact Position'] = np.nan\n",
        "sem_df['Linkedin Sent Date'] = np.nan\n",
        "sem_df['Date 1st Email Sent'] = np.nan\n",
        "sem_df['date'] = str(datetime.datetime.now())\n",
        "sem_df.head()\n",
        "len(sem_df)"
      ],
      "execution_count": 40,
      "outputs": [
        {
          "output_type": "execute_result",
          "data": {
            "text/html": [
              "<div>\n",
              "<style scoped>\n",
              "    .dataframe tbody tr th:only-of-type {\n",
              "        vertical-align: middle;\n",
              "    }\n",
              "\n",
              "    .dataframe tbody tr th {\n",
              "        vertical-align: top;\n",
              "    }\n",
              "\n",
              "    .dataframe thead th {\n",
              "        text-align: right;\n",
              "    }\n",
              "</style>\n",
              "<table border=\"1\" class=\"dataframe\">\n",
              "  <thead>\n",
              "    <tr style=\"text-align: right;\">\n",
              "      <th></th>\n",
              "      <th>Job_Title</th>\n",
              "      <th>URLs</th>\n",
              "      <th>Company_Name</th>\n",
              "      <th>Location</th>\n",
              "      <th>Contact Email</th>\n",
              "      <th>Contact Name</th>\n",
              "      <th>Contact Position</th>\n",
              "      <th>Linkedin Sent Date</th>\n",
              "      <th>Date 1st Email Sent</th>\n",
              "      <th>date</th>\n",
              "    </tr>\n",
              "  </thead>\n",
              "  <tbody>\n",
              "    <tr>\n",
              "      <th>0</th>\n",
              "      <td>Digital Marketing Recruiter</td>\n",
              "      <td>http://www.glassdoor.com/partner/jobListing.ht...</td>\n",
              "      <td>Jellyfish</td>\n",
              "      <td>Baltimore, MD</td>\n",
              "      <td>NaN</td>\n",
              "      <td>NaN</td>\n",
              "      <td>NaN</td>\n",
              "      <td>NaN</td>\n",
              "      <td>NaN</td>\n",
              "      <td>2018-08-15 17:46:12.486863</td>\n",
              "    </tr>\n",
              "    <tr>\n",
              "      <th>1</th>\n",
              "      <td>Marketing Associate</td>\n",
              "      <td>http://www.glassdoor.com/partner/jobListing.ht...</td>\n",
              "      <td>Entefy</td>\n",
              "      <td>Palo Alto, CA</td>\n",
              "      <td>NaN</td>\n",
              "      <td>NaN</td>\n",
              "      <td>NaN</td>\n",
              "      <td>NaN</td>\n",
              "      <td>NaN</td>\n",
              "      <td>2018-08-15 17:46:12.486863</td>\n",
              "    </tr>\n",
              "    <tr>\n",
              "      <th>2</th>\n",
              "      <td>Digital Marketing Manager</td>\n",
              "      <td>http://www.glassdoor.com/partner/jobListing.ht...</td>\n",
              "      <td>Clayco</td>\n",
              "      <td>Saint Louis, MO</td>\n",
              "      <td>NaN</td>\n",
              "      <td>NaN</td>\n",
              "      <td>NaN</td>\n",
              "      <td>NaN</td>\n",
              "      <td>NaN</td>\n",
              "      <td>2018-08-15 17:46:12.486863</td>\n",
              "    </tr>\n",
              "    <tr>\n",
              "      <th>3</th>\n",
              "      <td>Digital Marketing Specialist</td>\n",
              "      <td>http://www.glassdoor.com/partner/jobListing.ht...</td>\n",
              "      <td>Trupanion</td>\n",
              "      <td>Seattle, WA</td>\n",
              "      <td>NaN</td>\n",
              "      <td>NaN</td>\n",
              "      <td>NaN</td>\n",
              "      <td>NaN</td>\n",
              "      <td>NaN</td>\n",
              "      <td>2018-08-15 17:46:12.486863</td>\n",
              "    </tr>\n",
              "    <tr>\n",
              "      <th>4</th>\n",
              "      <td>Digital Marketing, Senior Associate</td>\n",
              "      <td>http://www.glassdoor.com/partner/jobListing.ht...</td>\n",
              "      <td>Remitly</td>\n",
              "      <td>Seattle, WA</td>\n",
              "      <td>NaN</td>\n",
              "      <td>NaN</td>\n",
              "      <td>NaN</td>\n",
              "      <td>NaN</td>\n",
              "      <td>NaN</td>\n",
              "      <td>2018-08-15 17:46:12.486863</td>\n",
              "    </tr>\n",
              "  </tbody>\n",
              "</table>\n",
              "</div>"
            ],
            "text/plain": [
              "                             Job_Title  \\\n",
              "0          Digital Marketing Recruiter   \n",
              "1                  Marketing Associate   \n",
              "2            Digital Marketing Manager   \n",
              "3         Digital Marketing Specialist   \n",
              "4  Digital Marketing, Senior Associate   \n",
              "\n",
              "                                                URLs Company_Name  \\\n",
              "0  http://www.glassdoor.com/partner/jobListing.ht...    Jellyfish   \n",
              "1  http://www.glassdoor.com/partner/jobListing.ht...       Entefy   \n",
              "2  http://www.glassdoor.com/partner/jobListing.ht...       Clayco   \n",
              "3  http://www.glassdoor.com/partner/jobListing.ht...    Trupanion   \n",
              "4  http://www.glassdoor.com/partner/jobListing.ht...      Remitly   \n",
              "\n",
              "          Location  Contact Email  Contact Name  Contact Position  \\\n",
              "0    Baltimore, MD            NaN           NaN               NaN   \n",
              "1    Palo Alto, CA            NaN           NaN               NaN   \n",
              "2  Saint Louis, MO            NaN           NaN               NaN   \n",
              "3      Seattle, WA            NaN           NaN               NaN   \n",
              "4      Seattle, WA            NaN           NaN               NaN   \n",
              "\n",
              "   Linkedin Sent Date  Date 1st Email Sent                        date  \n",
              "0                 NaN                  NaN  2018-08-15 17:46:12.486863  \n",
              "1                 NaN                  NaN  2018-08-15 17:46:12.486863  \n",
              "2                 NaN                  NaN  2018-08-15 17:46:12.486863  \n",
              "3                 NaN                  NaN  2018-08-15 17:46:12.486863  \n",
              "4                 NaN                  NaN  2018-08-15 17:46:12.486863  "
            ]
          },
          "metadata": {
            "tags": []
          },
          "execution_count": 40
        },
        {
          "output_type": "execute_result",
          "data": {
            "text/plain": [
              "354"
            ]
          },
          "metadata": {
            "tags": []
          },
          "execution_count": 40
        }
      ]
    },
    {
      "metadata": {
        "id": "PLY2XXXqO5F0",
        "colab_type": "text"
      },
      "cell_type": "markdown",
      "source": [
        "## SEO"
      ]
    },
    {
      "metadata": {
        "id": "YNS7BhIuOlDu",
        "colab_type": "code",
        "colab": {
          "base_uri": "https://localhost:8080/",
          "height": 547
        },
        "outputId": "6cd4b0a2-6029-49ec-c995-ecf9405d31ac"
      },
      "cell_type": "code",
      "source": [
        "seo_urls = []\n",
        "seo_info = []\n",
        "seo_job_title = []\n",
        "user_agent = UserAgent()\n",
        "\n",
        "for i in range(30):\n",
        "    print(\"Scraping Page:\",i+1)\n",
        "    main_url = 'https://www.glassdoor.com/Job/us-seo-jobs-SRCH_IL.0,2_IN1_KO3,6_IP{}.htm?fromAge=1'.format(i+1)\n",
        "\n",
        "    page = requests.get(main_url,headers={'user-agent':user_agent.chrome})\n",
        "\n",
        "    soup = BeautifulSoup(page.content,'lxml')\n",
        "\n",
        "    all_divs = soup.select('li.jl div div div a.jobLink')\n",
        "    if all_divs != []:\n",
        "        for div in all_divs:\n",
        "            seo_urls.append(div['href'])\n",
        "            seo_job_title.append(div.get_text())\n",
        "\n",
        "    sleep(np.random.randint(5))\n",
        "    \n",
        "\n",
        "    all_divs1 = soup.select('li.jl div div.flexbox.empLoc div')\n",
        "    if all_divs1 != []:\n",
        "        for div in all_divs1:\n",
        "            if div.get_text() != 'New' and div.get_text() != \"We're Hiring\" and div.get_text() != \"EASY APPLY\" and div.get_text() != \"Hot\" and div.get_text() != 'Award Winner':\n",
        "               seo_info.append(div.get_text())\n",
        "\n",
        "                      \n",
        "    sleep(np.random.randint(5))"
      ],
      "execution_count": 41,
      "outputs": [
        {
          "output_type": "stream",
          "text": [
            "Scraping Page: 1\n",
            "Scraping Page: 2\n",
            "Scraping Page: 3\n",
            "Scraping Page: 4\n",
            "Scraping Page: 5\n",
            "Scraping Page: 6\n",
            "Scraping Page: 7\n",
            "Scraping Page: 8\n",
            "Scraping Page: 9\n",
            "Scraping Page: 10\n",
            "Scraping Page: 11\n",
            "Scraping Page: 12\n",
            "Scraping Page: 13\n",
            "Scraping Page: 14\n",
            "Scraping Page: 15\n",
            "Scraping Page: 16\n",
            "Scraping Page: 17\n",
            "Scraping Page: 18\n",
            "Scraping Page: 19\n",
            "Scraping Page: 20\n",
            "Scraping Page: 21\n",
            "Scraping Page: 22\n",
            "Scraping Page: 23\n",
            "Scraping Page: 24\n",
            "Scraping Page: 25\n",
            "Scraping Page: 26\n",
            "Scraping Page: 27\n",
            "Scraping Page: 28\n",
            "Scraping Page: 29\n",
            "Scraping Page: 30\n"
          ],
          "name": "stdout"
        }
      ]
    },
    {
      "metadata": {
        "id": "IfYby7k6Olc8",
        "colab_type": "code",
        "colab": {
          "base_uri": "https://localhost:8080/",
          "height": 54
        },
        "outputId": "822f30df-7d72-4aef-dceb-83055c0c4e4d"
      },
      "cell_type": "code",
      "source": [
        "len(seo_urls)\n",
        "len(seo_job_title)\n",
        "len(seo_info)"
      ],
      "execution_count": 42,
      "outputs": [
        {
          "output_type": "execute_result",
          "data": {
            "text/plain": [
              "900"
            ]
          },
          "metadata": {
            "tags": []
          },
          "execution_count": 42
        },
        {
          "output_type": "execute_result",
          "data": {
            "text/plain": [
              "900"
            ]
          },
          "metadata": {
            "tags": []
          },
          "execution_count": 42
        },
        {
          "output_type": "execute_result",
          "data": {
            "text/plain": [
              "900"
            ]
          },
          "metadata": {
            "tags": []
          },
          "execution_count": 42
        }
      ]
    },
    {
      "metadata": {
        "id": "kDKxv4bFOXS1",
        "colab_type": "code",
        "colab": {}
      },
      "cell_type": "code",
      "source": [
        "seo = []\n",
        "base_link = 'http://www.glassdoor.com'\n",
        "for link in seo_urls:\n",
        "    seo.append(base_link + link)"
      ],
      "execution_count": 0,
      "outputs": []
    },
    {
      "metadata": {
        "id": "1f0EA5mTOXwX",
        "colab_type": "code",
        "colab": {
          "base_uri": "https://localhost:8080/",
          "height": 377
        },
        "outputId": "3aa457ff-34a7-4a2a-bfce-7893045cabec"
      },
      "cell_type": "code",
      "source": [
        "seo_df = pd.DataFrame({'Job_Title':seo_job_title,\"INFO\":seo_info,\"URLs\":seo})\n",
        "seo_df = seo_df[~(seo_df['Job_Title'].str.contains(\"None\"))]\n",
        "seo_df = seo_df[~(seo_df['INFO'].str.contains(\"None\"))]\n",
        "seo_df['Company_Name'] = seo_df['INFO'].apply(lambda x: x.strip().split(\"–\")[0].strip())\n",
        "seo_df['Location'] = seo_df['INFO'].apply(lambda x: x.strip().split(\"–\")[1].strip())\n",
        "seo_df = seo_df.drop(\"INFO\",axis=1)\n",
        "seo_df = seo_df.reset_index(drop=True)\n",
        "seo_df.head()"
      ],
      "execution_count": 44,
      "outputs": [
        {
          "output_type": "execute_result",
          "data": {
            "text/html": [
              "<div>\n",
              "<style scoped>\n",
              "    .dataframe tbody tr th:only-of-type {\n",
              "        vertical-align: middle;\n",
              "    }\n",
              "\n",
              "    .dataframe tbody tr th {\n",
              "        vertical-align: top;\n",
              "    }\n",
              "\n",
              "    .dataframe thead th {\n",
              "        text-align: right;\n",
              "    }\n",
              "</style>\n",
              "<table border=\"1\" class=\"dataframe\">\n",
              "  <thead>\n",
              "    <tr style=\"text-align: right;\">\n",
              "      <th></th>\n",
              "      <th>Job_Title</th>\n",
              "      <th>URLs</th>\n",
              "      <th>Company_Name</th>\n",
              "      <th>Location</th>\n",
              "    </tr>\n",
              "  </thead>\n",
              "  <tbody>\n",
              "    <tr>\n",
              "      <th>0</th>\n",
              "      <td>SEO Account Manager</td>\n",
              "      <td>http://www.glassdoor.com/partner/jobListing.ht...</td>\n",
              "      <td>Silverback Strategies LLC</td>\n",
              "      <td>Alexandria, VA</td>\n",
              "    </tr>\n",
              "    <tr>\n",
              "      <th>1</th>\n",
              "      <td>SEO Specialist</td>\n",
              "      <td>http://www.glassdoor.com/partner/jobListing.ht...</td>\n",
              "      <td>Veterans United Home Loans</td>\n",
              "      <td>Columbia, MO</td>\n",
              "    </tr>\n",
              "    <tr>\n",
              "      <th>2</th>\n",
              "      <td>Director of Marketing</td>\n",
              "      <td>http://www.glassdoor.com/partner/jobListing.ht...</td>\n",
              "      <td>LandaJob Advertising &amp; Marketing Talent</td>\n",
              "      <td>Kansas City, MO</td>\n",
              "    </tr>\n",
              "    <tr>\n",
              "      <th>3</th>\n",
              "      <td>Digital Marketing Manager</td>\n",
              "      <td>http://www.glassdoor.com/partner/jobListing.ht...</td>\n",
              "      <td>Clayco</td>\n",
              "      <td>Saint Louis, MO</td>\n",
              "    </tr>\n",
              "    <tr>\n",
              "      <th>4</th>\n",
              "      <td>SEO Manager</td>\n",
              "      <td>http://www.glassdoor.com/partner/jobListing.ht...</td>\n",
              "      <td>Digital Position, LLC</td>\n",
              "      <td>Charlotte, NC</td>\n",
              "    </tr>\n",
              "  </tbody>\n",
              "</table>\n",
              "</div>"
            ],
            "text/plain": [
              "                   Job_Title  \\\n",
              "0        SEO Account Manager   \n",
              "1             SEO Specialist   \n",
              "2      Director of Marketing   \n",
              "3  Digital Marketing Manager   \n",
              "4                SEO Manager   \n",
              "\n",
              "                                                URLs  \\\n",
              "0  http://www.glassdoor.com/partner/jobListing.ht...   \n",
              "1  http://www.glassdoor.com/partner/jobListing.ht...   \n",
              "2  http://www.glassdoor.com/partner/jobListing.ht...   \n",
              "3  http://www.glassdoor.com/partner/jobListing.ht...   \n",
              "4  http://www.glassdoor.com/partner/jobListing.ht...   \n",
              "\n",
              "                              Company_Name         Location  \n",
              "0                Silverback Strategies LLC   Alexandria, VA  \n",
              "1               Veterans United Home Loans     Columbia, MO  \n",
              "2  LandaJob Advertising & Marketing Talent  Kansas City, MO  \n",
              "3                                   Clayco  Saint Louis, MO  \n",
              "4                    Digital Position, LLC    Charlotte, NC  "
            ]
          },
          "metadata": {
            "tags": []
          },
          "execution_count": 44
        }
      ]
    },
    {
      "metadata": {
        "id": "0fdv8qOsOYGX",
        "colab_type": "code",
        "colab": {
          "base_uri": "https://localhost:8080/",
          "height": 768
        },
        "outputId": "3726758c-0ce5-4052-9485-eb134c678372"
      },
      "cell_type": "code",
      "source": [
        "seo_df = seo_df.drop_duplicates(subset=['Company_Name']).reset_index(drop=True)\n",
        "len(seo_df)\n",
        "seo_df.head()\n",
        "seo_df['Job_Title'] = seo_df['Job_Title'].apply(lambda x: x if \"Marketing\" in x else 'None')\n",
        "seo_df = seo_df[seo_df['Job_Title'] != 'None'].reset_index(drop=True)\n",
        "len(seo_df)\n",
        "seo_df.head()"
      ],
      "execution_count": 45,
      "outputs": [
        {
          "output_type": "execute_result",
          "data": {
            "text/plain": [
              "689"
            ]
          },
          "metadata": {
            "tags": []
          },
          "execution_count": 45
        },
        {
          "output_type": "execute_result",
          "data": {
            "text/html": [
              "<div>\n",
              "<style scoped>\n",
              "    .dataframe tbody tr th:only-of-type {\n",
              "        vertical-align: middle;\n",
              "    }\n",
              "\n",
              "    .dataframe tbody tr th {\n",
              "        vertical-align: top;\n",
              "    }\n",
              "\n",
              "    .dataframe thead th {\n",
              "        text-align: right;\n",
              "    }\n",
              "</style>\n",
              "<table border=\"1\" class=\"dataframe\">\n",
              "  <thead>\n",
              "    <tr style=\"text-align: right;\">\n",
              "      <th></th>\n",
              "      <th>Job_Title</th>\n",
              "      <th>URLs</th>\n",
              "      <th>Company_Name</th>\n",
              "      <th>Location</th>\n",
              "    </tr>\n",
              "  </thead>\n",
              "  <tbody>\n",
              "    <tr>\n",
              "      <th>0</th>\n",
              "      <td>SEO Account Manager</td>\n",
              "      <td>http://www.glassdoor.com/partner/jobListing.ht...</td>\n",
              "      <td>Silverback Strategies LLC</td>\n",
              "      <td>Alexandria, VA</td>\n",
              "    </tr>\n",
              "    <tr>\n",
              "      <th>1</th>\n",
              "      <td>SEO Specialist</td>\n",
              "      <td>http://www.glassdoor.com/partner/jobListing.ht...</td>\n",
              "      <td>Veterans United Home Loans</td>\n",
              "      <td>Columbia, MO</td>\n",
              "    </tr>\n",
              "    <tr>\n",
              "      <th>2</th>\n",
              "      <td>Director of Marketing</td>\n",
              "      <td>http://www.glassdoor.com/partner/jobListing.ht...</td>\n",
              "      <td>LandaJob Advertising &amp; Marketing Talent</td>\n",
              "      <td>Kansas City, MO</td>\n",
              "    </tr>\n",
              "    <tr>\n",
              "      <th>3</th>\n",
              "      <td>Digital Marketing Manager</td>\n",
              "      <td>http://www.glassdoor.com/partner/jobListing.ht...</td>\n",
              "      <td>Clayco</td>\n",
              "      <td>Saint Louis, MO</td>\n",
              "    </tr>\n",
              "    <tr>\n",
              "      <th>4</th>\n",
              "      <td>SEO Manager</td>\n",
              "      <td>http://www.glassdoor.com/partner/jobListing.ht...</td>\n",
              "      <td>Digital Position, LLC</td>\n",
              "      <td>Charlotte, NC</td>\n",
              "    </tr>\n",
              "  </tbody>\n",
              "</table>\n",
              "</div>"
            ],
            "text/plain": [
              "                   Job_Title  \\\n",
              "0        SEO Account Manager   \n",
              "1             SEO Specialist   \n",
              "2      Director of Marketing   \n",
              "3  Digital Marketing Manager   \n",
              "4                SEO Manager   \n",
              "\n",
              "                                                URLs  \\\n",
              "0  http://www.glassdoor.com/partner/jobListing.ht...   \n",
              "1  http://www.glassdoor.com/partner/jobListing.ht...   \n",
              "2  http://www.glassdoor.com/partner/jobListing.ht...   \n",
              "3  http://www.glassdoor.com/partner/jobListing.ht...   \n",
              "4  http://www.glassdoor.com/partner/jobListing.ht...   \n",
              "\n",
              "                              Company_Name         Location  \n",
              "0                Silverback Strategies LLC   Alexandria, VA  \n",
              "1               Veterans United Home Loans     Columbia, MO  \n",
              "2  LandaJob Advertising & Marketing Talent  Kansas City, MO  \n",
              "3                                   Clayco  Saint Louis, MO  \n",
              "4                    Digital Position, LLC    Charlotte, NC  "
            ]
          },
          "metadata": {
            "tags": []
          },
          "execution_count": 45
        },
        {
          "output_type": "execute_result",
          "data": {
            "text/plain": [
              "252"
            ]
          },
          "metadata": {
            "tags": []
          },
          "execution_count": 45
        },
        {
          "output_type": "execute_result",
          "data": {
            "text/html": [
              "<div>\n",
              "<style scoped>\n",
              "    .dataframe tbody tr th:only-of-type {\n",
              "        vertical-align: middle;\n",
              "    }\n",
              "\n",
              "    .dataframe tbody tr th {\n",
              "        vertical-align: top;\n",
              "    }\n",
              "\n",
              "    .dataframe thead th {\n",
              "        text-align: right;\n",
              "    }\n",
              "</style>\n",
              "<table border=\"1\" class=\"dataframe\">\n",
              "  <thead>\n",
              "    <tr style=\"text-align: right;\">\n",
              "      <th></th>\n",
              "      <th>Job_Title</th>\n",
              "      <th>URLs</th>\n",
              "      <th>Company_Name</th>\n",
              "      <th>Location</th>\n",
              "    </tr>\n",
              "  </thead>\n",
              "  <tbody>\n",
              "    <tr>\n",
              "      <th>0</th>\n",
              "      <td>Director of Marketing</td>\n",
              "      <td>http://www.glassdoor.com/partner/jobListing.ht...</td>\n",
              "      <td>LandaJob Advertising &amp; Marketing Talent</td>\n",
              "      <td>Kansas City, MO</td>\n",
              "    </tr>\n",
              "    <tr>\n",
              "      <th>1</th>\n",
              "      <td>Digital Marketing Manager</td>\n",
              "      <td>http://www.glassdoor.com/partner/jobListing.ht...</td>\n",
              "      <td>Clayco</td>\n",
              "      <td>Saint Louis, MO</td>\n",
              "    </tr>\n",
              "    <tr>\n",
              "      <th>2</th>\n",
              "      <td>Digital Marketing Specialist</td>\n",
              "      <td>http://www.glassdoor.com/partner/jobListing.ht...</td>\n",
              "      <td>JG Wentworth</td>\n",
              "      <td>Chesterbrook, PA</td>\n",
              "    </tr>\n",
              "    <tr>\n",
              "      <th>3</th>\n",
              "      <td>SEO Marketing Manager</td>\n",
              "      <td>http://www.glassdoor.com/partner/jobListing.ht...</td>\n",
              "      <td>Roku</td>\n",
              "      <td>Los Gatos, CA</td>\n",
              "    </tr>\n",
              "    <tr>\n",
              "      <th>4</th>\n",
              "      <td>Marketing Intern</td>\n",
              "      <td>http://www.glassdoor.com/partner/jobListing.ht...</td>\n",
              "      <td>Velosio</td>\n",
              "      <td>Edison, NJ</td>\n",
              "    </tr>\n",
              "  </tbody>\n",
              "</table>\n",
              "</div>"
            ],
            "text/plain": [
              "                      Job_Title  \\\n",
              "0         Director of Marketing   \n",
              "1     Digital Marketing Manager   \n",
              "2  Digital Marketing Specialist   \n",
              "3         SEO Marketing Manager   \n",
              "4              Marketing Intern   \n",
              "\n",
              "                                                URLs  \\\n",
              "0  http://www.glassdoor.com/partner/jobListing.ht...   \n",
              "1  http://www.glassdoor.com/partner/jobListing.ht...   \n",
              "2  http://www.glassdoor.com/partner/jobListing.ht...   \n",
              "3  http://www.glassdoor.com/partner/jobListing.ht...   \n",
              "4  http://www.glassdoor.com/partner/jobListing.ht...   \n",
              "\n",
              "                              Company_Name          Location  \n",
              "0  LandaJob Advertising & Marketing Talent   Kansas City, MO  \n",
              "1                                   Clayco   Saint Louis, MO  \n",
              "2                             JG Wentworth  Chesterbrook, PA  \n",
              "3                                     Roku     Los Gatos, CA  \n",
              "4                                  Velosio        Edison, NJ  "
            ]
          },
          "metadata": {
            "tags": []
          },
          "execution_count": 45
        }
      ]
    },
    {
      "metadata": {
        "id": "m2HMi4SGPNQo",
        "colab_type": "code",
        "colab": {
          "base_uri": "https://localhost:8080/",
          "height": 462
        },
        "outputId": "c5640b40-bacb-4e00-8d77-91a6fc4c4c21"
      },
      "cell_type": "code",
      "source": [
        "seo_df['Contact Email'] = np.nan\n",
        "seo_df['Contact Name'] = np.nan\n",
        "seo_df['Contact Position'] = np.nan\n",
        "seo_df['Linkedin Sent Date'] = np.nan\n",
        "seo_df['Date 1st Email Sent'] = np.nan\n",
        "seo_df['date'] = str(datetime.datetime.now())\n",
        "seo_df.head()\n",
        "len(seo_df)"
      ],
      "execution_count": 46,
      "outputs": [
        {
          "output_type": "execute_result",
          "data": {
            "text/html": [
              "<div>\n",
              "<style scoped>\n",
              "    .dataframe tbody tr th:only-of-type {\n",
              "        vertical-align: middle;\n",
              "    }\n",
              "\n",
              "    .dataframe tbody tr th {\n",
              "        vertical-align: top;\n",
              "    }\n",
              "\n",
              "    .dataframe thead th {\n",
              "        text-align: right;\n",
              "    }\n",
              "</style>\n",
              "<table border=\"1\" class=\"dataframe\">\n",
              "  <thead>\n",
              "    <tr style=\"text-align: right;\">\n",
              "      <th></th>\n",
              "      <th>Job_Title</th>\n",
              "      <th>URLs</th>\n",
              "      <th>Company_Name</th>\n",
              "      <th>Location</th>\n",
              "      <th>Contact Email</th>\n",
              "      <th>Contact Name</th>\n",
              "      <th>Contact Position</th>\n",
              "      <th>Linkedin Sent Date</th>\n",
              "      <th>Date 1st Email Sent</th>\n",
              "      <th>date</th>\n",
              "    </tr>\n",
              "  </thead>\n",
              "  <tbody>\n",
              "    <tr>\n",
              "      <th>0</th>\n",
              "      <td>Director of Marketing</td>\n",
              "      <td>http://www.glassdoor.com/partner/jobListing.ht...</td>\n",
              "      <td>LandaJob Advertising &amp; Marketing Talent</td>\n",
              "      <td>Kansas City, MO</td>\n",
              "      <td>NaN</td>\n",
              "      <td>NaN</td>\n",
              "      <td>NaN</td>\n",
              "      <td>NaN</td>\n",
              "      <td>NaN</td>\n",
              "      <td>2018-08-15 17:49:43.549435</td>\n",
              "    </tr>\n",
              "    <tr>\n",
              "      <th>1</th>\n",
              "      <td>Digital Marketing Manager</td>\n",
              "      <td>http://www.glassdoor.com/partner/jobListing.ht...</td>\n",
              "      <td>Clayco</td>\n",
              "      <td>Saint Louis, MO</td>\n",
              "      <td>NaN</td>\n",
              "      <td>NaN</td>\n",
              "      <td>NaN</td>\n",
              "      <td>NaN</td>\n",
              "      <td>NaN</td>\n",
              "      <td>2018-08-15 17:49:43.549435</td>\n",
              "    </tr>\n",
              "    <tr>\n",
              "      <th>2</th>\n",
              "      <td>Digital Marketing Specialist</td>\n",
              "      <td>http://www.glassdoor.com/partner/jobListing.ht...</td>\n",
              "      <td>JG Wentworth</td>\n",
              "      <td>Chesterbrook, PA</td>\n",
              "      <td>NaN</td>\n",
              "      <td>NaN</td>\n",
              "      <td>NaN</td>\n",
              "      <td>NaN</td>\n",
              "      <td>NaN</td>\n",
              "      <td>2018-08-15 17:49:43.549435</td>\n",
              "    </tr>\n",
              "    <tr>\n",
              "      <th>3</th>\n",
              "      <td>SEO Marketing Manager</td>\n",
              "      <td>http://www.glassdoor.com/partner/jobListing.ht...</td>\n",
              "      <td>Roku</td>\n",
              "      <td>Los Gatos, CA</td>\n",
              "      <td>NaN</td>\n",
              "      <td>NaN</td>\n",
              "      <td>NaN</td>\n",
              "      <td>NaN</td>\n",
              "      <td>NaN</td>\n",
              "      <td>2018-08-15 17:49:43.549435</td>\n",
              "    </tr>\n",
              "    <tr>\n",
              "      <th>4</th>\n",
              "      <td>Marketing Intern</td>\n",
              "      <td>http://www.glassdoor.com/partner/jobListing.ht...</td>\n",
              "      <td>Velosio</td>\n",
              "      <td>Edison, NJ</td>\n",
              "      <td>NaN</td>\n",
              "      <td>NaN</td>\n",
              "      <td>NaN</td>\n",
              "      <td>NaN</td>\n",
              "      <td>NaN</td>\n",
              "      <td>2018-08-15 17:49:43.549435</td>\n",
              "    </tr>\n",
              "  </tbody>\n",
              "</table>\n",
              "</div>"
            ],
            "text/plain": [
              "                      Job_Title  \\\n",
              "0         Director of Marketing   \n",
              "1     Digital Marketing Manager   \n",
              "2  Digital Marketing Specialist   \n",
              "3         SEO Marketing Manager   \n",
              "4              Marketing Intern   \n",
              "\n",
              "                                                URLs  \\\n",
              "0  http://www.glassdoor.com/partner/jobListing.ht...   \n",
              "1  http://www.glassdoor.com/partner/jobListing.ht...   \n",
              "2  http://www.glassdoor.com/partner/jobListing.ht...   \n",
              "3  http://www.glassdoor.com/partner/jobListing.ht...   \n",
              "4  http://www.glassdoor.com/partner/jobListing.ht...   \n",
              "\n",
              "                              Company_Name          Location  Contact Email  \\\n",
              "0  LandaJob Advertising & Marketing Talent   Kansas City, MO            NaN   \n",
              "1                                   Clayco   Saint Louis, MO            NaN   \n",
              "2                             JG Wentworth  Chesterbrook, PA            NaN   \n",
              "3                                     Roku     Los Gatos, CA            NaN   \n",
              "4                                  Velosio        Edison, NJ            NaN   \n",
              "\n",
              "   Contact Name  Contact Position  Linkedin Sent Date  Date 1st Email Sent  \\\n",
              "0           NaN               NaN                 NaN                  NaN   \n",
              "1           NaN               NaN                 NaN                  NaN   \n",
              "2           NaN               NaN                 NaN                  NaN   \n",
              "3           NaN               NaN                 NaN                  NaN   \n",
              "4           NaN               NaN                 NaN                  NaN   \n",
              "\n",
              "                         date  \n",
              "0  2018-08-15 17:49:43.549435  \n",
              "1  2018-08-15 17:49:43.549435  \n",
              "2  2018-08-15 17:49:43.549435  \n",
              "3  2018-08-15 17:49:43.549435  \n",
              "4  2018-08-15 17:49:43.549435  "
            ]
          },
          "metadata": {
            "tags": []
          },
          "execution_count": 46
        },
        {
          "output_type": "execute_result",
          "data": {
            "text/plain": [
              "252"
            ]
          },
          "metadata": {
            "tags": []
          },
          "execution_count": 46
        }
      ]
    },
    {
      "metadata": {
        "id": "sgZjMj5TQxUu",
        "colab_type": "text"
      },
      "cell_type": "markdown",
      "source": [
        "## Digital Marketing Strategist"
      ]
    },
    {
      "metadata": {
        "id": "RFvD5s1JQtfZ",
        "colab_type": "code",
        "colab": {
          "base_uri": "https://localhost:8080/",
          "height": 547
        },
        "outputId": "bf707c59-11c6-490d-e814-e9d62ce64f21"
      },
      "cell_type": "code",
      "source": [
        "dig_mkt_strategist_urls = []\n",
        "dig_mkt_strategist_info = []\n",
        "dig_mkt_strategist_job_title = []\n",
        "user_agent = UserAgent()\n",
        "\n",
        "for i in range(30):\n",
        "    print(\"Scraping Page:\",i+1)\n",
        "    main_url = 'https://www.glassdoor.com/Job/us-digital-marketing-strategist-jobs-SRCH_IL.0,2_IN1_KO3,31_IP{}.htm?fromAge=1'.format(i+1)\n",
        "\n",
        "    page = requests.get(main_url,headers={'user-agent':user_agent.chrome})\n",
        "\n",
        "    soup = BeautifulSoup(page.content,'lxml')\n",
        "\n",
        "    all_divs = soup.select('li.jl div div div a.jobLink')\n",
        "    if all_divs != []:\n",
        "        for div in all_divs:\n",
        "            dig_mkt_strategist_urls.append(div['href'])\n",
        "            dig_mkt_strategist_job_title.append(div.get_text())\n",
        "\n",
        "    sleep(np.random.randint(5))\n",
        "    \n",
        "\n",
        "    all_divs1 = soup.select('li.jl div div.flexbox.empLoc div')\n",
        "    if all_divs1 != []:\n",
        "        for div in all_divs1:\n",
        "            if div.get_text() != 'New' and div.get_text() != \"We're Hiring\" and div.get_text() != \"EASY APPLY\" and div.get_text() != \"Hot\" and div.get_text() != 'Award Winner':\n",
        "                dig_mkt_strategist_info.append(div.get_text())\n",
        "\n",
        "                      \n",
        "    sleep(np.random.randint(5))"
      ],
      "execution_count": 47,
      "outputs": [
        {
          "output_type": "stream",
          "text": [
            "Scraping Page: 1\n",
            "Scraping Page: 2\n",
            "Scraping Page: 3\n",
            "Scraping Page: 4\n",
            "Scraping Page: 5\n",
            "Scraping Page: 6\n",
            "Scraping Page: 7\n",
            "Scraping Page: 8\n",
            "Scraping Page: 9\n",
            "Scraping Page: 10\n",
            "Scraping Page: 11\n",
            "Scraping Page: 12\n",
            "Scraping Page: 13\n",
            "Scraping Page: 14\n",
            "Scraping Page: 15\n",
            "Scraping Page: 16\n",
            "Scraping Page: 17\n",
            "Scraping Page: 18\n",
            "Scraping Page: 19\n",
            "Scraping Page: 20\n",
            "Scraping Page: 21\n",
            "Scraping Page: 22\n",
            "Scraping Page: 23\n",
            "Scraping Page: 24\n",
            "Scraping Page: 25\n",
            "Scraping Page: 26\n",
            "Scraping Page: 27\n",
            "Scraping Page: 28\n",
            "Scraping Page: 29\n",
            "Scraping Page: 30\n"
          ],
          "name": "stdout"
        }
      ]
    },
    {
      "metadata": {
        "id": "RXMm3wX8Qt_5",
        "colab_type": "code",
        "colab": {
          "base_uri": "https://localhost:8080/",
          "height": 54
        },
        "outputId": "c3a30301-154c-46a1-93f3-7d14524cf1da"
      },
      "cell_type": "code",
      "source": [
        "len(dig_mkt_strategist_urls)\n",
        "len(dig_mkt_strategist_job_title)\n",
        "len(dig_mkt_strategist_info)"
      ],
      "execution_count": 48,
      "outputs": [
        {
          "output_type": "execute_result",
          "data": {
            "text/plain": [
              "214"
            ]
          },
          "metadata": {
            "tags": []
          },
          "execution_count": 48
        },
        {
          "output_type": "execute_result",
          "data": {
            "text/plain": [
              "214"
            ]
          },
          "metadata": {
            "tags": []
          },
          "execution_count": 48
        },
        {
          "output_type": "execute_result",
          "data": {
            "text/plain": [
              "214"
            ]
          },
          "metadata": {
            "tags": []
          },
          "execution_count": 48
        }
      ]
    },
    {
      "metadata": {
        "id": "LJQ2easLQuRz",
        "colab_type": "code",
        "colab": {}
      },
      "cell_type": "code",
      "source": [
        "dig_mkt_strategist = []\n",
        "base_link = 'http://www.glassdoor.com'\n",
        "for link in dig_mkt_strategist_urls:\n",
        "    dig_mkt_strategist.append(base_link + link)"
      ],
      "execution_count": 0,
      "outputs": []
    },
    {
      "metadata": {
        "id": "ZB1aK17fQu2f",
        "colab_type": "code",
        "colab": {
          "base_uri": "https://localhost:8080/",
          "height": 343
        },
        "outputId": "eaf76108-241c-49b7-b7f4-3626ad720f4c"
      },
      "cell_type": "code",
      "source": [
        "dig_mkt_strategist_df = pd.DataFrame({'Job_Title':dig_mkt_strategist_job_title,\"INFO\":dig_mkt_strategist_info,\"URLs\":dig_mkt_strategist})\n",
        "dig_mkt_strategist_df = dig_mkt_strategist_df[~(dig_mkt_strategist_df['Job_Title'].str.contains(\"None\"))]\n",
        "dig_mkt_strategist_df = dig_mkt_strategist_df[~(dig_mkt_strategist_df['INFO'].str.contains(\"None\"))]\n",
        "dig_mkt_strategist_df['Company_Name'] = dig_mkt_strategist_df['INFO'].apply(lambda x: x.strip().split(\"–\")[0].strip())\n",
        "dig_mkt_strategist_df['Location'] = dig_mkt_strategist_df['INFO'].apply(lambda x: x.strip().split(\"–\")[1].strip())\n",
        "dig_mkt_strategist_df = dig_mkt_strategist_df.drop(\"INFO\",axis=1)\n",
        "dig_mkt_strategist_df = dig_mkt_strategist_df.reset_index(drop=True)\n",
        "dig_mkt_strategist_df.head()"
      ],
      "execution_count": 50,
      "outputs": [
        {
          "output_type": "execute_result",
          "data": {
            "text/html": [
              "<div>\n",
              "<style scoped>\n",
              "    .dataframe tbody tr th:only-of-type {\n",
              "        vertical-align: middle;\n",
              "    }\n",
              "\n",
              "    .dataframe tbody tr th {\n",
              "        vertical-align: top;\n",
              "    }\n",
              "\n",
              "    .dataframe thead th {\n",
              "        text-align: right;\n",
              "    }\n",
              "</style>\n",
              "<table border=\"1\" class=\"dataframe\">\n",
              "  <thead>\n",
              "    <tr style=\"text-align: right;\">\n",
              "      <th></th>\n",
              "      <th>Job_Title</th>\n",
              "      <th>URLs</th>\n",
              "      <th>Company_Name</th>\n",
              "      <th>Location</th>\n",
              "    </tr>\n",
              "  </thead>\n",
              "  <tbody>\n",
              "    <tr>\n",
              "      <th>0</th>\n",
              "      <td>Digital Strategist</td>\n",
              "      <td>http://www.glassdoor.com/partner/jobListing.ht...</td>\n",
              "      <td>Artisan Talent</td>\n",
              "      <td>New York, NY</td>\n",
              "    </tr>\n",
              "    <tr>\n",
              "      <th>1</th>\n",
              "      <td>Digital Media Planner</td>\n",
              "      <td>http://www.glassdoor.com/partner/jobListing.ht...</td>\n",
              "      <td>GMMB</td>\n",
              "      <td>Washington, DC</td>\n",
              "    </tr>\n",
              "    <tr>\n",
              "      <th>2</th>\n",
              "      <td>Digital Strategist</td>\n",
              "      <td>http://www.glassdoor.com/partner/jobListing.ht...</td>\n",
              "      <td>Crown Equipment</td>\n",
              "      <td>New Bremen, OH</td>\n",
              "    </tr>\n",
              "    <tr>\n",
              "      <th>3</th>\n",
              "      <td>Marketing Strategist</td>\n",
              "      <td>http://www.glassdoor.com/partner/jobListing.ht...</td>\n",
              "      <td>Capstone Search Group</td>\n",
              "      <td>Frederick, MD</td>\n",
              "    </tr>\n",
              "    <tr>\n",
              "      <th>4</th>\n",
              "      <td>Digital Marketing Strategist</td>\n",
              "      <td>http://www.glassdoor.com/partner/jobListing.ht...</td>\n",
              "      <td>TG</td>\n",
              "      <td>Round Rock, TX</td>\n",
              "    </tr>\n",
              "  </tbody>\n",
              "</table>\n",
              "</div>"
            ],
            "text/plain": [
              "                      Job_Title  \\\n",
              "0            Digital Strategist   \n",
              "1         Digital Media Planner   \n",
              "2            Digital Strategist   \n",
              "3          Marketing Strategist   \n",
              "4  Digital Marketing Strategist   \n",
              "\n",
              "                                                URLs           Company_Name  \\\n",
              "0  http://www.glassdoor.com/partner/jobListing.ht...         Artisan Talent   \n",
              "1  http://www.glassdoor.com/partner/jobListing.ht...                   GMMB   \n",
              "2  http://www.glassdoor.com/partner/jobListing.ht...        Crown Equipment   \n",
              "3  http://www.glassdoor.com/partner/jobListing.ht...  Capstone Search Group   \n",
              "4  http://www.glassdoor.com/partner/jobListing.ht...                     TG   \n",
              "\n",
              "         Location  \n",
              "0    New York, NY  \n",
              "1  Washington, DC  \n",
              "2  New Bremen, OH  \n",
              "3   Frederick, MD  \n",
              "4  Round Rock, TX  "
            ]
          },
          "metadata": {
            "tags": []
          },
          "execution_count": 50
        }
      ]
    },
    {
      "metadata": {
        "id": "t8GTtUN5QvIn",
        "colab_type": "code",
        "colab": {
          "base_uri": "https://localhost:8080/",
          "height": 717
        },
        "outputId": "0b6e9a53-2582-4137-f69c-149e4300bcf8"
      },
      "cell_type": "code",
      "source": [
        "dig_mkt_strategist_df = dig_mkt_strategist_df.drop_duplicates(subset=['Company_Name']).reset_index(drop=True)\n",
        "len(dig_mkt_strategist_df)\n",
        "dig_mkt_strategist_df.head()\n",
        "dig_mkt_strategist_df['Job_Title'] = dig_mkt_strategist_df['Job_Title'].apply(lambda x: x if \"Marketing\" in x else 'None')\n",
        "dig_mkt_strategist_df = dig_mkt_strategist_df[dig_mkt_strategist_df['Job_Title'] != 'None'].reset_index(drop=True)\n",
        "len(dig_mkt_strategist_df)\n",
        "dig_mkt_strategist_df.head()"
      ],
      "execution_count": 51,
      "outputs": [
        {
          "output_type": "execute_result",
          "data": {
            "text/plain": [
              "186"
            ]
          },
          "metadata": {
            "tags": []
          },
          "execution_count": 51
        },
        {
          "output_type": "execute_result",
          "data": {
            "text/html": [
              "<div>\n",
              "<style scoped>\n",
              "    .dataframe tbody tr th:only-of-type {\n",
              "        vertical-align: middle;\n",
              "    }\n",
              "\n",
              "    .dataframe tbody tr th {\n",
              "        vertical-align: top;\n",
              "    }\n",
              "\n",
              "    .dataframe thead th {\n",
              "        text-align: right;\n",
              "    }\n",
              "</style>\n",
              "<table border=\"1\" class=\"dataframe\">\n",
              "  <thead>\n",
              "    <tr style=\"text-align: right;\">\n",
              "      <th></th>\n",
              "      <th>Job_Title</th>\n",
              "      <th>URLs</th>\n",
              "      <th>Company_Name</th>\n",
              "      <th>Location</th>\n",
              "    </tr>\n",
              "  </thead>\n",
              "  <tbody>\n",
              "    <tr>\n",
              "      <th>0</th>\n",
              "      <td>Digital Strategist</td>\n",
              "      <td>http://www.glassdoor.com/partner/jobListing.ht...</td>\n",
              "      <td>Artisan Talent</td>\n",
              "      <td>New York, NY</td>\n",
              "    </tr>\n",
              "    <tr>\n",
              "      <th>1</th>\n",
              "      <td>Digital Media Planner</td>\n",
              "      <td>http://www.glassdoor.com/partner/jobListing.ht...</td>\n",
              "      <td>GMMB</td>\n",
              "      <td>Washington, DC</td>\n",
              "    </tr>\n",
              "    <tr>\n",
              "      <th>2</th>\n",
              "      <td>Digital Strategist</td>\n",
              "      <td>http://www.glassdoor.com/partner/jobListing.ht...</td>\n",
              "      <td>Crown Equipment</td>\n",
              "      <td>New Bremen, OH</td>\n",
              "    </tr>\n",
              "    <tr>\n",
              "      <th>3</th>\n",
              "      <td>Marketing Strategist</td>\n",
              "      <td>http://www.glassdoor.com/partner/jobListing.ht...</td>\n",
              "      <td>Capstone Search Group</td>\n",
              "      <td>Frederick, MD</td>\n",
              "    </tr>\n",
              "    <tr>\n",
              "      <th>4</th>\n",
              "      <td>Digital Marketing Strategist</td>\n",
              "      <td>http://www.glassdoor.com/partner/jobListing.ht...</td>\n",
              "      <td>TG</td>\n",
              "      <td>Round Rock, TX</td>\n",
              "    </tr>\n",
              "  </tbody>\n",
              "</table>\n",
              "</div>"
            ],
            "text/plain": [
              "                      Job_Title  \\\n",
              "0            Digital Strategist   \n",
              "1         Digital Media Planner   \n",
              "2            Digital Strategist   \n",
              "3          Marketing Strategist   \n",
              "4  Digital Marketing Strategist   \n",
              "\n",
              "                                                URLs           Company_Name  \\\n",
              "0  http://www.glassdoor.com/partner/jobListing.ht...         Artisan Talent   \n",
              "1  http://www.glassdoor.com/partner/jobListing.ht...                   GMMB   \n",
              "2  http://www.glassdoor.com/partner/jobListing.ht...        Crown Equipment   \n",
              "3  http://www.glassdoor.com/partner/jobListing.ht...  Capstone Search Group   \n",
              "4  http://www.glassdoor.com/partner/jobListing.ht...                     TG   \n",
              "\n",
              "         Location  \n",
              "0    New York, NY  \n",
              "1  Washington, DC  \n",
              "2  New Bremen, OH  \n",
              "3   Frederick, MD  \n",
              "4  Round Rock, TX  "
            ]
          },
          "metadata": {
            "tags": []
          },
          "execution_count": 51
        },
        {
          "output_type": "execute_result",
          "data": {
            "text/plain": [
              "91"
            ]
          },
          "metadata": {
            "tags": []
          },
          "execution_count": 51
        },
        {
          "output_type": "execute_result",
          "data": {
            "text/html": [
              "<div>\n",
              "<style scoped>\n",
              "    .dataframe tbody tr th:only-of-type {\n",
              "        vertical-align: middle;\n",
              "    }\n",
              "\n",
              "    .dataframe tbody tr th {\n",
              "        vertical-align: top;\n",
              "    }\n",
              "\n",
              "    .dataframe thead th {\n",
              "        text-align: right;\n",
              "    }\n",
              "</style>\n",
              "<table border=\"1\" class=\"dataframe\">\n",
              "  <thead>\n",
              "    <tr style=\"text-align: right;\">\n",
              "      <th></th>\n",
              "      <th>Job_Title</th>\n",
              "      <th>URLs</th>\n",
              "      <th>Company_Name</th>\n",
              "      <th>Location</th>\n",
              "    </tr>\n",
              "  </thead>\n",
              "  <tbody>\n",
              "    <tr>\n",
              "      <th>0</th>\n",
              "      <td>Marketing Strategist</td>\n",
              "      <td>http://www.glassdoor.com/partner/jobListing.ht...</td>\n",
              "      <td>Capstone Search Group</td>\n",
              "      <td>Frederick, MD</td>\n",
              "    </tr>\n",
              "    <tr>\n",
              "      <th>1</th>\n",
              "      <td>Digital Marketing Strategist</td>\n",
              "      <td>http://www.glassdoor.com/partner/jobListing.ht...</td>\n",
              "      <td>TG</td>\n",
              "      <td>Round Rock, TX</td>\n",
              "    </tr>\n",
              "    <tr>\n",
              "      <th>2</th>\n",
              "      <td>Digital Marketing Strategist</td>\n",
              "      <td>http://www.glassdoor.com/partner/jobListing.ht...</td>\n",
              "      <td>Bay Bird</td>\n",
              "      <td>San Diego, CA</td>\n",
              "    </tr>\n",
              "    <tr>\n",
              "      <th>3</th>\n",
              "      <td>Digital Marketing Specialist</td>\n",
              "      <td>http://www.glassdoor.com/partner/jobListing.ht...</td>\n",
              "      <td>JG Wentworth</td>\n",
              "      <td>Chesterbrook, PA</td>\n",
              "    </tr>\n",
              "    <tr>\n",
              "      <th>4</th>\n",
              "      <td>Digital Marketing Specialist</td>\n",
              "      <td>http://www.glassdoor.com/partner/jobListing.ht...</td>\n",
              "      <td>Trupanion</td>\n",
              "      <td>Seattle, WA</td>\n",
              "    </tr>\n",
              "  </tbody>\n",
              "</table>\n",
              "</div>"
            ],
            "text/plain": [
              "                      Job_Title  \\\n",
              "0          Marketing Strategist   \n",
              "1  Digital Marketing Strategist   \n",
              "2  Digital Marketing Strategist   \n",
              "3  Digital Marketing Specialist   \n",
              "4  Digital Marketing Specialist   \n",
              "\n",
              "                                                URLs           Company_Name  \\\n",
              "0  http://www.glassdoor.com/partner/jobListing.ht...  Capstone Search Group   \n",
              "1  http://www.glassdoor.com/partner/jobListing.ht...                     TG   \n",
              "2  http://www.glassdoor.com/partner/jobListing.ht...               Bay Bird   \n",
              "3  http://www.glassdoor.com/partner/jobListing.ht...           JG Wentworth   \n",
              "4  http://www.glassdoor.com/partner/jobListing.ht...              Trupanion   \n",
              "\n",
              "           Location  \n",
              "0     Frederick, MD  \n",
              "1    Round Rock, TX  \n",
              "2     San Diego, CA  \n",
              "3  Chesterbrook, PA  \n",
              "4       Seattle, WA  "
            ]
          },
          "metadata": {
            "tags": []
          },
          "execution_count": 51
        }
      ]
    },
    {
      "metadata": {
        "id": "aj-h5ZWgQva7",
        "colab_type": "code",
        "colab": {
          "base_uri": "https://localhost:8080/",
          "height": 445
        },
        "outputId": "998f058e-6238-494e-c350-a0481acde97f"
      },
      "cell_type": "code",
      "source": [
        "dig_mkt_strategist_df['Contact Email'] = np.nan\n",
        "dig_mkt_strategist_df['Contact Name'] = np.nan\n",
        "dig_mkt_strategist_df['Contact Position'] = np.nan\n",
        "dig_mkt_strategist_df['Linkedin Sent Date'] = np.nan\n",
        "dig_mkt_strategist_df['Date 1st Email Sent'] = np.nan\n",
        "dig_mkt_strategist_df['date'] = str(datetime.datetime.now())\n",
        "dig_mkt_strategist_df.head()\n",
        "len(dig_mkt_strategist_df)"
      ],
      "execution_count": 52,
      "outputs": [
        {
          "output_type": "execute_result",
          "data": {
            "text/html": [
              "<div>\n",
              "<style scoped>\n",
              "    .dataframe tbody tr th:only-of-type {\n",
              "        vertical-align: middle;\n",
              "    }\n",
              "\n",
              "    .dataframe tbody tr th {\n",
              "        vertical-align: top;\n",
              "    }\n",
              "\n",
              "    .dataframe thead th {\n",
              "        text-align: right;\n",
              "    }\n",
              "</style>\n",
              "<table border=\"1\" class=\"dataframe\">\n",
              "  <thead>\n",
              "    <tr style=\"text-align: right;\">\n",
              "      <th></th>\n",
              "      <th>Job_Title</th>\n",
              "      <th>URLs</th>\n",
              "      <th>Company_Name</th>\n",
              "      <th>Location</th>\n",
              "      <th>Contact Email</th>\n",
              "      <th>Contact Name</th>\n",
              "      <th>Contact Position</th>\n",
              "      <th>Linkedin Sent Date</th>\n",
              "      <th>Date 1st Email Sent</th>\n",
              "      <th>date</th>\n",
              "    </tr>\n",
              "  </thead>\n",
              "  <tbody>\n",
              "    <tr>\n",
              "      <th>0</th>\n",
              "      <td>Marketing Strategist</td>\n",
              "      <td>http://www.glassdoor.com/partner/jobListing.ht...</td>\n",
              "      <td>Capstone Search Group</td>\n",
              "      <td>Frederick, MD</td>\n",
              "      <td>NaN</td>\n",
              "      <td>NaN</td>\n",
              "      <td>NaN</td>\n",
              "      <td>NaN</td>\n",
              "      <td>NaN</td>\n",
              "      <td>2018-08-15 17:53:02.535849</td>\n",
              "    </tr>\n",
              "    <tr>\n",
              "      <th>1</th>\n",
              "      <td>Digital Marketing Strategist</td>\n",
              "      <td>http://www.glassdoor.com/partner/jobListing.ht...</td>\n",
              "      <td>TG</td>\n",
              "      <td>Round Rock, TX</td>\n",
              "      <td>NaN</td>\n",
              "      <td>NaN</td>\n",
              "      <td>NaN</td>\n",
              "      <td>NaN</td>\n",
              "      <td>NaN</td>\n",
              "      <td>2018-08-15 17:53:02.535849</td>\n",
              "    </tr>\n",
              "    <tr>\n",
              "      <th>2</th>\n",
              "      <td>Digital Marketing Strategist</td>\n",
              "      <td>http://www.glassdoor.com/partner/jobListing.ht...</td>\n",
              "      <td>Bay Bird</td>\n",
              "      <td>San Diego, CA</td>\n",
              "      <td>NaN</td>\n",
              "      <td>NaN</td>\n",
              "      <td>NaN</td>\n",
              "      <td>NaN</td>\n",
              "      <td>NaN</td>\n",
              "      <td>2018-08-15 17:53:02.535849</td>\n",
              "    </tr>\n",
              "    <tr>\n",
              "      <th>3</th>\n",
              "      <td>Digital Marketing Specialist</td>\n",
              "      <td>http://www.glassdoor.com/partner/jobListing.ht...</td>\n",
              "      <td>JG Wentworth</td>\n",
              "      <td>Chesterbrook, PA</td>\n",
              "      <td>NaN</td>\n",
              "      <td>NaN</td>\n",
              "      <td>NaN</td>\n",
              "      <td>NaN</td>\n",
              "      <td>NaN</td>\n",
              "      <td>2018-08-15 17:53:02.535849</td>\n",
              "    </tr>\n",
              "    <tr>\n",
              "      <th>4</th>\n",
              "      <td>Digital Marketing Specialist</td>\n",
              "      <td>http://www.glassdoor.com/partner/jobListing.ht...</td>\n",
              "      <td>Trupanion</td>\n",
              "      <td>Seattle, WA</td>\n",
              "      <td>NaN</td>\n",
              "      <td>NaN</td>\n",
              "      <td>NaN</td>\n",
              "      <td>NaN</td>\n",
              "      <td>NaN</td>\n",
              "      <td>2018-08-15 17:53:02.535849</td>\n",
              "    </tr>\n",
              "  </tbody>\n",
              "</table>\n",
              "</div>"
            ],
            "text/plain": [
              "                      Job_Title  \\\n",
              "0          Marketing Strategist   \n",
              "1  Digital Marketing Strategist   \n",
              "2  Digital Marketing Strategist   \n",
              "3  Digital Marketing Specialist   \n",
              "4  Digital Marketing Specialist   \n",
              "\n",
              "                                                URLs           Company_Name  \\\n",
              "0  http://www.glassdoor.com/partner/jobListing.ht...  Capstone Search Group   \n",
              "1  http://www.glassdoor.com/partner/jobListing.ht...                     TG   \n",
              "2  http://www.glassdoor.com/partner/jobListing.ht...               Bay Bird   \n",
              "3  http://www.glassdoor.com/partner/jobListing.ht...           JG Wentworth   \n",
              "4  http://www.glassdoor.com/partner/jobListing.ht...              Trupanion   \n",
              "\n",
              "           Location  Contact Email  Contact Name  Contact Position  \\\n",
              "0     Frederick, MD            NaN           NaN               NaN   \n",
              "1    Round Rock, TX            NaN           NaN               NaN   \n",
              "2     San Diego, CA            NaN           NaN               NaN   \n",
              "3  Chesterbrook, PA            NaN           NaN               NaN   \n",
              "4       Seattle, WA            NaN           NaN               NaN   \n",
              "\n",
              "   Linkedin Sent Date  Date 1st Email Sent                        date  \n",
              "0                 NaN                  NaN  2018-08-15 17:53:02.535849  \n",
              "1                 NaN                  NaN  2018-08-15 17:53:02.535849  \n",
              "2                 NaN                  NaN  2018-08-15 17:53:02.535849  \n",
              "3                 NaN                  NaN  2018-08-15 17:53:02.535849  \n",
              "4                 NaN                  NaN  2018-08-15 17:53:02.535849  "
            ]
          },
          "metadata": {
            "tags": []
          },
          "execution_count": 52
        },
        {
          "output_type": "execute_result",
          "data": {
            "text/plain": [
              "91"
            ]
          },
          "metadata": {
            "tags": []
          },
          "execution_count": 52
        }
      ]
    },
    {
      "metadata": {
        "id": "R6VXG0FvdLBc",
        "colab_type": "text"
      },
      "cell_type": "markdown",
      "source": [
        "## Merge"
      ]
    },
    {
      "metadata": {
        "id": "6C3mHMihdLBc",
        "colab_type": "code",
        "colab": {
          "base_uri": "https://localhost:8080/",
          "height": 428
        },
        "outputId": "8efb1352-ecbe-44ce-90be-6ab366af3c79"
      },
      "cell_type": "code",
      "source": [
        "data = pd.concat([vpmkt_df,digitalmkt_df,seo_df,ecommerce_df,ppc_df,digitalmkt_asso_df,sem_df,dig_mkt_strategist_df])\n",
        "data.head()"
      ],
      "execution_count": 53,
      "outputs": [
        {
          "output_type": "execute_result",
          "data": {
            "text/html": [
              "<div>\n",
              "<style scoped>\n",
              "    .dataframe tbody tr th:only-of-type {\n",
              "        vertical-align: middle;\n",
              "    }\n",
              "\n",
              "    .dataframe tbody tr th {\n",
              "        vertical-align: top;\n",
              "    }\n",
              "\n",
              "    .dataframe thead th {\n",
              "        text-align: right;\n",
              "    }\n",
              "</style>\n",
              "<table border=\"1\" class=\"dataframe\">\n",
              "  <thead>\n",
              "    <tr style=\"text-align: right;\">\n",
              "      <th></th>\n",
              "      <th>Job_Title</th>\n",
              "      <th>URLs</th>\n",
              "      <th>Company_Name</th>\n",
              "      <th>Location</th>\n",
              "      <th>Contact Email</th>\n",
              "      <th>Contact Name</th>\n",
              "      <th>Contact Position</th>\n",
              "      <th>Linkedin Sent Date</th>\n",
              "      <th>Date 1st Email Sent</th>\n",
              "      <th>date</th>\n",
              "    </tr>\n",
              "  </thead>\n",
              "  <tbody>\n",
              "    <tr>\n",
              "      <th>0</th>\n",
              "      <td>Director of Marketing</td>\n",
              "      <td>http://www.glassdoor.com/partner/jobListing.ht...</td>\n",
              "      <td>LandaJob Advertising &amp; Marketing Talent</td>\n",
              "      <td>Kansas City, MO</td>\n",
              "      <td>NaN</td>\n",
              "      <td>NaN</td>\n",
              "      <td>NaN</td>\n",
              "      <td>NaN</td>\n",
              "      <td>NaN</td>\n",
              "      <td>2018-08-15 17:28:16.510522</td>\n",
              "    </tr>\n",
              "    <tr>\n",
              "      <th>1</th>\n",
              "      <td>VP Marketing</td>\n",
              "      <td>http://www.glassdoor.com/partner/jobListing.ht...</td>\n",
              "      <td>Lai Ventures - For Early Stage Client</td>\n",
              "      <td>Scottsdale, AZ</td>\n",
              "      <td>NaN</td>\n",
              "      <td>NaN</td>\n",
              "      <td>NaN</td>\n",
              "      <td>NaN</td>\n",
              "      <td>NaN</td>\n",
              "      <td>2018-08-15 17:28:16.510522</td>\n",
              "    </tr>\n",
              "    <tr>\n",
              "      <th>2</th>\n",
              "      <td>VP of eCommerce Marketing</td>\n",
              "      <td>http://www.glassdoor.com/partner/jobListing.ht...</td>\n",
              "      <td>RealTruck</td>\n",
              "      <td>Ocala, FL</td>\n",
              "      <td>NaN</td>\n",
              "      <td>NaN</td>\n",
              "      <td>NaN</td>\n",
              "      <td>NaN</td>\n",
              "      <td>NaN</td>\n",
              "      <td>2018-08-15 17:28:16.510522</td>\n",
              "    </tr>\n",
              "    <tr>\n",
              "      <th>3</th>\n",
              "      <td>Marketing Analyst</td>\n",
              "      <td>http://www.glassdoor.com/partner/jobListing.ht...</td>\n",
              "      <td>Owlet Baby Care</td>\n",
              "      <td>Lehi, UT</td>\n",
              "      <td>NaN</td>\n",
              "      <td>NaN</td>\n",
              "      <td>NaN</td>\n",
              "      <td>NaN</td>\n",
              "      <td>NaN</td>\n",
              "      <td>2018-08-15 17:28:16.510522</td>\n",
              "    </tr>\n",
              "    <tr>\n",
              "      <th>4</th>\n",
              "      <td>VP, Marketing</td>\n",
              "      <td>http://www.glassdoor.com/partner/jobListing.ht...</td>\n",
              "      <td>Walt Disney Company</td>\n",
              "      <td>Burbank, CA</td>\n",
              "      <td>NaN</td>\n",
              "      <td>NaN</td>\n",
              "      <td>NaN</td>\n",
              "      <td>NaN</td>\n",
              "      <td>NaN</td>\n",
              "      <td>2018-08-15 17:28:16.510522</td>\n",
              "    </tr>\n",
              "  </tbody>\n",
              "</table>\n",
              "</div>"
            ],
            "text/plain": [
              "                   Job_Title  \\\n",
              "0      Director of Marketing   \n",
              "1               VP Marketing   \n",
              "2  VP of eCommerce Marketing   \n",
              "3          Marketing Analyst   \n",
              "4              VP, Marketing   \n",
              "\n",
              "                                                URLs  \\\n",
              "0  http://www.glassdoor.com/partner/jobListing.ht...   \n",
              "1  http://www.glassdoor.com/partner/jobListing.ht...   \n",
              "2  http://www.glassdoor.com/partner/jobListing.ht...   \n",
              "3  http://www.glassdoor.com/partner/jobListing.ht...   \n",
              "4  http://www.glassdoor.com/partner/jobListing.ht...   \n",
              "\n",
              "                              Company_Name         Location  Contact Email  \\\n",
              "0  LandaJob Advertising & Marketing Talent  Kansas City, MO            NaN   \n",
              "1    Lai Ventures - For Early Stage Client   Scottsdale, AZ            NaN   \n",
              "2                                RealTruck        Ocala, FL            NaN   \n",
              "3                          Owlet Baby Care         Lehi, UT            NaN   \n",
              "4                      Walt Disney Company      Burbank, CA            NaN   \n",
              "\n",
              "   Contact Name  Contact Position  Linkedin Sent Date  Date 1st Email Sent  \\\n",
              "0           NaN               NaN                 NaN                  NaN   \n",
              "1           NaN               NaN                 NaN                  NaN   \n",
              "2           NaN               NaN                 NaN                  NaN   \n",
              "3           NaN               NaN                 NaN                  NaN   \n",
              "4           NaN               NaN                 NaN                  NaN   \n",
              "\n",
              "                         date  \n",
              "0  2018-08-15 17:28:16.510522  \n",
              "1  2018-08-15 17:28:16.510522  \n",
              "2  2018-08-15 17:28:16.510522  \n",
              "3  2018-08-15 17:28:16.510522  \n",
              "4  2018-08-15 17:28:16.510522  "
            ]
          },
          "metadata": {
            "tags": []
          },
          "execution_count": 53
        }
      ]
    },
    {
      "metadata": {
        "id": "Fg64XwaldLBf",
        "colab_type": "code",
        "colab": {
          "base_uri": "https://localhost:8080/",
          "height": 54
        },
        "outputId": "10d3fa28-738e-401c-e039-e65f9b85db41"
      },
      "cell_type": "code",
      "source": [
        "len(data)\n",
        "data = data.drop_duplicates(subset=['Company_Name']).reset_index(drop=True)\n"
      ],
      "execution_count": 54,
      "outputs": [
        {
          "output_type": "execute_result",
          "data": {
            "text/plain": [
              "2197"
            ]
          },
          "metadata": {
            "tags": []
          },
          "execution_count": 54
        }
      ]
    },
    {
      "metadata": {
        "id": "_C_-FKqDdur3",
        "colab_type": "code",
        "colab": {
          "base_uri": "https://localhost:8080/",
          "height": 54
        },
        "outputId": "022388cf-3e86-45e7-ef67-3e057b7022cb"
      },
      "cell_type": "code",
      "source": [
        "len(data)"
      ],
      "execution_count": 55,
      "outputs": [
        {
          "output_type": "execute_result",
          "data": {
            "text/plain": [
              "942"
            ]
          },
          "metadata": {
            "tags": []
          },
          "execution_count": 55
        }
      ]
    },
    {
      "metadata": {
        "id": "Wuy-ROMHdLBi",
        "colab_type": "code",
        "colab": {
          "base_uri": "https://localhost:8080/",
          "height": 54
        },
        "outputId": "8c681391-9e45-4254-b57d-b7ae7d88060f"
      },
      "cell_type": "code",
      "source": [
        "data['Company_Name'] = data['Company_Name'].apply(lambda x: 'None' if x in Excluded_List else x)\n",
        "data = data[~(data['Company_Name'].str.contains(\"None\"))]\n",
        "len(data)"
      ],
      "execution_count": 56,
      "outputs": [
        {
          "output_type": "execute_result",
          "data": {
            "text/plain": [
              "892"
            ]
          },
          "metadata": {
            "tags": []
          },
          "execution_count": 56
        }
      ]
    },
    {
      "metadata": {
        "id": "LzeBti8FdLBk",
        "colab_type": "code",
        "colab": {
          "base_uri": "https://localhost:8080/",
          "height": 54
        },
        "outputId": "6fdb02fa-4bf0-4925-e84c-5ad83b50a87b"
      },
      "cell_type": "code",
      "source": [
        "len(data)\n",
        "data = data[~data['Job_Title'].str.contains(\"|\".join(Excluded_jobs),flags=re.IGNORECASE)]\n",
        "data = data[~data['Company_Name'].str.contains(\"|\".join(Big_Company_names),flags=re.IGNORECASE)]\n",
        "data = data.reset_index(drop=True)"
      ],
      "execution_count": 57,
      "outputs": [
        {
          "output_type": "execute_result",
          "data": {
            "text/plain": [
              "892"
            ]
          },
          "metadata": {
            "tags": []
          },
          "execution_count": 57
        }
      ]
    },
    {
      "metadata": {
        "id": "O-gPi6kjdwYy",
        "colab_type": "code",
        "colab": {
          "base_uri": "https://localhost:8080/",
          "height": 54
        },
        "outputId": "874aeae7-6d00-468c-9ff0-978135b33303"
      },
      "cell_type": "code",
      "source": [
        "len(data)"
      ],
      "execution_count": 58,
      "outputs": [
        {
          "output_type": "execute_result",
          "data": {
            "text/plain": [
              "139"
            ]
          },
          "metadata": {
            "tags": []
          },
          "execution_count": 58
        }
      ]
    },
    {
      "metadata": {
        "id": "i4OK96i4dLBn",
        "colab_type": "code",
        "colab": {}
      },
      "cell_type": "code",
      "source": [
        "from google.colab import auth\n",
        "auth.authenticate_user()\n",
        "\n",
        "import gspread\n",
        "from oauth2client.client import GoogleCredentials\n",
        "\n",
        "gc = gspread.authorize(GoogleCredentials.get_application_default())\n"
      ],
      "execution_count": 0,
      "outputs": []
    },
    {
      "metadata": {
        "id": "vRcZG80YdLBt",
        "colab_type": "code",
        "colab": {}
      },
      "cell_type": "code",
      "source": [
        "worksheet = gc.open('Business Development')\n",
        "glassdoor = worksheet.worksheet(\"Glassdoor_Database\")\n",
        "glassdoor = glassdoor.get_all_values()\n",
        "glassdoor_df = pd.DataFrame.from_records(glassdoor)\n",
        "glassdoor_df.columns = glassdoor_df.iloc[0]\n",
        "glassdoor_df = glassdoor_df.iloc[1:]"
      ],
      "execution_count": 0,
      "outputs": []
    },
    {
      "metadata": {
        "id": "jV0L6S8odLBx",
        "colab_type": "code",
        "colab": {
          "base_uri": "https://localhost:8080/",
          "height": 445
        },
        "outputId": "a74fcce0-6c0d-48ef-c43d-86b91a6465ee"
      },
      "cell_type": "code",
      "source": [
        "new_data = pd.concat([glassdoor_df,data])\n",
        "new_data = new_data.reset_index(drop=True)\n",
        "new_data.tail()"
      ],
      "execution_count": 61,
      "outputs": [
        {
          "output_type": "execute_result",
          "data": {
            "text/html": [
              "<div>\n",
              "<style scoped>\n",
              "    .dataframe tbody tr th:only-of-type {\n",
              "        vertical-align: middle;\n",
              "    }\n",
              "\n",
              "    .dataframe tbody tr th {\n",
              "        vertical-align: top;\n",
              "    }\n",
              "\n",
              "    .dataframe thead th {\n",
              "        text-align: right;\n",
              "    }\n",
              "</style>\n",
              "<table border=\"1\" class=\"dataframe\">\n",
              "  <thead>\n",
              "    <tr style=\"text-align: right;\">\n",
              "      <th></th>\n",
              "      <th>Company_Name</th>\n",
              "      <th>Contact Email</th>\n",
              "      <th>Contact Name</th>\n",
              "      <th>Contact Position</th>\n",
              "      <th>Date 1st Email Sent</th>\n",
              "      <th>Job_Title</th>\n",
              "      <th>Linkedin Sent Date</th>\n",
              "      <th>Location</th>\n",
              "      <th>States</th>\n",
              "      <th>URLs</th>\n",
              "      <th>date</th>\n",
              "    </tr>\n",
              "  </thead>\n",
              "  <tbody>\n",
              "    <tr>\n",
              "      <th>3165</th>\n",
              "      <td>Architecture/Interior Design Firm</td>\n",
              "      <td>NaN</td>\n",
              "      <td>NaN</td>\n",
              "      <td>NaN</td>\n",
              "      <td>NaN</td>\n",
              "      <td>Administrative / Marketing Assistant</td>\n",
              "      <td>NaN</td>\n",
              "      <td>New York, NY</td>\n",
              "      <td>NaN</td>\n",
              "      <td>http://www.glassdoor.com/partner/jobListing.ht...</td>\n",
              "      <td>2018-08-15 17:42:31.679386</td>\n",
              "    </tr>\n",
              "    <tr>\n",
              "      <th>3166</th>\n",
              "      <td>CreativeLive</td>\n",
              "      <td>NaN</td>\n",
              "      <td>NaN</td>\n",
              "      <td>NaN</td>\n",
              "      <td>NaN</td>\n",
              "      <td>Paid Marketing Strategist</td>\n",
              "      <td>NaN</td>\n",
              "      <td>San Francisco, CA</td>\n",
              "      <td>NaN</td>\n",
              "      <td>http://www.glassdoor.com/partner/jobListing.ht...</td>\n",
              "      <td>2018-08-15 17:53:02.535849</td>\n",
              "    </tr>\n",
              "    <tr>\n",
              "      <th>3167</th>\n",
              "      <td>Hackensack Meridian Health</td>\n",
              "      <td>NaN</td>\n",
              "      <td>NaN</td>\n",
              "      <td>NaN</td>\n",
              "      <td>NaN</td>\n",
              "      <td>Marketing Strategist, HUMC</td>\n",
              "      <td>NaN</td>\n",
              "      <td>Hackensack, NJ</td>\n",
              "      <td>NaN</td>\n",
              "      <td>http://www.glassdoor.com/partner/jobListing.ht...</td>\n",
              "      <td>2018-08-15 17:53:02.535849</td>\n",
              "    </tr>\n",
              "    <tr>\n",
              "      <th>3168</th>\n",
              "      <td>SEDAA</td>\n",
              "      <td>NaN</td>\n",
              "      <td>NaN</td>\n",
              "      <td>NaN</td>\n",
              "      <td>NaN</td>\n",
              "      <td>Marketing strategist</td>\n",
              "      <td>NaN</td>\n",
              "      <td>San Francisco, CA</td>\n",
              "      <td>NaN</td>\n",
              "      <td>http://www.glassdoor.com/partner/jobListing.ht...</td>\n",
              "      <td>2018-08-15 17:53:02.535849</td>\n",
              "    </tr>\n",
              "    <tr>\n",
              "      <th>3169</th>\n",
              "      <td>Ameris Bank</td>\n",
              "      <td>NaN</td>\n",
              "      <td>NaN</td>\n",
              "      <td>NaN</td>\n",
              "      <td>NaN</td>\n",
              "      <td>Mortgage Marketing Strategist</td>\n",
              "      <td>NaN</td>\n",
              "      <td>Marietta, GA</td>\n",
              "      <td>NaN</td>\n",
              "      <td>http://www.glassdoor.com/partner/jobListing.ht...</td>\n",
              "      <td>2018-08-15 17:53:02.535849</td>\n",
              "    </tr>\n",
              "  </tbody>\n",
              "</table>\n",
              "</div>"
            ],
            "text/plain": [
              "                           Company_Name Contact Email Contact Name  \\\n",
              "3165  Architecture/Interior Design Firm           NaN          NaN   \n",
              "3166                       CreativeLive           NaN          NaN   \n",
              "3167         Hackensack Meridian Health           NaN          NaN   \n",
              "3168                              SEDAA           NaN          NaN   \n",
              "3169                        Ameris Bank           NaN          NaN   \n",
              "\n",
              "     Contact Position Date 1st Email Sent  \\\n",
              "3165              NaN                 NaN   \n",
              "3166              NaN                 NaN   \n",
              "3167              NaN                 NaN   \n",
              "3168              NaN                 NaN   \n",
              "3169              NaN                 NaN   \n",
              "\n",
              "                                 Job_Title Linkedin Sent Date  \\\n",
              "3165  Administrative / Marketing Assistant                NaN   \n",
              "3166             Paid Marketing Strategist                NaN   \n",
              "3167            Marketing Strategist, HUMC                NaN   \n",
              "3168                  Marketing strategist                NaN   \n",
              "3169         Mortgage Marketing Strategist                NaN   \n",
              "\n",
              "               Location States  \\\n",
              "3165       New York, NY    NaN   \n",
              "3166  San Francisco, CA    NaN   \n",
              "3167     Hackensack, NJ    NaN   \n",
              "3168  San Francisco, CA    NaN   \n",
              "3169       Marietta, GA    NaN   \n",
              "\n",
              "                                                   URLs  \\\n",
              "3165  http://www.glassdoor.com/partner/jobListing.ht...   \n",
              "3166  http://www.glassdoor.com/partner/jobListing.ht...   \n",
              "3167  http://www.glassdoor.com/partner/jobListing.ht...   \n",
              "3168  http://www.glassdoor.com/partner/jobListing.ht...   \n",
              "3169  http://www.glassdoor.com/partner/jobListing.ht...   \n",
              "\n",
              "                            date  \n",
              "3165  2018-08-15 17:42:31.679386  \n",
              "3166  2018-08-15 17:53:02.535849  \n",
              "3167  2018-08-15 17:53:02.535849  \n",
              "3168  2018-08-15 17:53:02.535849  \n",
              "3169  2018-08-15 17:53:02.535849  "
            ]
          },
          "metadata": {
            "tags": []
          },
          "execution_count": 61
        }
      ]
    },
    {
      "metadata": {
        "id": "ummq-E76dLB1",
        "colab_type": "code",
        "colab": {
          "base_uri": "https://localhost:8080/",
          "height": 54
        },
        "outputId": "4d5178ec-bee9-45f9-8a3f-6a54e6e69dc5"
      },
      "cell_type": "code",
      "source": [
        "len(new_data)"
      ],
      "execution_count": 62,
      "outputs": [
        {
          "output_type": "execute_result",
          "data": {
            "text/plain": [
              "3170"
            ]
          },
          "metadata": {
            "tags": []
          },
          "execution_count": 62
        }
      ]
    },
    {
      "metadata": {
        "id": "YlywmTzYdLB6",
        "colab_type": "code",
        "colab": {
          "base_uri": "https://localhost:8080/",
          "height": 54
        },
        "outputId": "75c638bc-8a9d-412b-c3fb-8db128823c7e"
      },
      "cell_type": "code",
      "source": [
        "len(new_data)\n",
        "new_data = new_data.drop_duplicates(subset=['Company_Name']).reset_index(drop=True)\n"
      ],
      "execution_count": 63,
      "outputs": [
        {
          "output_type": "execute_result",
          "data": {
            "text/plain": [
              "3170"
            ]
          },
          "metadata": {
            "tags": []
          },
          "execution_count": 63
        }
      ]
    },
    {
      "metadata": {
        "id": "8xyHLqAxdLB_",
        "colab_type": "code",
        "colab": {
          "base_uri": "https://localhost:8080/",
          "height": 54
        },
        "outputId": "c737ca65-59ba-459f-c72b-80aa864cf0c4"
      },
      "cell_type": "code",
      "source": [
        "len(new_data)"
      ],
      "execution_count": 64,
      "outputs": [
        {
          "output_type": "execute_result",
          "data": {
            "text/plain": [
              "3118"
            ]
          },
          "metadata": {
            "tags": []
          },
          "execution_count": 64
        }
      ]
    },
    {
      "metadata": {
        "id": "AuRvYNJxdLCJ",
        "colab_type": "code",
        "colab": {}
      },
      "cell_type": "code",
      "source": [
        "import gspread_dataframe as gd\n",
        "a = worksheet.worksheet(\"Glassdoor_Database\")\n",
        "gd.set_with_dataframe(a,new_data)"
      ],
      "execution_count": 0,
      "outputs": []
    },
    {
      "metadata": {
        "id": "AQjQliMrqEBE",
        "colab_type": "code",
        "colab": {}
      },
      "cell_type": "code",
      "source": [
        ""
      ],
      "execution_count": 0,
      "outputs": []
    },
    {
      "metadata": {
        "id": "WTO76GntzXBA",
        "colab_type": "code",
        "colab": {}
      },
      "cell_type": "code",
      "source": [
        ""
      ],
      "execution_count": 0,
      "outputs": []
    }
  ]
}